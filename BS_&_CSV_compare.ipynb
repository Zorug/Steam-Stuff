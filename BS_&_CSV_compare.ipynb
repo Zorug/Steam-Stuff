{
  "nbformat": 4,
  "nbformat_minor": 0,
  "metadata": {
    "colab": {
      "name": "BS & CSV compare.ipynb",
      "provenance": [],
      "collapsed_sections": [],
      "include_colab_link": true
    },
    "kernelspec": {
      "name": "python3",
      "display_name": "Python 3"
    },
    "accelerator": "GPU"
  },
  "cells": [
    {
      "cell_type": "markdown",
      "metadata": {
        "id": "view-in-github",
        "colab_type": "text"
      },
      "source": [
        "<a href=\"https://colab.research.google.com/github/Zorug/Steam-Stuff/blob/master/BS_%26_CSV_compare.ipynb\" target=\"_parent\"><img src=\"https://colab.research.google.com/assets/colab-badge.svg\" alt=\"Open In Colab\"/></a>"
      ]
    },
    {
      "cell_type": "markdown",
      "metadata": {
        "id": "hLL8czQteHs3",
        "colab_type": "text"
      },
      "source": [
        "# Info"
      ]
    },
    {
      "cell_type": "markdown",
      "metadata": {
        "id": "2zf8N2w3S4CY",
        "colab_type": "text"
      },
      "source": [
        "comparação com os dados do site: https://www.steamcardexchange.net "
      ]
    },
    {
      "cell_type": "markdown",
      "metadata": {
        "id": "3BfUlIJSS7Uw",
        "colab_type": "text"
      },
      "source": [
        "extração do csv: https://steam.tools/cards/"
      ]
    },
    {
      "cell_type": "code",
      "metadata": {
        "id": "x2rkhROFT4RW",
        "colab_type": "code",
        "outputId": "2423882f-4dc1-48fb-e94d-df10665b633e",
        "colab": {
          "base_uri": "https://localhost:8080/",
          "height": 53
        }
      },
      "source": [
        "\"\"\" info da columns:\n",
        "Game: Name of the set's game\n",
        "# Cards: Number of cards in the set\n",
        "Set Price: The total price of all the cards for the set\n",
        "Card Avg: The averege price of a card in the set\n",
        "Booster Avg: The average price of a card from the set's booster\n",
        "Booster %: How many percent cheaper avarage booster cards are for the set\n",
        "Emote Avg: The average price of the set's emoticons\n",
        "BG Avg: The average price of the set's bachgrounds\n",
        "Avg Qty: The average quantity of items on the market\n",
        "Discount: The money you would make by selling all your drops for that game\n",
        "Added: The date the set was added\n",
        "\"\"\""
      ],
      "execution_count": 0,
      "outputs": [
        {
          "output_type": "execute_result",
          "data": {
            "text/plain": [
              "\" info da columns:\\nGame: Name of the set's game\\n# Cards: Number of cards in the set\\nSet Price: The total price of all the cards for the set\\nCard Avg: The averege price of a card in the set\\nBooster Avg: The average price of a card from the set's booster\\nBooster %: How many percent cheaper avarage booster cards are for the set\\nEmote Avg: The average price of the set's emoticons\\nBG Avg: The average price of the set's bachgrounds\\nAvg Qty: The average quantity of items on the market\\nDiscount: The money you would make by selling all your drops for that game\\nAdded: The date the set was added\\n\""
            ]
          },
          "metadata": {
            "tags": []
          },
          "execution_count": 3
        }
      ]
    },
    {
      "cell_type": "markdown",
      "metadata": {
        "id": "GVMjJGctd-em",
        "colab_type": "text"
      },
      "source": [
        "# Importanto libs e dados"
      ]
    },
    {
      "cell_type": "code",
      "metadata": {
        "id": "_fS0d3yJSo6G",
        "colab_type": "code",
        "outputId": "92856299-8ea3-44f2-fee6-175772b455b9",
        "colab": {
          "base_uri": "https://localhost:8080/",
          "height": 33
        }
      },
      "source": [
        "import pandas as pd\n",
        "\n",
        "#csv_source = 'STC_set_data.csv'\n",
        "csv_source = 'https://raw.githubusercontent.com/Zorug/Steam-Stuff/master/STC_set_data.csv'\n",
        "dados_csv = pd.read_csv(csv_source)\n",
        "qnt_dados = dados_csv.shape[0]\n",
        "qnt_dados"
      ],
      "execution_count": 0,
      "outputs": [
        {
          "output_type": "execute_result",
          "data": {
            "text/plain": [
              "9156"
            ]
          },
          "metadata": {
            "tags": []
          },
          "execution_count": 4
        }
      ]
    },
    {
      "cell_type": "code",
      "metadata": {
        "id": "xjJSi_TAT3AA",
        "colab_type": "code",
        "outputId": "5220447a-1c40-42e2-dba3-2cf5dd103536",
        "colab": {
          "base_uri": "https://localhost:8080/",
          "height": 153
        }
      },
      "source": [
        "dados_csv.sample(2)"
      ],
      "execution_count": 0,
      "outputs": [
        {
          "output_type": "execute_result",
          "data": {
            "text/html": [
              "<div>\n",
              "<style scoped>\n",
              "    .dataframe tbody tr th:only-of-type {\n",
              "        vertical-align: middle;\n",
              "    }\n",
              "\n",
              "    .dataframe tbody tr th {\n",
              "        vertical-align: top;\n",
              "    }\n",
              "\n",
              "    .dataframe thead th {\n",
              "        text-align: right;\n",
              "    }\n",
              "</style>\n",
              "<table border=\"1\" class=\"dataframe\">\n",
              "  <thead>\n",
              "    <tr style=\"text-align: right;\">\n",
              "      <th></th>\n",
              "      <th>Game</th>\n",
              "      <th># Owned</th>\n",
              "      <th># Unique</th>\n",
              "      <th># Cards</th>\n",
              "      <th>Badge Lvl</th>\n",
              "      <th>Set Price</th>\n",
              "      <th>Price Diff</th>\n",
              "      <th>Card Avg</th>\n",
              "      <th>Booster Avg</th>\n",
              "      <th>Booster %</th>\n",
              "      <th>Emote Avg</th>\n",
              "      <th>BG Avg</th>\n",
              "      <th>Avg Qty</th>\n",
              "      <th>Discount</th>\n",
              "      <th>Added</th>\n",
              "      <th>AppId</th>\n",
              "    </tr>\n",
              "  </thead>\n",
              "  <tbody>\n",
              "    <tr>\n",
              "      <th>7084</th>\n",
              "      <td>Replay - VHS is not dead</td>\n",
              "      <td>0</td>\n",
              "      <td>0</td>\n",
              "      <td>10</td>\n",
              "      <td>0</td>\n",
              "      <td>0.48</td>\n",
              "      <td>0.48</td>\n",
              "      <td>0.05</td>\n",
              "      <td>0.03</td>\n",
              "      <td>40.0</td>\n",
              "      <td>0.06</td>\n",
              "      <td>0.07</td>\n",
              "      <td>71</td>\n",
              "      <td>0.22</td>\n",
              "      <td>2015-07-07</td>\n",
              "      <td>333490</td>\n",
              "    </tr>\n",
              "    <tr>\n",
              "      <th>1162</th>\n",
              "      <td>Vantage: Primitive Survival Game</td>\n",
              "      <td>0</td>\n",
              "      <td>0</td>\n",
              "      <td>10</td>\n",
              "      <td>0</td>\n",
              "      <td>1.30</td>\n",
              "      <td>1.30</td>\n",
              "      <td>0.13</td>\n",
              "      <td>NaN</td>\n",
              "      <td>0.0</td>\n",
              "      <td>0.00</td>\n",
              "      <td>1.16</td>\n",
              "      <td>11</td>\n",
              "      <td>0.57</td>\n",
              "      <td>2018-04-30</td>\n",
              "      <td>342910</td>\n",
              "    </tr>\n",
              "  </tbody>\n",
              "</table>\n",
              "</div>"
            ],
            "text/plain": [
              "                                  Game  # Owned  ...       Added   AppId\n",
              "7084          Replay - VHS is not dead        0  ...  2015-07-07  333490\n",
              "1162  Vantage: Primitive Survival Game        0  ...  2018-04-30  342910\n",
              "\n",
              "[2 rows x 16 columns]"
            ]
          },
          "metadata": {
            "tags": []
          },
          "execution_count": 5
        }
      ]
    },
    {
      "cell_type": "markdown",
      "metadata": {
        "id": "h9IC2rejiEo5",
        "colab_type": "text"
      },
      "source": [
        "#Organizando DataSet"
      ]
    },
    {
      "cell_type": "markdown",
      "metadata": {
        "id": "JuiPnm2IjDhl",
        "colab_type": "text"
      },
      "source": [
        "## Limpeza das colunas"
      ]
    },
    {
      "cell_type": "code",
      "metadata": {
        "id": "TwgiVJc8aa7f",
        "colab_type": "code",
        "colab": {}
      },
      "source": [
        "dados_csv = dados_csv.drop(['# Owned', '# Unique', 'Badge Lvl','Emote Avg', 'BG Avg', 'Discount', 'Added'], axis = 1)"
      ],
      "execution_count": 0,
      "outputs": []
    },
    {
      "cell_type": "code",
      "metadata": {
        "id": "tV5gdIBSZddQ",
        "colab_type": "code",
        "outputId": "4b10d965-6772-42bb-872e-3f4b79074090",
        "colab": {
          "base_uri": "https://localhost:8080/",
          "height": 105
        }
      },
      "source": [
        "dados_csv.sample(2)"
      ],
      "execution_count": 0,
      "outputs": [
        {
          "output_type": "execute_result",
          "data": {
            "text/html": [
              "<div>\n",
              "<style scoped>\n",
              "    .dataframe tbody tr th:only-of-type {\n",
              "        vertical-align: middle;\n",
              "    }\n",
              "\n",
              "    .dataframe tbody tr th {\n",
              "        vertical-align: top;\n",
              "    }\n",
              "\n",
              "    .dataframe thead th {\n",
              "        text-align: right;\n",
              "    }\n",
              "</style>\n",
              "<table border=\"1\" class=\"dataframe\">\n",
              "  <thead>\n",
              "    <tr style=\"text-align: right;\">\n",
              "      <th></th>\n",
              "      <th>Game</th>\n",
              "      <th># Cards</th>\n",
              "      <th>Set Price</th>\n",
              "      <th>Price Diff</th>\n",
              "      <th>Card Avg</th>\n",
              "      <th>Booster Avg</th>\n",
              "      <th>Booster %</th>\n",
              "      <th>Avg Qty</th>\n",
              "      <th>AppId</th>\n",
              "    </tr>\n",
              "  </thead>\n",
              "  <tbody>\n",
              "    <tr>\n",
              "      <th>319</th>\n",
              "      <td>Skyland: Heart of the Mountain</td>\n",
              "      <td>5</td>\n",
              "      <td>1.07</td>\n",
              "      <td>1.07</td>\n",
              "      <td>0.21</td>\n",
              "      <td>NaN</td>\n",
              "      <td>0.0</td>\n",
              "      <td>33</td>\n",
              "      <td>949800</td>\n",
              "    </tr>\n",
              "    <tr>\n",
              "      <th>8578</th>\n",
              "      <td>FaeVerse Alchemy</td>\n",
              "      <td>12</td>\n",
              "      <td>0.59</td>\n",
              "      <td>0.59</td>\n",
              "      <td>0.05</td>\n",
              "      <td>0.03</td>\n",
              "      <td>40.0</td>\n",
              "      <td>176</td>\n",
              "      <td>282880</td>\n",
              "    </tr>\n",
              "  </tbody>\n",
              "</table>\n",
              "</div>"
            ],
            "text/plain": [
              "                                Game  # Cards  ... Avg Qty   AppId\n",
              "319   Skyland: Heart of the Mountain        5  ...      33  949800\n",
              "8578                FaeVerse Alchemy       12  ...     176  282880\n",
              "\n",
              "[2 rows x 9 columns]"
            ]
          },
          "metadata": {
            "tags": []
          },
          "execution_count": 7
        }
      ]
    },
    {
      "cell_type": "markdown",
      "metadata": {
        "id": "d0eTFdOxj4RE",
        "colab_type": "text"
      },
      "source": [
        "##Formatação dos tipos"
      ]
    },
    {
      "cell_type": "code",
      "metadata": {
        "id": "_GFZk5nTetX0",
        "colab_type": "code",
        "outputId": "82bf50a1-afd6-47bf-9d32-dd516b559cf1",
        "colab": {
          "base_uri": "https://localhost:8080/",
          "height": 180
        }
      },
      "source": [
        "dados_csv.dtypes"
      ],
      "execution_count": 0,
      "outputs": [
        {
          "output_type": "execute_result",
          "data": {
            "text/plain": [
              "Game            object\n",
              "# Cards          int64\n",
              "Set Price       object\n",
              "Price Diff      object\n",
              "Card Avg       float64\n",
              "Booster Avg    float64\n",
              "Booster %       object\n",
              "Avg Qty          int64\n",
              "AppId            int64\n",
              "dtype: object"
            ]
          },
          "metadata": {
            "tags": []
          },
          "execution_count": 8
        }
      ]
    },
    {
      "cell_type": "code",
      "metadata": {
        "id": "iyAABwkcjw4m",
        "colab_type": "code",
        "colab": {}
      },
      "source": [
        "def remove_virgula_perdida(sentenca): # aqui estamos esvitando um erro de conversão\n",
        "    sentenca = sentenca.replace(',','')\n",
        "    return sentenca"
      ],
      "execution_count": 0,
      "outputs": []
    },
    {
      "cell_type": "code",
      "metadata": {
        "id": "Lhg9dCrskCaK",
        "colab_type": "code",
        "outputId": "e1cb3813-4993-4dde-c8c9-03555a4772cd",
        "colab": {
          "base_uri": "https://localhost:8080/",
          "height": 180
        }
      },
      "source": [
        "para_float = ['Set Price', 'Price Diff', 'Booster %']\n",
        "for coluna in dados_csv[para_float]:\n",
        "    dados_csv[coluna] = dados_csv[coluna].apply(remove_virgula_perdida)\n",
        "\n",
        "dados_csv[para_float] = dados_csv[para_float].astype('float64')\n",
        "dados_csv['AppId'] = dados_csv['AppId'].astype('str')\n",
        "\n",
        "dados_csv.dtypes"
      ],
      "execution_count": 0,
      "outputs": [
        {
          "output_type": "execute_result",
          "data": {
            "text/plain": [
              "Game            object\n",
              "# Cards          int64\n",
              "Set Price      float64\n",
              "Price Diff     float64\n",
              "Card Avg       float64\n",
              "Booster Avg    float64\n",
              "Booster %      float64\n",
              "Avg Qty          int64\n",
              "AppId           object\n",
              "dtype: object"
            ]
          },
          "metadata": {
            "tags": []
          },
          "execution_count": 10
        }
      ]
    },
    {
      "cell_type": "markdown",
      "metadata": {
        "id": "gG2lxVp6qA9n",
        "colab_type": "text"
      },
      "source": [
        "#Me parece que o price Diff é o mesmovalor do set price, será?"
      ]
    },
    {
      "cell_type": "code",
      "metadata": {
        "id": "A6-WgNg1p4XO",
        "colab_type": "code",
        "outputId": "d4b813e8-cc52-4053-940b-de66004ff1a7",
        "colab": {
          "base_uri": "https://localhost:8080/",
          "height": 145
        }
      },
      "source": [
        "teste = dados_csv[['Set Price', 'Price Diff']]\n",
        "teste['Diferença'] = teste['Set Price'] - teste['Price Diff']\n",
        "teste.query('Diferença != 0.0')"
      ],
      "execution_count": 0,
      "outputs": [
        {
          "output_type": "stream",
          "text": [
            "/usr/local/lib/python3.6/dist-packages/ipykernel_launcher.py:2: SettingWithCopyWarning: \n",
            "A value is trying to be set on a copy of a slice from a DataFrame.\n",
            "Try using .loc[row_indexer,col_indexer] = value instead\n",
            "\n",
            "See the caveats in the documentation: http://pandas.pydata.org/pandas-docs/stable/user_guide/indexing.html#returning-a-view-versus-a-copy\n",
            "  \n"
          ],
          "name": "stderr"
        },
        {
          "output_type": "execute_result",
          "data": {
            "text/html": [
              "<div>\n",
              "<style scoped>\n",
              "    .dataframe tbody tr th:only-of-type {\n",
              "        vertical-align: middle;\n",
              "    }\n",
              "\n",
              "    .dataframe tbody tr th {\n",
              "        vertical-align: top;\n",
              "    }\n",
              "\n",
              "    .dataframe thead th {\n",
              "        text-align: right;\n",
              "    }\n",
              "</style>\n",
              "<table border=\"1\" class=\"dataframe\">\n",
              "  <thead>\n",
              "    <tr style=\"text-align: right;\">\n",
              "      <th></th>\n",
              "      <th>Set Price</th>\n",
              "      <th>Price Diff</th>\n",
              "      <th>Diferença</th>\n",
              "    </tr>\n",
              "  </thead>\n",
              "  <tbody>\n",
              "  </tbody>\n",
              "</table>\n",
              "</div>"
            ],
            "text/plain": [
              "Empty DataFrame\n",
              "Columns: [Set Price, Price Diff, Diferença]\n",
              "Index: []"
            ]
          },
          "metadata": {
            "tags": []
          },
          "execution_count": 11
        }
      ]
    },
    {
      "cell_type": "markdown",
      "metadata": {
        "id": "GrktFEJLrGVF",
        "colab_type": "text"
      },
      "source": [
        "se não há diferença então são iguais"
      ]
    },
    {
      "cell_type": "code",
      "metadata": {
        "id": "m7FWhysfrTS5",
        "colab_type": "code",
        "colab": {}
      },
      "source": [
        "dados_csv = dados_csv.drop('Price Diff', axis=1)"
      ],
      "execution_count": 0,
      "outputs": []
    },
    {
      "cell_type": "markdown",
      "metadata": {
        "id": "QoH8j9u4er6R",
        "colab_type": "text"
      },
      "source": [
        "# BeautifulSoup"
      ]
    },
    {
      "cell_type": "code",
      "metadata": {
        "id": "jr6WARI7k81E",
        "colab_type": "code",
        "colab": {}
      },
      "source": [
        "import bs4\n",
        "from urllib.request import urlopen\n",
        "from bs4 import BeautifulSoup"
      ],
      "execution_count": 0,
      "outputs": []
    },
    {
      "cell_type": "code",
      "metadata": {
        "id": "yjFmY-_g1VTR",
        "colab_type": "code",
        "colab": {}
      },
      "source": [
        "def arruma_string(string_to_go):\n",
        "  if(string_to_go == 'A'): return 'nan'\n",
        "  elif(string_to_go[0] == 'n'): return string_to_go[4:]\n",
        "  else: return string_to_go\n",
        "\n",
        "def captura_dados_cartas(soup):\n",
        "  cards_script = soup.find(\"div\",{\"id\":\"cards\"})\n",
        "  card_list = cards_script.findAll(\"div\",{\"class\":\"showcase-element\"})\n",
        "  temporario = []\n",
        "  for item in card_list: # retira itens vazios\n",
        "    if not item.a == None: temporario.append(item)\n",
        "  card_list = temporario\n",
        "\n",
        "  precos_das_cartas = []\n",
        "  for item in card_list: \n",
        "    try: \n",
        "      precos_das_cartas.append( arruma_string( ((item.find(\"div\", {\"class\":\"element-button\"})).text)[8:] ) )\n",
        "    except:\n",
        "      print('Arumando erro 368020, sem valor para carta... adicinonando NaN')\n",
        "      precos_das_cartas.append( 'nan' )\n",
        "\n",
        "  precos_das_cartas = pd.Series(precos_das_cartas).apply(remove_virgula_perdida).astype('float64')\n",
        "\n",
        "  return precos_das_cartas"
      ],
      "execution_count": 0,
      "outputs": []
    },
    {
      "cell_type": "code",
      "metadata": {
        "id": "yvxXPEWtCiOE",
        "colab_type": "code",
        "colab": {}
      },
      "source": [
        "def captura_dados_booster(soup):\n",
        "  booster_script = soup.find(\"div\",{\"id\":\"booster\"})\n",
        "\n",
        "  try:\n",
        "    sub_script = (booster_script.find(\"div\",{\"class\":\"showcase-element-container booster\"}))\n",
        "    booster_title = sub_script.img[\"alt\"]\n",
        "    preco_booster = arruma_string( ((sub_script.find(\"a\", {\"class\":\"button-blue\"})).text)[8:] )\n",
        "  except:\n",
        "    #print('Erro de booster inexistente.')\n",
        "    booster_title = '------'\n",
        "    preco_booster = 'nan'\n",
        "\n",
        "  preco_booster = pd.Series(preco_booster).apply(remove_virgula_perdida).astype('float64').values[0]\n",
        "  \n",
        "  return booster_title, preco_booster"
      ],
      "execution_count": 0,
      "outputs": []
    },
    {
      "cell_type": "code",
      "metadata": {
        "id": "GLC2yJv8WWGS",
        "colab_type": "code",
        "colab": {}
      },
      "source": [
        "def arredonda(valor, casas = 2):\n",
        "  return round(valor, casas)"
      ],
      "execution_count": 0,
      "outputs": []
    },
    {
      "cell_type": "code",
      "metadata": {
        "id": "KNr-GKW8mPqn",
        "colab_type": "code",
        "colab": {}
      },
      "source": [
        "list_index_sample = []\n",
        "list_booster_title = []\n",
        "list_booster_price = []\n",
        "list_set_price = []\n",
        "list_card_mean = []\n",
        "\n",
        "for i in range(150):\n",
        "#for i in range(qnt_dados):\n",
        "  amostra = dados_csv.sample(1)\n",
        "  #amostra = dados_csv[dados_csv.index == i]\n",
        "  AppId = amostra['AppId'].values[0]\n",
        "  url = 'https://www.steamcardexchange.net/index.php?gamepage-appid-'+AppId\n",
        "\n",
        "  uClient = urlopen(url)\n",
        "  page_html = uClient.read()\n",
        "  uClient.close()\n",
        "\n",
        "  soup = BeautifulSoup(page_html, 'html.parser')\n",
        "\n",
        "  precos_das_cartas = captura_dados_cartas(soup)\n",
        "  booster_title, preco_booster = captura_dados_booster(soup)\n",
        "\n",
        "  list_index_sample.append(amostra['AppId'].index[0])\n",
        "  list_set_price.append(arredonda(precos_das_cartas.sum()))\n",
        "\n",
        "  list_card_mean.append(arredonda(precos_das_cartas.mean()))\n",
        "  list_booster_title.append(booster_title)\n",
        "  list_booster_price.append(preco_booster)"
      ],
      "execution_count": 0,
      "outputs": []
    },
    {
      "cell_type": "markdown",
      "metadata": {
        "id": "dx04wNPfh-cQ",
        "colab_type": "text"
      },
      "source": [
        "# Comparações"
      ]
    },
    {
      "cell_type": "code",
      "metadata": {
        "id": "o8YseThGQ8T6",
        "colab_type": "code",
        "outputId": "07adce3c-83a0-44f9-efae-59ae16c20060",
        "colab": {
          "base_uri": "https://localhost:8080/",
          "height": 133
        }
      },
      "source": [
        "dados_to_compare = dados_csv.loc[list_index_sample]\n",
        "compare_csv = dados_to_compare.drop(['Game', '# Cards', 'Avg Qty', 'AppId'], axis=1)\n",
        "compare_csv.sample(3)"
      ],
      "execution_count": 0,
      "outputs": [
        {
          "output_type": "execute_result",
          "data": {
            "text/html": [
              "<div>\n",
              "<style scoped>\n",
              "    .dataframe tbody tr th:only-of-type {\n",
              "        vertical-align: middle;\n",
              "    }\n",
              "\n",
              "    .dataframe tbody tr th {\n",
              "        vertical-align: top;\n",
              "    }\n",
              "\n",
              "    .dataframe thead th {\n",
              "        text-align: right;\n",
              "    }\n",
              "</style>\n",
              "<table border=\"1\" class=\"dataframe\">\n",
              "  <thead>\n",
              "    <tr style=\"text-align: right;\">\n",
              "      <th></th>\n",
              "      <th>Set Price</th>\n",
              "      <th>Card Avg</th>\n",
              "      <th>Booster Avg</th>\n",
              "      <th>Booster %</th>\n",
              "    </tr>\n",
              "  </thead>\n",
              "  <tbody>\n",
              "    <tr>\n",
              "      <th>6028</th>\n",
              "      <td>0.39</td>\n",
              "      <td>0.07</td>\n",
              "      <td>0.05</td>\n",
              "      <td>28.6</td>\n",
              "    </tr>\n",
              "    <tr>\n",
              "      <th>8141</th>\n",
              "      <td>0.38</td>\n",
              "      <td>0.06</td>\n",
              "      <td>0.04</td>\n",
              "      <td>33.3</td>\n",
              "    </tr>\n",
              "    <tr>\n",
              "      <th>981</th>\n",
              "      <td>0.98</td>\n",
              "      <td>0.12</td>\n",
              "      <td>0.24</td>\n",
              "      <td>-100.0</td>\n",
              "    </tr>\n",
              "  </tbody>\n",
              "</table>\n",
              "</div>"
            ],
            "text/plain": [
              "      Set Price  Card Avg  Booster Avg  Booster %\n",
              "6028       0.39      0.07         0.05       28.6\n",
              "8141       0.38      0.06         0.04       33.3\n",
              "981        0.98      0.12         0.24     -100.0"
            ]
          },
          "metadata": {
            "tags": []
          },
          "execution_count": 19
        }
      ]
    },
    {
      "cell_type": "code",
      "metadata": {
        "id": "5u42Gc3egWlA",
        "colab_type": "code",
        "outputId": "e696886c-214b-4b0f-ffb2-6f763c33beb9",
        "colab": {
          "base_uri": "https://localhost:8080/",
          "height": 133
        }
      },
      "source": [
        "compare_csv['BS4_Set'] = list_set_price\n",
        "compare_csv['BS4_CAvg'] = list_card_mean\n",
        "compare_csv['BS4_Booster'] = list_booster_price\n",
        "\n",
        "compare_csv.sample(3)"
      ],
      "execution_count": 0,
      "outputs": [
        {
          "output_type": "execute_result",
          "data": {
            "text/html": [
              "<div>\n",
              "<style scoped>\n",
              "    .dataframe tbody tr th:only-of-type {\n",
              "        vertical-align: middle;\n",
              "    }\n",
              "\n",
              "    .dataframe tbody tr th {\n",
              "        vertical-align: top;\n",
              "    }\n",
              "\n",
              "    .dataframe thead th {\n",
              "        text-align: right;\n",
              "    }\n",
              "</style>\n",
              "<table border=\"1\" class=\"dataframe\">\n",
              "  <thead>\n",
              "    <tr style=\"text-align: right;\">\n",
              "      <th></th>\n",
              "      <th>Set Price</th>\n",
              "      <th>Card Avg</th>\n",
              "      <th>Booster Avg</th>\n",
              "      <th>Booster %</th>\n",
              "      <th>BS4_Set</th>\n",
              "      <th>BS4_CAvg</th>\n",
              "      <th>BS4_Booster</th>\n",
              "    </tr>\n",
              "  </thead>\n",
              "  <tbody>\n",
              "    <tr>\n",
              "      <th>2429</th>\n",
              "      <td>17.78</td>\n",
              "      <td>1.48</td>\n",
              "      <td>NaN</td>\n",
              "      <td>0.0</td>\n",
              "      <td>16.26</td>\n",
              "      <td>1.35</td>\n",
              "      <td>NaN</td>\n",
              "    </tr>\n",
              "    <tr>\n",
              "      <th>7457</th>\n",
              "      <td>0.86</td>\n",
              "      <td>0.11</td>\n",
              "      <td>0.38</td>\n",
              "      <td>-245.5</td>\n",
              "      <td>0.98</td>\n",
              "      <td>0.12</td>\n",
              "      <td>1.15</td>\n",
              "    </tr>\n",
              "    <tr>\n",
              "      <th>263</th>\n",
              "      <td>0.62</td>\n",
              "      <td>0.09</td>\n",
              "      <td>0.12</td>\n",
              "      <td>-33.3</td>\n",
              "      <td>0.62</td>\n",
              "      <td>0.09</td>\n",
              "      <td>0.30</td>\n",
              "    </tr>\n",
              "  </tbody>\n",
              "</table>\n",
              "</div>"
            ],
            "text/plain": [
              "      Set Price  Card Avg  Booster Avg  ...  BS4_Set  BS4_CAvg  BS4_Booster\n",
              "2429      17.78      1.48          NaN  ...    16.26      1.35          NaN\n",
              "7457       0.86      0.11         0.38  ...     0.98      0.12         1.15\n",
              "263        0.62      0.09         0.12  ...     0.62      0.09         0.30\n",
              "\n",
              "[3 rows x 7 columns]"
            ]
          },
          "metadata": {
            "tags": []
          },
          "execution_count": 20
        }
      ]
    },
    {
      "cell_type": "code",
      "metadata": {
        "id": "1Fh8eQThnJ59",
        "colab_type": "code",
        "outputId": "065a4a2f-970d-41b4-cafa-7fcdccf8eaf2",
        "colab": {
          "base_uri": "https://localhost:8080/",
          "height": 248
        }
      },
      "source": [
        "compare_csv.corr().round(2)"
      ],
      "execution_count": 0,
      "outputs": [
        {
          "output_type": "execute_result",
          "data": {
            "text/html": [
              "<div>\n",
              "<style scoped>\n",
              "    .dataframe tbody tr th:only-of-type {\n",
              "        vertical-align: middle;\n",
              "    }\n",
              "\n",
              "    .dataframe tbody tr th {\n",
              "        vertical-align: top;\n",
              "    }\n",
              "\n",
              "    .dataframe thead th {\n",
              "        text-align: right;\n",
              "    }\n",
              "</style>\n",
              "<table border=\"1\" class=\"dataframe\">\n",
              "  <thead>\n",
              "    <tr style=\"text-align: right;\">\n",
              "      <th></th>\n",
              "      <th>Set Price</th>\n",
              "      <th>Card Avg</th>\n",
              "      <th>Booster Avg</th>\n",
              "      <th>Booster %</th>\n",
              "      <th>BS4_Set</th>\n",
              "      <th>BS4_CAvg</th>\n",
              "      <th>BS4_Booster</th>\n",
              "    </tr>\n",
              "  </thead>\n",
              "  <tbody>\n",
              "    <tr>\n",
              "      <th>Set Price</th>\n",
              "      <td>1.00</td>\n",
              "      <td>0.96</td>\n",
              "      <td>0.22</td>\n",
              "      <td>0.01</td>\n",
              "      <td>0.97</td>\n",
              "      <td>0.83</td>\n",
              "      <td>0.29</td>\n",
              "    </tr>\n",
              "    <tr>\n",
              "      <th>Card Avg</th>\n",
              "      <td>0.96</td>\n",
              "      <td>1.00</td>\n",
              "      <td>0.24</td>\n",
              "      <td>0.01</td>\n",
              "      <td>0.96</td>\n",
              "      <td>0.90</td>\n",
              "      <td>0.29</td>\n",
              "    </tr>\n",
              "    <tr>\n",
              "      <th>Booster Avg</th>\n",
              "      <td>0.22</td>\n",
              "      <td>0.24</td>\n",
              "      <td>1.00</td>\n",
              "      <td>-0.96</td>\n",
              "      <td>0.27</td>\n",
              "      <td>0.26</td>\n",
              "      <td>0.98</td>\n",
              "    </tr>\n",
              "    <tr>\n",
              "      <th>Booster %</th>\n",
              "      <td>0.01</td>\n",
              "      <td>0.01</td>\n",
              "      <td>-0.96</td>\n",
              "      <td>1.00</td>\n",
              "      <td>-0.00</td>\n",
              "      <td>-0.00</td>\n",
              "      <td>-0.81</td>\n",
              "    </tr>\n",
              "    <tr>\n",
              "      <th>BS4_Set</th>\n",
              "      <td>0.97</td>\n",
              "      <td>0.96</td>\n",
              "      <td>0.27</td>\n",
              "      <td>-0.00</td>\n",
              "      <td>1.00</td>\n",
              "      <td>0.92</td>\n",
              "      <td>0.30</td>\n",
              "    </tr>\n",
              "    <tr>\n",
              "      <th>BS4_CAvg</th>\n",
              "      <td>0.83</td>\n",
              "      <td>0.90</td>\n",
              "      <td>0.26</td>\n",
              "      <td>-0.00</td>\n",
              "      <td>0.92</td>\n",
              "      <td>1.00</td>\n",
              "      <td>0.25</td>\n",
              "    </tr>\n",
              "    <tr>\n",
              "      <th>BS4_Booster</th>\n",
              "      <td>0.29</td>\n",
              "      <td>0.29</td>\n",
              "      <td>0.98</td>\n",
              "      <td>-0.81</td>\n",
              "      <td>0.30</td>\n",
              "      <td>0.25</td>\n",
              "      <td>1.00</td>\n",
              "    </tr>\n",
              "  </tbody>\n",
              "</table>\n",
              "</div>"
            ],
            "text/plain": [
              "             Set Price  Card Avg  Booster Avg  ...  BS4_Set  BS4_CAvg  BS4_Booster\n",
              "Set Price         1.00      0.96         0.22  ...     0.97      0.83         0.29\n",
              "Card Avg          0.96      1.00         0.24  ...     0.96      0.90         0.29\n",
              "Booster Avg       0.22      0.24         1.00  ...     0.27      0.26         0.98\n",
              "Booster %         0.01      0.01        -0.96  ...    -0.00     -0.00        -0.81\n",
              "BS4_Set           0.97      0.96         0.27  ...     1.00      0.92         0.30\n",
              "BS4_CAvg          0.83      0.90         0.26  ...     0.92      1.00         0.25\n",
              "BS4_Booster       0.29      0.29         0.98  ...     0.30      0.25         1.00\n",
              "\n",
              "[7 rows x 7 columns]"
            ]
          },
          "metadata": {
            "tags": []
          },
          "execution_count": 21
        }
      ]
    },
    {
      "cell_type": "code",
      "metadata": {
        "id": "-UQlfiCviJKD",
        "colab_type": "code",
        "colab": {}
      },
      "source": [
        "import seaborn as sns\n",
        "import matplotlib.pyplot as plt"
      ],
      "execution_count": 0,
      "outputs": []
    },
    {
      "cell_type": "code",
      "metadata": {
        "id": "Py1TgNYCg4ak",
        "colab_type": "code",
        "outputId": "feeae359-2df4-4415-b38c-0e79a848c943",
        "colab": {
          "base_uri": "https://localhost:8080/",
          "height": 338
        }
      },
      "source": [
        "matriz_correlacao = compare_csv.corr()\n",
        "#plt.figure(figsize = (11, 10))\n",
        "ax = sns.heatmap(matriz_correlacao, annot = True, fmt = \".2f\")\n",
        "ax"
      ],
      "execution_count": 0,
      "outputs": [
        {
          "output_type": "execute_result",
          "data": {
            "text/plain": [
              "<matplotlib.axes._subplots.AxesSubplot at 0x7f85e1c57ba8>"
            ]
          },
          "metadata": {
            "tags": []
          },
          "execution_count": 23
        },
        {
          "output_type": "display_data",
          "data": {
            "image/png": "[encoded data removed]",
            "text/plain": [
              "<Figure size 432x288 with 2 Axes>"
            ]
          },
          "metadata": {
            "tags": []
          }
        }
      ]
    },
    {
      "cell_type": "code",
      "metadata": {
        "id": "f5tNvXZlpalO",
        "colab_type": "code",
        "outputId": "d9669e99-a7eb-47fa-bf93-c0b08648fedc",
        "colab": {
          "base_uri": "https://localhost:8080/",
          "height": 528
        }
      },
      "source": [
        "fig, (ax1, ax2, ax3) = plt.subplots(ncols=3, sharey=False, figsize=(20, 7))\n",
        "sns.regplot(x='Set Price', y='BS4_Set', data=compare_csv, ax=ax1)\n",
        "sns.regplot(x='Card Avg', y='BS4_CAvg', data=compare_csv, ax=ax2)\n",
        "sns.regplot(x='Booster Avg', y='BS4_Booster', data=compare_csv, ax=ax3)\n",
        "fig.suptitle(\"Relacionando os dados BS4xCSV\", fontsize=24)"
      ],
      "execution_count": 0,
      "outputs": [
        {
          "output_type": "execute_result",
          "data": {
            "text/plain": [
              "Text(0.5, 0.98, 'Relacionando os dados BS4xCSV')"
            ]
          },
          "metadata": {
            "tags": []
          },
          "execution_count": 24
        },
        {
          "output_type": "display_data",
          "data": {
            "image/png": "[encoded data removed]",
            "text/plain": [
              "<Figure size 1440x504 with 3 Axes>"
            ]
          },
          "metadata": {
            "tags": []
          }
        }
      ]
    },
    {
      "cell_type": "code",
      "metadata": {
        "id": "nT8R64Xwx23l",
        "colab_type": "code",
        "outputId": "aabb5569-8903-4c15-befd-89d4fbed2184",
        "colab": {
          "base_uri": "https://localhost:8080/",
          "height": 516
        }
      },
      "source": [
        "fig, (ax1, ax2, ax3) = plt.subplots(ncols=3, sharey=False, figsize=(25, 7))\n",
        "sns.boxplot(data=compare_csv[['BS4_Set', 'Set Price']], showfliers=False, ax=ax1)\n",
        "sns.boxplot(data=compare_csv[['BS4_CAvg', 'Card Avg']], showfliers=False, ax=ax2)\n",
        "sns.boxplot(data=compare_csv[['BS4_Booster', 'Booster Avg']], showfliers=False, ax=ax3)\n",
        "fig.suptitle(\"Comparando os dados BS4xCSV\", fontsize=24)"
      ],
      "execution_count": 0,
      "outputs": [
        {
          "output_type": "execute_result",
          "data": {
            "text/plain": [
              "Text(0.5, 0.98, 'Comparando os dados BS4xCSV')"
            ]
          },
          "metadata": {
            "tags": []
          },
          "execution_count": 25
        },
        {
          "output_type": "display_data",
          "data": {
            "image/png": "[encoded data removed]",
            "text/plain": [
              "<Figure size 1800x504 with 3 Axes>"
            ]
          },
          "metadata": {
            "tags": []
          }
        }
      ]
    },
    {
      "cell_type": "markdown",
      "metadata": {
        "id": "lfzp9Vzz0bPQ",
        "colab_type": "text"
      },
      "source": [
        "\n",
        "\n",
        "---\n",
        "\n",
        "## **Há uma diferença bem clara na comparação dos boosters**\n",
        "\n",
        "---\n",
        "\n",
        "\n",
        "\n"
      ]
    },
    {
      "cell_type": "markdown",
      "metadata": {
        "id": "SLAgM52kzTPp",
        "colab_type": "text"
      },
      "source": [
        "## Estudo dos nulos"
      ]
    },
    {
      "cell_type": "code",
      "metadata": {
        "id": "QxB9mwyDic_q",
        "colab_type": "code",
        "outputId": "683a5303-ed94-426d-fa99-764c26624e6d",
        "colab": {
          "base_uri": "https://localhost:8080/",
          "height": 416
        }
      },
      "source": [
        "import numpy as np\n",
        "not_null_1 = compare_csv[~compare_csv['Booster Avg'].isna()][[\"BS4_Booster\", \"Booster Avg\"]]\n",
        "\n",
        "compare_sem_nulos = not_null_1[~not_null_1['BS4_Booster'].isna()]\n",
        "\n",
        "plt.figure(figsize=(10, 6))\n",
        "ax = sns.boxplot(data=compare_sem_nulos, showfliers=False)\n",
        "ax.set_title(\"Comparando os dados BS4xCSV sem nulos\", fontsize=24)\n",
        "#ax.figsize = (25, 7)"
      ],
      "execution_count": 0,
      "outputs": [
        {
          "output_type": "execute_result",
          "data": {
            "text/plain": [
              "Text(0.5, 1.0, 'Comparando os dados BS4xCSV sem nulos')"
            ]
          },
          "metadata": {
            "tags": []
          },
          "execution_count": 26
        },
        {
          "output_type": "display_data",
          "data": {
            "image/png": "[encoded data removed]",
            "text/plain": [
              "<Figure size 720x432 with 1 Axes>"
            ]
          },
          "metadata": {
            "tags": []
          }
        }
      ]
    },
    {
      "cell_type": "markdown",
      "metadata": {
        "colab_type": "text",
        "id": "AxRcsAM38FO6"
      },
      "source": [
        "\n",
        "\n",
        "---\n",
        "\n",
        "## **Essa verificação não foi relevante... talvez haja uma diferença bastante significativa ai**\n",
        "\n",
        "---\n",
        "\n",
        "\n",
        "\n"
      ]
    },
    {
      "cell_type": "code",
      "metadata": {
        "id": "LFWVWoRA2HFA",
        "colab_type": "code",
        "colab": {}
      },
      "source": [
        "compare_sem_nulos[\"Differença Booster\"] = compare_sem_nulos[\"BS4_Booster\"] - compare_sem_nulos[\"Booster Avg\"]"
      ],
      "execution_count": 0,
      "outputs": []
    },
    {
      "cell_type": "code",
      "metadata": {
        "id": "_aFkoaF49bf7",
        "colab_type": "code",
        "outputId": "f13003ea-2a01-4f1f-f977-9933e2c348a7",
        "colab": {
          "base_uri": "https://localhost:8080/",
          "height": 191
        }
      },
      "source": [
        "compare_sem_nulos.head()"
      ],
      "execution_count": 0,
      "outputs": [
        {
          "output_type": "execute_result",
          "data": {
            "text/html": [
              "<div>\n",
              "<style scoped>\n",
              "    .dataframe tbody tr th:only-of-type {\n",
              "        vertical-align: middle;\n",
              "    }\n",
              "\n",
              "    .dataframe tbody tr th {\n",
              "        vertical-align: top;\n",
              "    }\n",
              "\n",
              "    .dataframe thead th {\n",
              "        text-align: right;\n",
              "    }\n",
              "</style>\n",
              "<table border=\"1\" class=\"dataframe\">\n",
              "  <thead>\n",
              "    <tr style=\"text-align: right;\">\n",
              "      <th></th>\n",
              "      <th>BS4_Booster</th>\n",
              "      <th>Booster Avg</th>\n",
              "      <th>Differença Booster</th>\n",
              "    </tr>\n",
              "  </thead>\n",
              "  <tbody>\n",
              "    <tr>\n",
              "      <th>2011</th>\n",
              "      <td>0.11</td>\n",
              "      <td>0.04</td>\n",
              "      <td>0.07</td>\n",
              "    </tr>\n",
              "    <tr>\n",
              "      <th>3276</th>\n",
              "      <td>0.32</td>\n",
              "      <td>0.10</td>\n",
              "      <td>0.22</td>\n",
              "    </tr>\n",
              "    <tr>\n",
              "      <th>7002</th>\n",
              "      <td>0.39</td>\n",
              "      <td>0.13</td>\n",
              "      <td>0.26</td>\n",
              "    </tr>\n",
              "    <tr>\n",
              "      <th>7405</th>\n",
              "      <td>0.07</td>\n",
              "      <td>0.03</td>\n",
              "      <td>0.04</td>\n",
              "    </tr>\n",
              "    <tr>\n",
              "      <th>6331</th>\n",
              "      <td>0.10</td>\n",
              "      <td>0.03</td>\n",
              "      <td>0.07</td>\n",
              "    </tr>\n",
              "  </tbody>\n",
              "</table>\n",
              "</div>"
            ],
            "text/plain": [
              "      BS4_Booster  Booster Avg  Differença Booster\n",
              "2011         0.11         0.04                0.07\n",
              "3276         0.32         0.10                0.22\n",
              "7002         0.39         0.13                0.26\n",
              "7405         0.07         0.03                0.04\n",
              "6331         0.10         0.03                0.07"
            ]
          },
          "metadata": {
            "tags": []
          },
          "execution_count": 28
        }
      ]
    },
    {
      "cell_type": "code",
      "metadata": {
        "id": "1tIrqZvVBYzw",
        "colab_type": "code",
        "outputId": "113d17ea-9731-4d45-b60f-f33853ccd28b",
        "colab": {
          "base_uri": "https://localhost:8080/",
          "height": 428
        }
      },
      "source": [
        "ax = sns.boxplot(compare_sem_nulos[\"Differença Booster\"], showfliers=False)\n",
        "ax.figure.set_size_inches(12, 6)\n",
        "ax.set_title('Diferença entre valores booster BS4 e CSV', fontsize=18)\n",
        "ax.set_xlabel('Diferença', fontsize=14)\n",
        "ax"
      ],
      "execution_count": 0,
      "outputs": [
        {
          "output_type": "execute_result",
          "data": {
            "text/plain": [
              "<matplotlib.axes._subplots.AxesSubplot at 0x7f85e3359940>"
            ]
          },
          "metadata": {
            "tags": []
          },
          "execution_count": 29
        },
        {
          "output_type": "display_data",
          "data": {
            "image/png": "[encoded data removed]",
            "text/plain": [
              "<Figure size 864x432 with 1 Axes>"
            ]
          },
          "metadata": {
            "tags": []
          }
        }
      ]
    },
    {
      "cell_type": "code",
      "metadata": {
        "id": "_KV_QFUWBqvf",
        "colab_type": "code",
        "outputId": "15033dd8-4331-45d8-e9f3-c407a2134234",
        "colab": {
          "base_uri": "https://localhost:8080/",
          "height": 163
        }
      },
      "source": [
        "compare_sem_nulos[\"Differença Booster\"].describe().round(2)"
      ],
      "execution_count": 0,
      "outputs": [
        {
          "output_type": "execute_result",
          "data": {
            "text/plain": [
              "count    136.00\n",
              "mean       0.29\n",
              "std        0.52\n",
              "min       -0.01\n",
              "25%        0.07\n",
              "50%        0.13\n",
              "75%        0.32\n",
              "max        4.20\n",
              "Name: Differença Booster, dtype: float64"
            ]
          },
          "metadata": {
            "tags": []
          },
          "execution_count": 30
        }
      ]
    },
    {
      "cell_type": "code",
      "metadata": {
        "id": "r6Ybcx39CXtq",
        "colab_type": "code",
        "colab": {}
      },
      "source": [
        ""
      ],
      "execution_count": 0,
      "outputs": []
    }
  ]
}