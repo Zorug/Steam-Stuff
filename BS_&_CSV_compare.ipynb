{
  "nbformat": 4,
  "nbformat_minor": 0,
  "metadata": {
    "colab": {
      "name": "BS & CSV compare.ipynb",
      "provenance": [],
      "include_colab_link": true
    },
    "kernelspec": {
      "name": "python3",
      "display_name": "Python 3"
    }
  },
  "cells": [
    {
      "cell_type": "markdown",
      "metadata": {
        "id": "view-in-github",
        "colab_type": "text"
      },
      "source": [
        "<a href=\"https://colab.research.google.com/github/Zorug/Steam-Stuff/blob/master/BS_%26_CSV_compare.ipynb\" target=\"_parent\"><img src=\"https://colab.research.google.com/assets/colab-badge.svg\" alt=\"Open In Colab\"/></a>"
      ]
    },
    {
      "cell_type": "markdown",
      "metadata": {
        "id": "2zf8N2w3S4CY",
        "colab_type": "text"
      },
      "source": [
        "comparação com os dados do site: https://www.steamcardexchange.net "
      ]
    },
    {
      "cell_type": "markdown",
      "metadata": {
        "id": "3BfUlIJSS7Uw",
        "colab_type": "text"
      },
      "source": [
        "extração do csv: https://steam.tools/cards/"
      ]
    },
    {
      "cell_type": "code",
      "metadata": {
        "id": "_fS0d3yJSo6G",
        "colab_type": "code",
        "colab": {}
      },
      "source": [
        ""
      ],
      "execution_count": 0,
      "outputs": []
    }
  ]
}