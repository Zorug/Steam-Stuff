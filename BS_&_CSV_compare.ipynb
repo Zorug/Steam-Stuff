{
  "nbformat": 4,
  "nbformat_minor": 0,
  "metadata": {
    "colab": {
      "name": "BS & CSV compare.ipynb",
      "provenance": [],
      "collapsed_sections": [
        "hLL8czQteHs3"
      ],
      "include_colab_link": true
    },
    "kernelspec": {
      "name": "python3",
      "display_name": "Python 3"
    }
  },
  "cells": [
    {
      "cell_type": "markdown",
      "metadata": {
        "id": "view-in-github",
        "colab_type": "text"
      },
      "source": [
        "<a href=\"https://colab.research.google.com/github/Zorug/Steam-Stuff/blob/master/BS_%26_CSV_compare.ipynb\" target=\"_parent\"><img src=\"https://colab.research.google.com/assets/colab-badge.svg\" alt=\"Open In Colab\"/></a>"
      ]
    },
    {
      "cell_type": "markdown",
      "metadata": {
        "id": "hLL8czQteHs3",
        "colab_type": "text"
      },
      "source": [
        "# Info"
      ]
    },
    {
      "cell_type": "markdown",
      "metadata": {
        "id": "2zf8N2w3S4CY",
        "colab_type": "text"
      },
      "source": [
        "comparação com os dados do site: https://www.steamcardexchange.net "
      ]
    },
    {
      "cell_type": "markdown",
      "metadata": {
        "id": "3BfUlIJSS7Uw",
        "colab_type": "text"
      },
      "source": [
        "extração do csv: https://steam.tools/cards/"
      ]
    },
    {
      "cell_type": "code",
      "metadata": {
        "id": "x2rkhROFT4RW",
        "colab_type": "code",
        "outputId": "aad5e214-b3ef-4538-8f81-bf1d6929ead0",
        "colab": {
          "base_uri": "https://localhost:8080/",
          "height": 0
        }
      },
      "source": [
        "\"\"\" info da columns:\n",
        "Game: Name of the set's game\n",
        "# Cards: Number of cards in the set\n",
        "Set Price: The total price of all the cards for the set\n",
        "Card Avg: The averege price of a card in the set\n",
        "Booster Avg: The average price of a card from the set's booster\n",
        "Booster %: How many percent cheaper avarage booster cards are for the set\n",
        "Emote Avg: The average price of the set's emoticons\n",
        "BG Avg: The average price of the set's bachgrounds\n",
        "Avg Qty: The average quantity of items on the market\n",
        "Discount: The money you would make by selling all your drops for that game\n",
        "Added: The date the set was added\n",
        "\"\"\""
      ],
      "execution_count": 1,
      "outputs": [
        {
          "output_type": "execute_result",
          "data": {
            "text/plain": [
              "\" info da columns:\\nGame: Name of the set's game\\n# Cards: Number of cards in the set\\nSet Price: The total price of all the cards for the set\\nCard Avg: The averege price of a card in the set\\nBooster Avg: The average price of a card from the set's booster\\nBooster %: How many percent cheaper avarage booster cards are for the set\\nEmote Avg: The average price of the set's emoticons\\nBG Avg: The average price of the set's bachgrounds\\nAvg Qty: The average quantity of items on the market\\nDiscount: The money you would make by selling all your drops for that game\\nAdded: The date the set was added\\n\""
            ]
          },
          "metadata": {
            "tags": []
          },
          "execution_count": 1
        }
      ]
    },
    {
      "cell_type": "markdown",
      "metadata": {
        "id": "GVMjJGctd-em",
        "colab_type": "text"
      },
      "source": [
        "# Importanto libs e dados"
      ]
    },
    {
      "cell_type": "code",
      "metadata": {
        "id": "_fS0d3yJSo6G",
        "colab_type": "code",
        "outputId": "9492970a-abfd-46b9-c091-3117eed9244a",
        "colab": {
          "base_uri": "https://localhost:8080/",
          "height": 33
        }
      },
      "source": [
        "import pandas as pd\n",
        "\n",
        "#csv_source = 'STC_set_data.csv'\n",
        "csv_source = 'https://raw.githubusercontent.com/Zorug/Steam-Stuff/master/STC_set_data.csv'\n",
        "dados_csv = pd.read_csv(csv_source)\n",
        "dados_csv.shape"
      ],
      "execution_count": 2,
      "outputs": [
        {
          "output_type": "execute_result",
          "data": {
            "text/plain": [
              "(9156, 16)"
            ]
          },
          "metadata": {
            "tags": []
          },
          "execution_count": 2
        }
      ]
    },
    {
      "cell_type": "code",
      "metadata": {
        "id": "xjJSi_TAT3AA",
        "colab_type": "code",
        "outputId": "ed5877ab-854f-431a-8d65-9fc2804e74d2",
        "colab": {
          "base_uri": "https://localhost:8080/",
          "height": 105
        }
      },
      "source": [
        "dados_csv.head(2)"
      ],
      "execution_count": 3,
      "outputs": [
        {
          "output_type": "execute_result",
          "data": {
            "text/html": [
              "<div>\n",
              "<style scoped>\n",
              "    .dataframe tbody tr th:only-of-type {\n",
              "        vertical-align: middle;\n",
              "    }\n",
              "\n",
              "    .dataframe tbody tr th {\n",
              "        vertical-align: top;\n",
              "    }\n",
              "\n",
              "    .dataframe thead th {\n",
              "        text-align: right;\n",
              "    }\n",
              "</style>\n",
              "<table border=\"1\" class=\"dataframe\">\n",
              "  <thead>\n",
              "    <tr style=\"text-align: right;\">\n",
              "      <th></th>\n",
              "      <th>Game</th>\n",
              "      <th># Owned</th>\n",
              "      <th># Unique</th>\n",
              "      <th># Cards</th>\n",
              "      <th>Badge Lvl</th>\n",
              "      <th>Set Price</th>\n",
              "      <th>Price Diff</th>\n",
              "      <th>Card Avg</th>\n",
              "      <th>Booster Avg</th>\n",
              "      <th>Booster %</th>\n",
              "      <th>Emote Avg</th>\n",
              "      <th>BG Avg</th>\n",
              "      <th>Avg Qty</th>\n",
              "      <th>Discount</th>\n",
              "      <th>Added</th>\n",
              "      <th>AppId</th>\n",
              "    </tr>\n",
              "  </thead>\n",
              "  <tbody>\n",
              "    <tr>\n",
              "      <th>0</th>\n",
              "      <td>City Game Studio</td>\n",
              "      <td>0</td>\n",
              "      <td>0</td>\n",
              "      <td>12</td>\n",
              "      <td>0</td>\n",
              "      <td>1.25</td>\n",
              "      <td>1.25</td>\n",
              "      <td>0.10</td>\n",
              "      <td>NaN</td>\n",
              "      <td>0.0</td>\n",
              "      <td>0.00</td>\n",
              "      <td>0.00</td>\n",
              "      <td>17</td>\n",
              "      <td>0.52</td>\n",
              "      <td>2019-10-24</td>\n",
              "      <td>726840</td>\n",
              "    </tr>\n",
              "    <tr>\n",
              "      <th>1</th>\n",
              "      <td>Transport Services</td>\n",
              "      <td>0</td>\n",
              "      <td>0</td>\n",
              "      <td>5</td>\n",
              "      <td>0</td>\n",
              "      <td>1.85</td>\n",
              "      <td>1.85</td>\n",
              "      <td>0.37</td>\n",
              "      <td>NaN</td>\n",
              "      <td>0.0</td>\n",
              "      <td>0.00</td>\n",
              "      <td>0.00</td>\n",
              "      <td>4</td>\n",
              "      <td>0.97</td>\n",
              "      <td>2019-10-23</td>\n",
              "      <td>993690</td>\n",
              "    </tr>\n",
              "  </tbody>\n",
              "</table>\n",
              "</div>"
            ],
            "text/plain": [
              "                 Game  # Owned  # Unique  ...  Discount       Added   AppId\n",
              "0    City Game Studio        0         0  ...      0.52  2019-10-24  726840\n",
              "1  Transport Services        0         0  ...      0.97  2019-10-23  993690\n",
              "\n",
              "[2 rows x 16 columns]"
            ]
          },
          "metadata": {
            "tags": []
          },
          "execution_count": 3
        }
      ]
    },
    {
      "cell_type": "markdown",
      "metadata": {
        "id": "h9IC2rejiEo5",
        "colab_type": "text"
      },
      "source": [
        "#Organizando DataSet"
      ]
    },
    {
      "cell_type": "markdown",
      "metadata": {
        "id": "JuiPnm2IjDhl",
        "colab_type": "text"
      },
      "source": [
        "## Removendo dados inúteis para o teste"
      ]
    },
    {
      "cell_type": "code",
      "metadata": {
        "id": "TwgiVJc8aa7f",
        "colab_type": "code",
        "colab": {}
      },
      "source": [
        "dados_csv = dados_csv.drop(['# Owned', '# Unique', 'Badge Lvl','Emote Avg', 'BG Avg', 'Discount', 'Added'], axis = 1)"
      ],
      "execution_count": 0,
      "outputs": []
    },
    {
      "cell_type": "code",
      "metadata": {
        "id": "tV5gdIBSZddQ",
        "colab_type": "code",
        "outputId": "4e34bfa8-92f4-4f6d-87fc-8c8f9a5ef290",
        "colab": {
          "base_uri": "https://localhost:8080/",
          "height": 105
        }
      },
      "source": [
        "dados_csv.sample(2)"
      ],
      "execution_count": 5,
      "outputs": [
        {
          "output_type": "execute_result",
          "data": {
            "text/html": [
              "<div>\n",
              "<style scoped>\n",
              "    .dataframe tbody tr th:only-of-type {\n",
              "        vertical-align: middle;\n",
              "    }\n",
              "\n",
              "    .dataframe tbody tr th {\n",
              "        vertical-align: top;\n",
              "    }\n",
              "\n",
              "    .dataframe thead th {\n",
              "        text-align: right;\n",
              "    }\n",
              "</style>\n",
              "<table border=\"1\" class=\"dataframe\">\n",
              "  <thead>\n",
              "    <tr style=\"text-align: right;\">\n",
              "      <th></th>\n",
              "      <th>Game</th>\n",
              "      <th># Cards</th>\n",
              "      <th>Set Price</th>\n",
              "      <th>Price Diff</th>\n",
              "      <th>Card Avg</th>\n",
              "      <th>Booster Avg</th>\n",
              "      <th>Booster %</th>\n",
              "      <th>Avg Qty</th>\n",
              "      <th>AppId</th>\n",
              "    </tr>\n",
              "  </thead>\n",
              "  <tbody>\n",
              "    <tr>\n",
              "      <th>4850</th>\n",
              "      <td>Aircraft War X</td>\n",
              "      <td>5</td>\n",
              "      <td>0.26</td>\n",
              "      <td>0.26</td>\n",
              "      <td>0.05</td>\n",
              "      <td>0.03</td>\n",
              "      <td>40.0</td>\n",
              "      <td>296</td>\n",
              "      <td>508670</td>\n",
              "    </tr>\n",
              "    <tr>\n",
              "      <th>7721</th>\n",
              "      <td>Drew and the Floating Labyrinth</td>\n",
              "      <td>5</td>\n",
              "      <td>0.42</td>\n",
              "      <td>0.42</td>\n",
              "      <td>0.08</td>\n",
              "      <td>0.05</td>\n",
              "      <td>37.5</td>\n",
              "      <td>30</td>\n",
              "      <td>346200</td>\n",
              "    </tr>\n",
              "  </tbody>\n",
              "</table>\n",
              "</div>"
            ],
            "text/plain": [
              "                                 Game  # Cards  ... Avg Qty   AppId\n",
              "4850                   Aircraft War X        5  ...     296  508670\n",
              "7721  Drew and the Floating Labyrinth        5  ...      30  346200\n",
              "\n",
              "[2 rows x 9 columns]"
            ]
          },
          "metadata": {
            "tags": []
          },
          "execution_count": 5
        }
      ]
    },
    {
      "cell_type": "markdown",
      "metadata": {
        "id": "d0eTFdOxj4RE",
        "colab_type": "text"
      },
      "source": [
        "##Reorganizando os tipos"
      ]
    },
    {
      "cell_type": "code",
      "metadata": {
        "id": "_GFZk5nTetX0",
        "colab_type": "code",
        "outputId": "789075e0-b9e5-433b-a232-ad8c4b2150af",
        "colab": {
          "base_uri": "https://localhost:8080/",
          "height": 180
        }
      },
      "source": [
        "dados_csv.dtypes"
      ],
      "execution_count": 6,
      "outputs": [
        {
          "output_type": "execute_result",
          "data": {
            "text/plain": [
              "Game            object\n",
              "# Cards          int64\n",
              "Set Price       object\n",
              "Price Diff      object\n",
              "Card Avg       float64\n",
              "Booster Avg    float64\n",
              "Booster %       object\n",
              "Avg Qty          int64\n",
              "AppId            int64\n",
              "dtype: object"
            ]
          },
          "metadata": {
            "tags": []
          },
          "execution_count": 6
        }
      ]
    },
    {
      "cell_type": "code",
      "metadata": {
        "id": "iyAABwkcjw4m",
        "colab_type": "code",
        "colab": {}
      },
      "source": [
        "def remove_virgula_perdida(sentenca): # aqui estamos esvitando um erro de conversão\n",
        "    sentenca = sentenca.replace(',','')\n",
        "    return sentenca"
      ],
      "execution_count": 0,
      "outputs": []
    },
    {
      "cell_type": "code",
      "metadata": {
        "id": "Lhg9dCrskCaK",
        "colab_type": "code",
        "colab": {}
      },
      "source": [
        "para_float = ['Set Price', 'Price Diff', 'Booster %']\n",
        "for coluna in dados_csv[para_float]:\n",
        "    dados_csv[coluna] = dados_csv[coluna].apply(remove_virgula_perdida)\n",
        "\n",
        "dados_csv[para_float] = dados_csv[para_float].astype('float64')\n",
        "dados_csv['AppId'] = dados_csv['AppId'].astype('str')"
      ],
      "execution_count": 0,
      "outputs": []
    },
    {
      "cell_type": "code",
      "metadata": {
        "id": "cjjWebbhkkZf",
        "colab_type": "code",
        "outputId": "5a14bbd0-2db3-40ef-8a0c-dc03a8767a00",
        "colab": {
          "base_uri": "https://localhost:8080/",
          "height": 180
        }
      },
      "source": [
        "dados_csv.dtypes"
      ],
      "execution_count": 9,
      "outputs": [
        {
          "output_type": "execute_result",
          "data": {
            "text/plain": [
              "Game            object\n",
              "# Cards          int64\n",
              "Set Price      float64\n",
              "Price Diff     float64\n",
              "Card Avg       float64\n",
              "Booster Avg    float64\n",
              "Booster %      float64\n",
              "Avg Qty          int64\n",
              "AppId           object\n",
              "dtype: object"
            ]
          },
          "metadata": {
            "tags": []
          },
          "execution_count": 9
        }
      ]
    },
    {
      "cell_type": "markdown",
      "metadata": {
        "id": "QoH8j9u4er6R",
        "colab_type": "text"
      },
      "source": [
        "# BeautifulSoup"
      ]
    },
    {
      "cell_type": "code",
      "metadata": {
        "id": "jr6WARI7k81E",
        "colab_type": "code",
        "colab": {}
      },
      "source": [
        "import bs4\n",
        "from urllib.request import urlopen\n",
        "from bs4 import BeautifulSoup"
      ],
      "execution_count": 0,
      "outputs": []
    },
    {
      "cell_type": "code",
      "metadata": {
        "id": "GiCkYlZaksSN",
        "colab_type": "code",
        "colab": {
          "base_uri": "https://localhost:8080/",
          "height": 76
        },
        "outputId": "42d6a716-b156-4363-c830-1ace4a42ead4"
      },
      "source": [
        "amostra = dados_csv.sample(1)\n",
        "amostra"
      ],
      "execution_count": 11,
      "outputs": [
        {
          "output_type": "execute_result",
          "data": {
            "text/html": [
              "<div>\n",
              "<style scoped>\n",
              "    .dataframe tbody tr th:only-of-type {\n",
              "        vertical-align: middle;\n",
              "    }\n",
              "\n",
              "    .dataframe tbody tr th {\n",
              "        vertical-align: top;\n",
              "    }\n",
              "\n",
              "    .dataframe thead th {\n",
              "        text-align: right;\n",
              "    }\n",
              "</style>\n",
              "<table border=\"1\" class=\"dataframe\">\n",
              "  <thead>\n",
              "    <tr style=\"text-align: right;\">\n",
              "      <th></th>\n",
              "      <th>Game</th>\n",
              "      <th># Cards</th>\n",
              "      <th>Set Price</th>\n",
              "      <th>Price Diff</th>\n",
              "      <th>Card Avg</th>\n",
              "      <th>Booster Avg</th>\n",
              "      <th>Booster %</th>\n",
              "      <th>Avg Qty</th>\n",
              "      <th>AppId</th>\n",
              "    </tr>\n",
              "  </thead>\n",
              "  <tbody>\n",
              "    <tr>\n",
              "      <th>4391</th>\n",
              "      <td>Detective Hank and the Golden Sneeze</td>\n",
              "      <td>6</td>\n",
              "      <td>0.88</td>\n",
              "      <td>0.88</td>\n",
              "      <td>0.15</td>\n",
              "      <td>NaN</td>\n",
              "      <td>0.0</td>\n",
              "      <td>16</td>\n",
              "      <td>503980</td>\n",
              "    </tr>\n",
              "  </tbody>\n",
              "</table>\n",
              "</div>"
            ],
            "text/plain": [
              "                                      Game  # Cards  ...  Avg Qty   AppId\n",
              "4391  Detective Hank and the Golden Sneeze        6  ...       16  503980\n",
              "\n",
              "[1 rows x 9 columns]"
            ]
          },
          "metadata": {
            "tags": []
          },
          "execution_count": 11
        }
      ]
    },
    {
      "cell_type": "code",
      "metadata": {
        "id": "evllmmNSzUO7",
        "colab_type": "code",
        "colab": {}
      },
      "source": [
        "#qnd_cartas = amostra['# Cards'].values[0]\n",
        "#qnd_cartas"
      ],
      "execution_count": 0,
      "outputs": []
    },
    {
      "cell_type": "code",
      "metadata": {
        "id": "KNr-GKW8mPqn",
        "colab_type": "code",
        "colab": {
          "base_uri": "https://localhost:8080/",
          "height": 33
        },
        "outputId": "5c38ef0a-d238-4d18-b318-3da8ea1b92fd"
      },
      "source": [
        "AppId = amostra['AppId'].values[0]\n",
        "AppId"
      ],
      "execution_count": 13,
      "outputs": [
        {
          "output_type": "execute_result",
          "data": {
            "text/plain": [
              "'503980'"
            ]
          },
          "metadata": {
            "tags": []
          },
          "execution_count": 13
        }
      ]
    },
    {
      "cell_type": "code",
      "metadata": {
        "id": "4pJmmcJoljXF",
        "colab_type": "code",
        "colab": {
          "base_uri": "https://localhost:8080/",
          "height": 33
        },
        "outputId": "dbcc49bc-c656-4ff6-8783-7243a61d5d5a"
      },
      "source": [
        "url = 'https://www.steamcardexchange.net/index.php?gamepage-appid-'+AppId\n",
        "url"
      ],
      "execution_count": 14,
      "outputs": [
        {
          "output_type": "execute_result",
          "data": {
            "text/plain": [
              "'https://www.steamcardexchange.net/index.php?gamepage-appid-503980'"
            ]
          },
          "metadata": {
            "tags": []
          },
          "execution_count": 14
        }
      ]
    },
    {
      "cell_type": "code",
      "metadata": {
        "id": "CxstlrchtpA-",
        "colab_type": "code",
        "colab": {}
      },
      "source": [
        "uClient = urlopen(url)\n",
        "page_html = uClient.read()\n",
        "uClient.close()"
      ],
      "execution_count": 0,
      "outputs": []
    },
    {
      "cell_type": "code",
      "metadata": {
        "id": "4kWtXhe8uwYJ",
        "colab_type": "code",
        "colab": {}
      },
      "source": [
        "soup = BeautifulSoup(page_html, 'html.parser')"
      ],
      "execution_count": 0,
      "outputs": []
    },
    {
      "cell_type": "code",
      "metadata": {
        "id": "yjFmY-_g1VTR",
        "colab_type": "code",
        "colab": {
          "base_uri": "https://localhost:8080/",
          "height": 131
        },
        "outputId": "61b63030-1e87-43ab-af0e-b330232bdaeb"
      },
      "source": [
        "cards_script = soup.find(\"div\",{\"id\":\"cards\"})\n",
        "card_list = cards_script.findAll(\"div\",{\"class\":\"showcase-element\"})\n",
        "temporario = []\n",
        "for item in card_list: # retira itens vazios\n",
        "  if not item.a == None: temporario.append(item)\n",
        "card_list = temporario\n",
        "\n",
        "precos_das_cartas = []\n",
        "for item in card_list: \n",
        "  try: precos_das_cartas.append( ((item.find(\"div\", {\"class\":\"element-button\"})).text)[8:] )\n",
        "  except:\n",
        "    print('Arumando erro 368020, sem valor para carta... adicinonando NaN')\n",
        "    precos_das_cartas.append( 'nan' )\n",
        "\n",
        "precos_das_cartas = pd.Series(precos_das_cartas).apply(remove_virgula_perdida).astype('float64')\n",
        "precos_das_cartas"
      ],
      "execution_count": 20,
      "outputs": [
        {
          "output_type": "execute_result",
          "data": {
            "text/plain": [
              "0    0.07\n",
              "1    0.15\n",
              "2    0.18\n",
              "3    0.07\n",
              "4    0.27\n",
              "5    0.14\n",
              "dtype: float64"
            ]
          },
          "metadata": {
            "tags": []
          },
          "execution_count": 20
        }
      ]
    }
  ]
}