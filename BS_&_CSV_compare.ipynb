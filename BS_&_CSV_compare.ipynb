{
  "nbformat": 4,
  "nbformat_minor": 0,
  "metadata": {
    "colab": {
      "name": "BS & CSV compare.ipynb",
      "provenance": [],
      "collapsed_sections": [],
      "include_colab_link": true
    },
    "kernelspec": {
      "name": "python3",
      "display_name": "Python 3"
    },
    "accelerator": "GPU"
  },
  "cells": [
    {
      "cell_type": "markdown",
      "metadata": {
        "id": "view-in-github",
        "colab_type": "text"
      },
      "source": [
        "<a href=\"https://colab.research.google.com/github/Zorug/Steam-Stuff/blob/master/BS_%26_CSV_compare.ipynb\" target=\"_parent\"><img src=\"https://colab.research.google.com/assets/colab-badge.svg\" alt=\"Open In Colab\"/></a>"
      ]
    },
    {
      "cell_type": "markdown",
      "metadata": {
        "id": "hLL8czQteHs3",
        "colab_type": "text"
      },
      "source": [
        "# Info"
      ]
    },
    {
      "cell_type": "markdown",
      "metadata": {
        "id": "2zf8N2w3S4CY",
        "colab_type": "text"
      },
      "source": [
        "comparação com os dados do site: https://www.steamcardexchange.net "
      ]
    },
    {
      "cell_type": "markdown",
      "metadata": {
        "id": "3BfUlIJSS7Uw",
        "colab_type": "text"
      },
      "source": [
        "extração do csv: https://steam.tools/cards/"
      ]
    },
    {
      "cell_type": "code",
      "metadata": {
        "id": "x2rkhROFT4RW",
        "colab_type": "code",
        "outputId": "f7a69017-db37-4a26-a542-59fd2030ab07",
        "colab": {
          "base_uri": "https://localhost:8080/",
          "height": 53
        }
      },
      "source": [
        "\"\"\" info da columns:\n",
        "Game: Name of the set's game\n",
        "# Cards: Number of cards in the set\n",
        "Set Price: The total price of all the cards for the set\n",
        "Card Avg: The averege price of a card in the set\n",
        "Booster Avg: The average price of a card from the set's booster\n",
        "Booster %: How many percent cheaper avarage booster cards are for the set\n",
        "Emote Avg: The average price of the set's emoticons\n",
        "BG Avg: The average price of the set's bachgrounds\n",
        "Avg Qty: The average quantity of items on the market\n",
        "Discount: The money you would make by selling all your drops for that game\n",
        "Added: The date the set was added\n",
        "\"\"\""
      ],
      "execution_count": 1,
      "outputs": [
        {
          "output_type": "execute_result",
          "data": {
            "text/plain": [
              "\" info da columns:\\nGame: Name of the set's game\\n# Cards: Number of cards in the set\\nSet Price: The total price of all the cards for the set\\nCard Avg: The averege price of a card in the set\\nBooster Avg: The average price of a card from the set's booster\\nBooster %: How many percent cheaper avarage booster cards are for the set\\nEmote Avg: The average price of the set's emoticons\\nBG Avg: The average price of the set's bachgrounds\\nAvg Qty: The average quantity of items on the market\\nDiscount: The money you would make by selling all your drops for that game\\nAdded: The date the set was added\\n\""
            ]
          },
          "metadata": {
            "tags": []
          },
          "execution_count": 1
        }
      ]
    },
    {
      "cell_type": "markdown",
      "metadata": {
        "id": "GVMjJGctd-em",
        "colab_type": "text"
      },
      "source": [
        "# Importanto libs e dados"
      ]
    },
    {
      "cell_type": "code",
      "metadata": {
        "id": "_fS0d3yJSo6G",
        "colab_type": "code",
        "outputId": "0983d8f5-8a75-4bf7-895d-9c5e62711479",
        "colab": {
          "base_uri": "https://localhost:8080/",
          "height": 33
        }
      },
      "source": [
        "import pandas as pd\n",
        "\n",
        "csv_source = 'STC_set_data.csv'\n",
        "#csv_source = 'https://raw.githubusercontent.com/Zorug/Steam-Stuff/master/STC_set_data.csv'\n",
        "dados_csv = pd.read_csv(csv_source)\n",
        "qnt_dados = dados_csv.shape[0]\n",
        "qnt_dados"
      ],
      "execution_count": 2,
      "outputs": [
        {
          "output_type": "execute_result",
          "data": {
            "text/plain": [
              "9177"
            ]
          },
          "metadata": {
            "tags": []
          },
          "execution_count": 2
        }
      ]
    },
    {
      "cell_type": "code",
      "metadata": {
        "id": "xjJSi_TAT3AA",
        "colab_type": "code",
        "outputId": "8579dab1-06d6-405c-b486-2cb0e1bba719",
        "colab": {
          "base_uri": "https://localhost:8080/",
          "height": 105
        }
      },
      "source": [
        "dados_csv.sample(2)"
      ],
      "execution_count": 3,
      "outputs": [
        {
          "output_type": "execute_result",
          "data": {
            "text/html": [
              "<div>\n",
              "<style scoped>\n",
              "    .dataframe tbody tr th:only-of-type {\n",
              "        vertical-align: middle;\n",
              "    }\n",
              "\n",
              "    .dataframe tbody tr th {\n",
              "        vertical-align: top;\n",
              "    }\n",
              "\n",
              "    .dataframe thead th {\n",
              "        text-align: right;\n",
              "    }\n",
              "</style>\n",
              "<table border=\"1\" class=\"dataframe\">\n",
              "  <thead>\n",
              "    <tr style=\"text-align: right;\">\n",
              "      <th></th>\n",
              "      <th>Game</th>\n",
              "      <th># Owned</th>\n",
              "      <th># Unique</th>\n",
              "      <th># Cards</th>\n",
              "      <th>Badge Lvl</th>\n",
              "      <th>Set Price</th>\n",
              "      <th>Price Diff</th>\n",
              "      <th>Card Avg</th>\n",
              "      <th>Booster Avg</th>\n",
              "      <th>Booster %</th>\n",
              "      <th>Emote Avg</th>\n",
              "      <th>BG Avg</th>\n",
              "      <th>Avg Qty</th>\n",
              "      <th>Discount</th>\n",
              "      <th>Added</th>\n",
              "      <th>AppId</th>\n",
              "    </tr>\n",
              "  </thead>\n",
              "  <tbody>\n",
              "    <tr>\n",
              "      <th>6227</th>\n",
              "      <td>Fake Colours</td>\n",
              "      <td>0</td>\n",
              "      <td>0</td>\n",
              "      <td>8</td>\n",
              "      <td>0</td>\n",
              "      <td>0.28</td>\n",
              "      <td>0.28</td>\n",
              "      <td>0.04</td>\n",
              "      <td>0.02</td>\n",
              "      <td>50.0</td>\n",
              "      <td>0.03</td>\n",
              "      <td>0.03</td>\n",
              "      <td>1761</td>\n",
              "      <td>0.14</td>\n",
              "      <td>2016-01-06</td>\n",
              "      <td>334300</td>\n",
              "    </tr>\n",
              "    <tr>\n",
              "      <th>8753</th>\n",
              "      <td>Velocity®Ultra</td>\n",
              "      <td>0</td>\n",
              "      <td>0</td>\n",
              "      <td>9</td>\n",
              "      <td>0</td>\n",
              "      <td>0.43</td>\n",
              "      <td>0.43</td>\n",
              "      <td>0.05</td>\n",
              "      <td>0.04</td>\n",
              "      <td>20.0</td>\n",
              "      <td>0.04</td>\n",
              "      <td>0.09</td>\n",
              "      <td>112</td>\n",
              "      <td>0.22</td>\n",
              "      <td>2013-12-12</td>\n",
              "      <td>244890</td>\n",
              "    </tr>\n",
              "  </tbody>\n",
              "</table>\n",
              "</div>"
            ],
            "text/plain": [
              "                Game  # Owned  # Unique  ...  Discount       Added   AppId\n",
              "6227    Fake Colours        0         0  ...      0.14  2016-01-06  334300\n",
              "8753  Velocity®Ultra        0         0  ...      0.22  2013-12-12  244890\n",
              "\n",
              "[2 rows x 16 columns]"
            ]
          },
          "metadata": {
            "tags": []
          },
          "execution_count": 3
        }
      ]
    },
    {
      "cell_type": "markdown",
      "metadata": {
        "id": "h9IC2rejiEo5",
        "colab_type": "text"
      },
      "source": [
        "#Organizando DataSet"
      ]
    },
    {
      "cell_type": "markdown",
      "metadata": {
        "id": "JuiPnm2IjDhl",
        "colab_type": "text"
      },
      "source": [
        "## Removendo dados inúteis para o teste"
      ]
    },
    {
      "cell_type": "code",
      "metadata": {
        "id": "TwgiVJc8aa7f",
        "colab_type": "code",
        "colab": {}
      },
      "source": [
        "dados_csv = dados_csv.drop(['# Owned', '# Unique', 'Badge Lvl','Emote Avg', 'BG Avg', 'Discount', 'Added'], axis = 1)"
      ],
      "execution_count": 0,
      "outputs": []
    },
    {
      "cell_type": "code",
      "metadata": {
        "id": "tV5gdIBSZddQ",
        "colab_type": "code",
        "outputId": "a4df3b56-535d-4d02-c073-fb97350c6883",
        "colab": {
          "base_uri": "https://localhost:8080/",
          "height": 105
        }
      },
      "source": [
        "dados_csv.sample(2)"
      ],
      "execution_count": 5,
      "outputs": [
        {
          "output_type": "execute_result",
          "data": {
            "text/html": [
              "<div>\n",
              "<style scoped>\n",
              "    .dataframe tbody tr th:only-of-type {\n",
              "        vertical-align: middle;\n",
              "    }\n",
              "\n",
              "    .dataframe tbody tr th {\n",
              "        vertical-align: top;\n",
              "    }\n",
              "\n",
              "    .dataframe thead th {\n",
              "        text-align: right;\n",
              "    }\n",
              "</style>\n",
              "<table border=\"1\" class=\"dataframe\">\n",
              "  <thead>\n",
              "    <tr style=\"text-align: right;\">\n",
              "      <th></th>\n",
              "      <th>Game</th>\n",
              "      <th># Cards</th>\n",
              "      <th>Set Price</th>\n",
              "      <th>Price Diff</th>\n",
              "      <th>Card Avg</th>\n",
              "      <th>Booster Avg</th>\n",
              "      <th>Booster %</th>\n",
              "      <th>Avg Qty</th>\n",
              "      <th>AppId</th>\n",
              "    </tr>\n",
              "  </thead>\n",
              "  <tbody>\n",
              "    <tr>\n",
              "      <th>3762</th>\n",
              "      <td>QUACK ATTACK 1985</td>\n",
              "      <td>6</td>\n",
              "      <td>0.45</td>\n",
              "      <td>0.45</td>\n",
              "      <td>0.07</td>\n",
              "      <td>NaN</td>\n",
              "      <td>0.0</td>\n",
              "      <td>18</td>\n",
              "      <td>500340</td>\n",
              "    </tr>\n",
              "    <tr>\n",
              "      <th>501</th>\n",
              "      <td>ULTIMATE HARDBASS DEFENCE</td>\n",
              "      <td>5</td>\n",
              "      <td>0.51</td>\n",
              "      <td>0.51</td>\n",
              "      <td>0.10</td>\n",
              "      <td>0.12</td>\n",
              "      <td>-20.0</td>\n",
              "      <td>55</td>\n",
              "      <td>915460</td>\n",
              "    </tr>\n",
              "  </tbody>\n",
              "</table>\n",
              "</div>"
            ],
            "text/plain": [
              "                           Game  # Cards Set Price  ... Booster %  Avg Qty   AppId\n",
              "3762          QUACK ATTACK 1985        6      0.45  ...       0.0       18  500340\n",
              "501   ULTIMATE HARDBASS DEFENCE        5      0.51  ...     -20.0       55  915460\n",
              "\n",
              "[2 rows x 9 columns]"
            ]
          },
          "metadata": {
            "tags": []
          },
          "execution_count": 5
        }
      ]
    },
    {
      "cell_type": "markdown",
      "metadata": {
        "id": "d0eTFdOxj4RE",
        "colab_type": "text"
      },
      "source": [
        "##Reorganizando os tipos"
      ]
    },
    {
      "cell_type": "code",
      "metadata": {
        "id": "_GFZk5nTetX0",
        "colab_type": "code",
        "outputId": "5a53689e-623c-41cb-c3fb-54c32cc71172",
        "colab": {
          "base_uri": "https://localhost:8080/",
          "height": 180
        }
      },
      "source": [
        "dados_csv.dtypes"
      ],
      "execution_count": 6,
      "outputs": [
        {
          "output_type": "execute_result",
          "data": {
            "text/plain": [
              "Game            object\n",
              "# Cards          int64\n",
              "Set Price       object\n",
              "Price Diff      object\n",
              "Card Avg       float64\n",
              "Booster Avg    float64\n",
              "Booster %       object\n",
              "Avg Qty          int64\n",
              "AppId            int64\n",
              "dtype: object"
            ]
          },
          "metadata": {
            "tags": []
          },
          "execution_count": 6
        }
      ]
    },
    {
      "cell_type": "code",
      "metadata": {
        "id": "iyAABwkcjw4m",
        "colab_type": "code",
        "colab": {}
      },
      "source": [
        "def remove_virgula_perdida(sentenca): # aqui estamos esvitando um erro de conversão\n",
        "    sentenca = sentenca.replace(',','')\n",
        "    return sentenca"
      ],
      "execution_count": 0,
      "outputs": []
    },
    {
      "cell_type": "code",
      "metadata": {
        "id": "Lhg9dCrskCaK",
        "colab_type": "code",
        "colab": {}
      },
      "source": [
        "para_float = ['Set Price', 'Price Diff', 'Booster %']\n",
        "for coluna in dados_csv[para_float]:\n",
        "    dados_csv[coluna] = dados_csv[coluna].apply(remove_virgula_perdida)\n",
        "\n",
        "dados_csv[para_float] = dados_csv[para_float].astype('float64')\n",
        "dados_csv['AppId'] = dados_csv['AppId'].astype('str')"
      ],
      "execution_count": 0,
      "outputs": []
    },
    {
      "cell_type": "code",
      "metadata": {
        "id": "cjjWebbhkkZf",
        "colab_type": "code",
        "outputId": "70c795d1-8836-436a-aa4d-f495c7546a74",
        "colab": {
          "base_uri": "https://localhost:8080/",
          "height": 180
        }
      },
      "source": [
        "dados_csv.dtypes"
      ],
      "execution_count": 9,
      "outputs": [
        {
          "output_type": "execute_result",
          "data": {
            "text/plain": [
              "Game            object\n",
              "# Cards          int64\n",
              "Set Price      float64\n",
              "Price Diff     float64\n",
              "Card Avg       float64\n",
              "Booster Avg    float64\n",
              "Booster %      float64\n",
              "Avg Qty          int64\n",
              "AppId           object\n",
              "dtype: object"
            ]
          },
          "metadata": {
            "tags": []
          },
          "execution_count": 9
        }
      ]
    },
    {
      "cell_type": "markdown",
      "metadata": {
        "id": "gG2lxVp6qA9n",
        "colab_type": "text"
      },
      "source": [
        "#Me parece que o price Diff é o mesmovalor do set price, será?"
      ]
    },
    {
      "cell_type": "code",
      "metadata": {
        "id": "A6-WgNg1p4XO",
        "colab_type": "code",
        "outputId": "1e807c90-c834-4426-a7ba-7dd6c3f60da2",
        "colab": {
          "base_uri": "https://localhost:8080/",
          "height": 145
        }
      },
      "source": [
        "teste = dados_csv[['Set Price', 'Price Diff']]\n",
        "teste['Diferença'] = teste['Set Price'] - teste['Price Diff']\n",
        "teste.query('Diferença != 0.0')"
      ],
      "execution_count": 10,
      "outputs": [
        {
          "output_type": "stream",
          "text": [
            "/usr/local/lib/python3.6/dist-packages/ipykernel_launcher.py:2: SettingWithCopyWarning: \n",
            "A value is trying to be set on a copy of a slice from a DataFrame.\n",
            "Try using .loc[row_indexer,col_indexer] = value instead\n",
            "\n",
            "See the caveats in the documentation: http://pandas.pydata.org/pandas-docs/stable/user_guide/indexing.html#returning-a-view-versus-a-copy\n",
            "  \n"
          ],
          "name": "stderr"
        },
        {
          "output_type": "execute_result",
          "data": {
            "text/html": [
              "<div>\n",
              "<style scoped>\n",
              "    .dataframe tbody tr th:only-of-type {\n",
              "        vertical-align: middle;\n",
              "    }\n",
              "\n",
              "    .dataframe tbody tr th {\n",
              "        vertical-align: top;\n",
              "    }\n",
              "\n",
              "    .dataframe thead th {\n",
              "        text-align: right;\n",
              "    }\n",
              "</style>\n",
              "<table border=\"1\" class=\"dataframe\">\n",
              "  <thead>\n",
              "    <tr style=\"text-align: right;\">\n",
              "      <th></th>\n",
              "      <th>Set Price</th>\n",
              "      <th>Price Diff</th>\n",
              "      <th>Diferença</th>\n",
              "    </tr>\n",
              "  </thead>\n",
              "  <tbody>\n",
              "  </tbody>\n",
              "</table>\n",
              "</div>"
            ],
            "text/plain": [
              "Empty DataFrame\n",
              "Columns: [Set Price, Price Diff, Diferença]\n",
              "Index: []"
            ]
          },
          "metadata": {
            "tags": []
          },
          "execution_count": 10
        }
      ]
    },
    {
      "cell_type": "markdown",
      "metadata": {
        "id": "GrktFEJLrGVF",
        "colab_type": "text"
      },
      "source": [
        "se não há diferença então são iguais"
      ]
    },
    {
      "cell_type": "code",
      "metadata": {
        "id": "m7FWhysfrTS5",
        "colab_type": "code",
        "colab": {}
      },
      "source": [
        "dados_csv = dados_csv.drop('Price Diff', axis=1)"
      ],
      "execution_count": 0,
      "outputs": []
    },
    {
      "cell_type": "markdown",
      "metadata": {
        "id": "QoH8j9u4er6R",
        "colab_type": "text"
      },
      "source": [
        "# BeautifulSoup"
      ]
    },
    {
      "cell_type": "code",
      "metadata": {
        "id": "jr6WARI7k81E",
        "colab_type": "code",
        "colab": {}
      },
      "source": [
        "import bs4\n",
        "from urllib.request import urlopen\n",
        "from bs4 import BeautifulSoup"
      ],
      "execution_count": 0,
      "outputs": []
    },
    {
      "cell_type": "code",
      "metadata": {
        "id": "yjFmY-_g1VTR",
        "colab_type": "code",
        "colab": {}
      },
      "source": [
        "def arruma_string(string_to_go):\n",
        "  if(string_to_go == 'A'): return 'nan'\n",
        "  elif(string_to_go[0] == 'n'): return string_to_go[4:]\n",
        "  else: return string_to_go\n",
        "\n",
        "def captura_dados_cartas(soup):\n",
        "  cards_script = soup.find(\"div\",{\"id\":\"cards\"})\n",
        "  card_list = cards_script.findAll(\"div\",{\"class\":\"showcase-element\"})\n",
        "  temporario = []\n",
        "  for item in card_list: # retira itens vazios\n",
        "    if not item.a == None: temporario.append(item)\n",
        "  card_list = temporario\n",
        "\n",
        "  precos_das_cartas = []\n",
        "  for item in card_list: \n",
        "    try: \n",
        "      precos_das_cartas.append( arruma_string( ((item.find(\"div\", {\"class\":\"element-button\"})).text)[8:] ) )\n",
        "    except:\n",
        "      print('Arumando erro 368020, sem valor para carta... adicinonando NaN')\n",
        "      precos_das_cartas.append( 'nan' )\n",
        "\n",
        "  precos_das_cartas = pd.Series(precos_das_cartas).apply(remove_virgula_perdida).astype('float64')\n",
        "\n",
        "  return precos_das_cartas"
      ],
      "execution_count": 0,
      "outputs": []
    },
    {
      "cell_type": "code",
      "metadata": {
        "id": "yvxXPEWtCiOE",
        "colab_type": "code",
        "colab": {}
      },
      "source": [
        "def captura_dados_booster(soup):\n",
        "  booster_script = soup.find(\"div\",{\"id\":\"booster\"})\n",
        "\n",
        "  try:\n",
        "    sub_script = (booster_script.find(\"div\",{\"class\":\"showcase-element-container booster\"}))\n",
        "    booster_title = sub_script.img[\"alt\"]\n",
        "    preco_booster = arruma_string( ((sub_script.find(\"a\", {\"class\":\"button-blue\"})).text)[8:] )\n",
        "  except:\n",
        "    print('Erro de booster inexistente.')\n",
        "    booster_title = '------'\n",
        "    preco_booster = 'nan'\n",
        "\n",
        "  preco_booster = pd.Series(preco_booster).apply(remove_virgula_perdida).astype('float64').values[0]\n",
        "  \n",
        "  return booster_title, preco_booster"
      ],
      "execution_count": 0,
      "outputs": []
    },
    {
      "cell_type": "code",
      "metadata": {
        "id": "GLC2yJv8WWGS",
        "colab_type": "code",
        "colab": {}
      },
      "source": [
        "def arredonda(valor, casas = 2):\n",
        "  return round(valor, casas)"
      ],
      "execution_count": 0,
      "outputs": []
    },
    {
      "cell_type": "code",
      "metadata": {
        "id": "KNr-GKW8mPqn",
        "colab_type": "code",
        "outputId": "0ad5ed41-a5ae-49d2-aa24-7994c5e53107",
        "colab": {
          "base_uri": "https://localhost:8080/",
          "height": 33
        }
      },
      "source": [
        "list_index_sample = []\n",
        "list_booster_title = []\n",
        "list_booster_price = []\n",
        "list_set_price = []\n",
        "list_card_mean = []\n",
        "\n",
        "for i in range(150):\n",
        "#for i in range(qnt_dados):\n",
        "  amostra = dados_csv.sample(1)\n",
        "  #amostra = dados_csv[dados_csv.index == i]\n",
        "  AppId = amostra['AppId'].values[0]\n",
        "  url = 'https://www.steamcardexchange.net/index.php?gamepage-appid-'+AppId\n",
        "\n",
        "  uClient = urlopen(url)\n",
        "  page_html = uClient.read()\n",
        "  uClient.close()\n",
        "\n",
        "  soup = BeautifulSoup(page_html, 'html.parser')\n",
        "\n",
        "  precos_das_cartas = captura_dados_cartas(soup)\n",
        "  booster_title, preco_booster = captura_dados_booster(soup)\n",
        "\n",
        "  #print('tipo do preço das cartas:', type(precos_das_cartas))\n",
        "\n",
        "  #print(AppId)\n",
        "  #print('índice:',amostra['AppId'].index[0])\n",
        "  list_index_sample.append(amostra['AppId'].index[0])\n",
        "  #print('Preços das cartas =', precos_das_cartas.values)\n",
        "  #print('Set Price =', arredonda(precos_das_cartas.sum()))\n",
        "  list_set_price.append(arredonda(precos_das_cartas.sum()))\n",
        "\n",
        "  #print('Card Avg =', arredonda(precos_das_cartas.mean()))\n",
        "  list_card_mean.append(arredonda(precos_das_cartas.mean()))\n",
        "  #print('Título:', booster_title)\n",
        "  list_booster_title.append(booster_title)\n",
        "  #print('Preço do booster:', preco_booster)\n",
        "  list_booster_price.append(preco_booster)\n",
        "  #print('')"
      ],
      "execution_count": 16,
      "outputs": [
        {
          "output_type": "stream",
          "text": [
            "Erro de booster inexistente.\n"
          ],
          "name": "stdout"
        }
      ]
    },
    {
      "cell_type": "markdown",
      "metadata": {
        "id": "dx04wNPfh-cQ",
        "colab_type": "text"
      },
      "source": [
        "# Comparações"
      ]
    },
    {
      "cell_type": "code",
      "metadata": {
        "id": "Li0tWO8JDUoQ",
        "colab_type": "code",
        "colab": {}
      },
      "source": [
        "#list_index_sample"
      ],
      "execution_count": 0,
      "outputs": []
    },
    {
      "cell_type": "code",
      "metadata": {
        "id": "o8YseThGQ8T6",
        "colab_type": "code",
        "colab": {
          "base_uri": "https://localhost:8080/",
          "height": 133
        },
        "outputId": "f3bb942c-682a-4942-b4d7-0f7605dbdecd"
      },
      "source": [
        "dados_to_compare = dados_csv.loc[list_index_sample]\n",
        "compare_csv = dados_to_compare.drop(['Game', '# Cards', 'Avg Qty', 'AppId'], axis=1)\n",
        "compare_csv.sample(3)"
      ],
      "execution_count": 18,
      "outputs": [
        {
          "output_type": "execute_result",
          "data": {
            "text/html": [
              "<div>\n",
              "<style scoped>\n",
              "    .dataframe tbody tr th:only-of-type {\n",
              "        vertical-align: middle;\n",
              "    }\n",
              "\n",
              "    .dataframe tbody tr th {\n",
              "        vertical-align: top;\n",
              "    }\n",
              "\n",
              "    .dataframe thead th {\n",
              "        text-align: right;\n",
              "    }\n",
              "</style>\n",
              "<table border=\"1\" class=\"dataframe\">\n",
              "  <thead>\n",
              "    <tr style=\"text-align: right;\">\n",
              "      <th></th>\n",
              "      <th>Set Price</th>\n",
              "      <th>Card Avg</th>\n",
              "      <th>Booster Avg</th>\n",
              "      <th>Booster %</th>\n",
              "    </tr>\n",
              "  </thead>\n",
              "  <tbody>\n",
              "    <tr>\n",
              "      <th>2828</th>\n",
              "      <td>1.03</td>\n",
              "      <td>0.15</td>\n",
              "      <td>NaN</td>\n",
              "      <td>0.0</td>\n",
              "    </tr>\n",
              "    <tr>\n",
              "      <th>7754</th>\n",
              "      <td>0.54</td>\n",
              "      <td>0.11</td>\n",
              "      <td>0.08</td>\n",
              "      <td>27.3</td>\n",
              "    </tr>\n",
              "    <tr>\n",
              "      <th>7540</th>\n",
              "      <td>0.32</td>\n",
              "      <td>0.04</td>\n",
              "      <td>0.03</td>\n",
              "      <td>25.0</td>\n",
              "    </tr>\n",
              "  </tbody>\n",
              "</table>\n",
              "</div>"
            ],
            "text/plain": [
              "      Set Price  Card Avg  Booster Avg  Booster %\n",
              "2828       1.03      0.15          NaN        0.0\n",
              "7754       0.54      0.11         0.08       27.3\n",
              "7540       0.32      0.04         0.03       25.0"
            ]
          },
          "metadata": {
            "tags": []
          },
          "execution_count": 18
        }
      ]
    },
    {
      "cell_type": "code",
      "metadata": {
        "id": "5u42Gc3egWlA",
        "colab_type": "code",
        "colab": {}
      },
      "source": [
        "compare_csv['BS4_Set'] = list_set_price\n",
        "compare_csv['BS4_CAvg'] = list_card_mean\n",
        "compare_csv['BS4_Booster'] = list_booster_price"
      ],
      "execution_count": 0,
      "outputs": []
    },
    {
      "cell_type": "code",
      "metadata": {
        "id": "5pYjvg3sgrlW",
        "colab_type": "code",
        "colab": {
          "base_uri": "https://localhost:8080/",
          "height": 191
        },
        "outputId": "30be00da-de53-455b-954b-7ad47c1b2dc4"
      },
      "source": [
        "compare_csv.sample(5)"
      ],
      "execution_count": 20,
      "outputs": [
        {
          "output_type": "execute_result",
          "data": {
            "text/html": [
              "<div>\n",
              "<style scoped>\n",
              "    .dataframe tbody tr th:only-of-type {\n",
              "        vertical-align: middle;\n",
              "    }\n",
              "\n",
              "    .dataframe tbody tr th {\n",
              "        vertical-align: top;\n",
              "    }\n",
              "\n",
              "    .dataframe thead th {\n",
              "        text-align: right;\n",
              "    }\n",
              "</style>\n",
              "<table border=\"1\" class=\"dataframe\">\n",
              "  <thead>\n",
              "    <tr style=\"text-align: right;\">\n",
              "      <th></th>\n",
              "      <th>Set Price</th>\n",
              "      <th>Card Avg</th>\n",
              "      <th>Booster Avg</th>\n",
              "      <th>Booster %</th>\n",
              "      <th>BS4_Set</th>\n",
              "      <th>BS4_CAvg</th>\n",
              "      <th>BS4_Booster</th>\n",
              "    </tr>\n",
              "  </thead>\n",
              "  <tbody>\n",
              "    <tr>\n",
              "      <th>3241</th>\n",
              "      <td>0.89</td>\n",
              "      <td>0.06</td>\n",
              "      <td>0.14</td>\n",
              "      <td>-133.3</td>\n",
              "      <td>0.88</td>\n",
              "      <td>0.06</td>\n",
              "      <td>0.42</td>\n",
              "    </tr>\n",
              "    <tr>\n",
              "      <th>5524</th>\n",
              "      <td>0.72</td>\n",
              "      <td>0.08</td>\n",
              "      <td>0.08</td>\n",
              "      <td>0.0</td>\n",
              "      <td>0.75</td>\n",
              "      <td>0.08</td>\n",
              "      <td>0.23</td>\n",
              "    </tr>\n",
              "    <tr>\n",
              "      <th>8774</th>\n",
              "      <td>0.39</td>\n",
              "      <td>0.07</td>\n",
              "      <td>0.04</td>\n",
              "      <td>42.9</td>\n",
              "      <td>0.39</td>\n",
              "      <td>0.07</td>\n",
              "      <td>0.10</td>\n",
              "    </tr>\n",
              "    <tr>\n",
              "      <th>5092</th>\n",
              "      <td>0.56</td>\n",
              "      <td>0.11</td>\n",
              "      <td>0.10</td>\n",
              "      <td>9.1</td>\n",
              "      <td>0.56</td>\n",
              "      <td>0.11</td>\n",
              "      <td>0.29</td>\n",
              "    </tr>\n",
              "    <tr>\n",
              "      <th>4623</th>\n",
              "      <td>0.51</td>\n",
              "      <td>0.06</td>\n",
              "      <td>0.03</td>\n",
              "      <td>50.0</td>\n",
              "      <td>0.49</td>\n",
              "      <td>0.05</td>\n",
              "      <td>0.10</td>\n",
              "    </tr>\n",
              "  </tbody>\n",
              "</table>\n",
              "</div>"
            ],
            "text/plain": [
              "      Set Price  Card Avg  Booster Avg  ...  BS4_Set  BS4_CAvg  BS4_Booster\n",
              "3241       0.89      0.06         0.14  ...     0.88      0.06         0.42\n",
              "5524       0.72      0.08         0.08  ...     0.75      0.08         0.23\n",
              "8774       0.39      0.07         0.04  ...     0.39      0.07         0.10\n",
              "5092       0.56      0.11         0.10  ...     0.56      0.11         0.29\n",
              "4623       0.51      0.06         0.03  ...     0.49      0.05         0.10\n",
              "\n",
              "[5 rows x 7 columns]"
            ]
          },
          "metadata": {
            "tags": []
          },
          "execution_count": 20
        }
      ]
    },
    {
      "cell_type": "code",
      "metadata": {
        "id": "-UQlfiCviJKD",
        "colab_type": "code",
        "colab": {}
      },
      "source": [
        "import seaborn as sns\n",
        "import matplotlib.pyplot as plt"
      ],
      "execution_count": 0,
      "outputs": []
    },
    {
      "cell_type": "code",
      "metadata": {
        "id": "1Fh8eQThnJ59",
        "colab_type": "code",
        "colab": {
          "base_uri": "https://localhost:8080/",
          "height": 248
        },
        "outputId": "1daa17df-db59-45f8-9f19-f1a096f6fa9e"
      },
      "source": [
        "compare_csv.corr().round(2)"
      ],
      "execution_count": 22,
      "outputs": [
        {
          "output_type": "execute_result",
          "data": {
            "text/html": [
              "<div>\n",
              "<style scoped>\n",
              "    .dataframe tbody tr th:only-of-type {\n",
              "        vertical-align: middle;\n",
              "    }\n",
              "\n",
              "    .dataframe tbody tr th {\n",
              "        vertical-align: top;\n",
              "    }\n",
              "\n",
              "    .dataframe thead th {\n",
              "        text-align: right;\n",
              "    }\n",
              "</style>\n",
              "<table border=\"1\" class=\"dataframe\">\n",
              "  <thead>\n",
              "    <tr style=\"text-align: right;\">\n",
              "      <th></th>\n",
              "      <th>Set Price</th>\n",
              "      <th>Card Avg</th>\n",
              "      <th>Booster Avg</th>\n",
              "      <th>Booster %</th>\n",
              "      <th>BS4_Set</th>\n",
              "      <th>BS4_CAvg</th>\n",
              "      <th>BS4_Booster</th>\n",
              "    </tr>\n",
              "  </thead>\n",
              "  <tbody>\n",
              "    <tr>\n",
              "      <th>Set Price</th>\n",
              "      <td>1.00</td>\n",
              "      <td>0.98</td>\n",
              "      <td>0.44</td>\n",
              "      <td>-0.06</td>\n",
              "      <td>0.99</td>\n",
              "      <td>0.98</td>\n",
              "      <td>0.42</td>\n",
              "    </tr>\n",
              "    <tr>\n",
              "      <th>Card Avg</th>\n",
              "      <td>0.98</td>\n",
              "      <td>1.00</td>\n",
              "      <td>0.43</td>\n",
              "      <td>-0.04</td>\n",
              "      <td>0.97</td>\n",
              "      <td>0.99</td>\n",
              "      <td>0.40</td>\n",
              "    </tr>\n",
              "    <tr>\n",
              "      <th>Booster Avg</th>\n",
              "      <td>0.44</td>\n",
              "      <td>0.43</td>\n",
              "      <td>1.00</td>\n",
              "      <td>-0.88</td>\n",
              "      <td>0.45</td>\n",
              "      <td>0.43</td>\n",
              "      <td>1.00</td>\n",
              "    </tr>\n",
              "    <tr>\n",
              "      <th>Booster %</th>\n",
              "      <td>-0.06</td>\n",
              "      <td>-0.04</td>\n",
              "      <td>-0.88</td>\n",
              "      <td>1.00</td>\n",
              "      <td>-0.06</td>\n",
              "      <td>-0.04</td>\n",
              "      <td>-0.77</td>\n",
              "    </tr>\n",
              "    <tr>\n",
              "      <th>BS4_Set</th>\n",
              "      <td>0.99</td>\n",
              "      <td>0.97</td>\n",
              "      <td>0.45</td>\n",
              "      <td>-0.06</td>\n",
              "      <td>1.00</td>\n",
              "      <td>0.98</td>\n",
              "      <td>0.41</td>\n",
              "    </tr>\n",
              "    <tr>\n",
              "      <th>BS4_CAvg</th>\n",
              "      <td>0.98</td>\n",
              "      <td>0.99</td>\n",
              "      <td>0.43</td>\n",
              "      <td>-0.04</td>\n",
              "      <td>0.98</td>\n",
              "      <td>1.00</td>\n",
              "      <td>0.39</td>\n",
              "    </tr>\n",
              "    <tr>\n",
              "      <th>BS4_Booster</th>\n",
              "      <td>0.42</td>\n",
              "      <td>0.40</td>\n",
              "      <td>1.00</td>\n",
              "      <td>-0.77</td>\n",
              "      <td>0.41</td>\n",
              "      <td>0.39</td>\n",
              "      <td>1.00</td>\n",
              "    </tr>\n",
              "  </tbody>\n",
              "</table>\n",
              "</div>"
            ],
            "text/plain": [
              "             Set Price  Card Avg  Booster Avg  ...  BS4_Set  BS4_CAvg  BS4_Booster\n",
              "Set Price         1.00      0.98         0.44  ...     0.99      0.98         0.42\n",
              "Card Avg          0.98      1.00         0.43  ...     0.97      0.99         0.40\n",
              "Booster Avg       0.44      0.43         1.00  ...     0.45      0.43         1.00\n",
              "Booster %        -0.06     -0.04        -0.88  ...    -0.06     -0.04        -0.77\n",
              "BS4_Set           0.99      0.97         0.45  ...     1.00      0.98         0.41\n",
              "BS4_CAvg          0.98      0.99         0.43  ...     0.98      1.00         0.39\n",
              "BS4_Booster       0.42      0.40         1.00  ...     0.41      0.39         1.00\n",
              "\n",
              "[7 rows x 7 columns]"
            ]
          },
          "metadata": {
            "tags": []
          },
          "execution_count": 22
        }
      ]
    },
    {
      "cell_type": "code",
      "metadata": {
        "id": "Py1TgNYCg4ak",
        "colab_type": "code",
        "colab": {
          "base_uri": "https://localhost:8080/",
          "height": 338
        },
        "outputId": "9ac7ca2b-ae9f-4b0a-da1e-92157f798101"
      },
      "source": [
        "matriz_correlacao = compare_csv.corr()\n",
        "#plt.figure(figsize = (11, 10))\n",
        "ax = sns.heatmap(matriz_correlacao, annot = True, fmt = \".2f\")\n",
        "ax"
      ],
      "execution_count": 23,
      "outputs": [
        {
          "output_type": "execute_result",
          "data": {
            "text/plain": [
              "<matplotlib.axes._subplots.AxesSubplot at 0x7feca490ba20>"
            ]
          },
          "metadata": {
            "tags": []
          },
          "execution_count": 23
        },
        {
          "output_type": "display_data",
          "data": {
            "image/png": "[encoded data removed]",
            "text/plain": [
              "<Figure size 432x288 with 2 Axes>"
            ]
          },
          "metadata": {
            "tags": []
          }
        }
      ]
    },
    {
      "cell_type": "code",
      "metadata": {
        "id": "f5tNvXZlpalO",
        "colab_type": "code",
        "colab": {
          "base_uri": "https://localhost:8080/",
          "height": 508
        },
        "outputId": "6d6398f9-2126-4f76-bf47-adecd1eded0d"
      },
      "source": [
        "fig, (ax1, ax2, ax3) = plt.subplots(ncols=3, sharey=False, figsize=(20, 7))\n",
        "sns.regplot(x='Set Price', y='BS4_Set', data=compare_csv, ax=ax1)\n",
        "sns.regplot(x='Card Avg', y='BS4_CAvg', data=compare_csv, ax=ax2)\n",
        "sns.regplot(x='Booster Avg', y='BS4_Booster', data=compare_csv, ax=ax3)\n",
        "fig.suptitle(\"Relacionando os dados BS4xCSV\", fontsize=24)"
      ],
      "execution_count": 24,
      "outputs": [
        {
          "output_type": "execute_result",
          "data": {
            "text/plain": [
              "Text(0.5, 0.98, 'Relacionando os dados BS4xCSV')"
            ]
          },
          "metadata": {
            "tags": []
          },
          "execution_count": 24
        },
        {
          "output_type": "display_data",
          "data": {
            "image/png": "[encoded data removed]",
            "text/plain": [
              "<Figure size 1440x504 with 3 Axes>"
            ]
          },
          "metadata": {
            "tags": []
          }
        }
      ]
    },
    {
      "cell_type": "code",
      "metadata": {
        "id": "nT8R64Xwx23l",
        "colab_type": "code",
        "colab": {
          "base_uri": "https://localhost:8080/",
          "height": 496
        },
        "outputId": "1ec23919-1f53-4aab-bfeb-00a2d8e2b397"
      },
      "source": [
        "fig, (ax1, ax2, ax3) = plt.subplots(ncols=3, sharey=False, figsize=(25, 7))\n",
        "sns.boxplot(data=compare_csv[['BS4_Set', 'Set Price']], showfliers=False, ax=ax1)\n",
        "sns.boxplot(data=compare_csv[['BS4_CAvg', 'Card Avg']], showfliers=False, ax=ax2)\n",
        "sns.boxplot(data=compare_csv[['BS4_Booster', 'Booster Avg']], showfliers=False, ax=ax3)\n",
        "fig.suptitle(\"Comparando os dados BS4xCSV\", fontsize=24)"
      ],
      "execution_count": 25,
      "outputs": [
        {
          "output_type": "execute_result",
          "data": {
            "text/plain": [
              "Text(0.5, 0.98, 'Comparando os dados BS4xCSV')"
            ]
          },
          "metadata": {
            "tags": []
          },
          "execution_count": 25
        },
        {
          "output_type": "display_data",
          "data": {
            "image/png": "[encoded data removed]",
            "text/plain": [
              "<Figure size 1800x504 with 3 Axes>"
            ]
          },
          "metadata": {
            "tags": []
          }
        }
      ]
    },
    {
      "cell_type": "markdown",
      "metadata": {
        "id": "lfzp9Vzz0bPQ",
        "colab_type": "text"
      },
      "source": [
        "\n",
        "\n",
        "---\n",
        "\n",
        "## **Há uma diferença bem clara na comparação dos boosters**\n",
        "\n",
        "---\n",
        "\n",
        "\n",
        "\n"
      ]
    },
    {
      "cell_type": "markdown",
      "metadata": {
        "id": "SLAgM52kzTPp",
        "colab_type": "text"
      },
      "source": [
        "## Estudo dos nulos"
      ]
    },
    {
      "cell_type": "code",
      "metadata": {
        "id": "QxB9mwyDic_q",
        "colab_type": "code",
        "colab": {}
      },
      "source": [
        "import numpy as np\n",
        "not_null_1 = compare_csv[~compare_csv['Booster Avg'].isna()][[\"BS4_Booster\", \"Booster Avg\"]]"
      ],
      "execution_count": 0,
      "outputs": []
    },
    {
      "cell_type": "code",
      "metadata": {
        "id": "mVKQer7Xnbvb",
        "colab_type": "code",
        "colab": {}
      },
      "source": [
        "compare_sem_nulos = not_null_1[~not_null_1['BS4_Booster'].isna()]"
      ],
      "execution_count": 0,
      "outputs": []
    },
    {
      "cell_type": "code",
      "metadata": {
        "id": "SFf4X0Jv1zLc",
        "colab_type": "code",
        "colab": {
          "base_uri": "https://localhost:8080/",
          "height": 416
        },
        "outputId": "07bcbb4e-506a-4582-ff33-c462f8cd184f"
      },
      "source": [
        "plt.figure(figsize=(10, 6))\n",
        "ax = sns.boxplot(data=compare_sem_nulos, showfliers=False)\n",
        "ax.set_title(\"Comparando os dados BS4xCSV sem nulos\", fontsize=24)\n",
        "#ax.figsize = (25, 7)"
      ],
      "execution_count": 43,
      "outputs": [
        {
          "output_type": "execute_result",
          "data": {
            "text/plain": [
              "Text(0.5, 1.0, 'Comparando os dados BS4xCSV sem nulos')"
            ]
          },
          "metadata": {
            "tags": []
          },
          "execution_count": 43
        },
        {
          "output_type": "display_data",
          "data": {
            "image/png": "[encoded data removed]",
            "text/plain": [
              "<Figure size 720x432 with 1 Axes>"
            ]
          },
          "metadata": {
            "tags": []
          }
        }
      ]
    },
    {
      "cell_type": "markdown",
      "metadata": {
        "colab_type": "text",
        "id": "AxRcsAM38FO6"
      },
      "source": [
        "\n",
        "\n",
        "---\n",
        "\n",
        "## **Essa verificação não foi relevante... talvez haja uma diferença bastante significativa ai**\n",
        "\n",
        "---\n",
        "\n",
        "\n",
        "\n"
      ]
    },
    {
      "cell_type": "code",
      "metadata": {
        "id": "LFWVWoRA2HFA",
        "colab_type": "code",
        "colab": {
          "base_uri": "https://localhost:8080/",
          "height": 115
        },
        "outputId": "194fea1e-ccaa-47c5-d626-7d664c8efe6f"
      },
      "source": [
        "compare_sem_nulos[\"Differença Booster\"] = compare_sem_nulos[\"BS4_Booster\"] - compare_sem_nulos[\"Booster Avg\"]"
      ],
      "execution_count": 45,
      "outputs": [
        {
          "output_type": "stream",
          "text": [
            "/usr/local/lib/python3.6/dist-packages/ipykernel_launcher.py:1: SettingWithCopyWarning: \n",
            "A value is trying to be set on a copy of a slice from a DataFrame.\n",
            "Try using .loc[row_indexer,col_indexer] = value instead\n",
            "\n",
            "See the caveats in the documentation: http://pandas.pydata.org/pandas-docs/stable/user_guide/indexing.html#returning-a-view-versus-a-copy\n",
            "  \"\"\"Entry point for launching an IPython kernel.\n"
          ],
          "name": "stderr"
        }
      ]
    },
    {
      "cell_type": "code",
      "metadata": {
        "id": "_aFkoaF49bf7",
        "colab_type": "code",
        "colab": {
          "base_uri": "https://localhost:8080/",
          "height": 191
        },
        "outputId": "b073a98c-7820-4279-f184-32a32e04e43d"
      },
      "source": [
        "compare_sem_nulos.head()"
      ],
      "execution_count": 47,
      "outputs": [
        {
          "output_type": "execute_result",
          "data": {
            "text/html": [
              "<div>\n",
              "<style scoped>\n",
              "    .dataframe tbody tr th:only-of-type {\n",
              "        vertical-align: middle;\n",
              "    }\n",
              "\n",
              "    .dataframe tbody tr th {\n",
              "        vertical-align: top;\n",
              "    }\n",
              "\n",
              "    .dataframe thead th {\n",
              "        text-align: right;\n",
              "    }\n",
              "</style>\n",
              "<table border=\"1\" class=\"dataframe\">\n",
              "  <thead>\n",
              "    <tr style=\"text-align: right;\">\n",
              "      <th></th>\n",
              "      <th>BS4_Booster</th>\n",
              "      <th>Booster Avg</th>\n",
              "      <th>Differença Booster</th>\n",
              "    </tr>\n",
              "  </thead>\n",
              "  <tbody>\n",
              "    <tr>\n",
              "      <th>8601</th>\n",
              "      <td>0.28</td>\n",
              "      <td>0.09</td>\n",
              "      <td>0.19</td>\n",
              "    </tr>\n",
              "    <tr>\n",
              "      <th>3609</th>\n",
              "      <td>0.24</td>\n",
              "      <td>0.08</td>\n",
              "      <td>0.16</td>\n",
              "    </tr>\n",
              "    <tr>\n",
              "      <th>2536</th>\n",
              "      <td>0.10</td>\n",
              "      <td>0.03</td>\n",
              "      <td>0.07</td>\n",
              "    </tr>\n",
              "    <tr>\n",
              "      <th>54</th>\n",
              "      <td>0.55</td>\n",
              "      <td>0.18</td>\n",
              "      <td>0.37</td>\n",
              "    </tr>\n",
              "    <tr>\n",
              "      <th>4786</th>\n",
              "      <td>0.09</td>\n",
              "      <td>0.03</td>\n",
              "      <td>0.06</td>\n",
              "    </tr>\n",
              "  </tbody>\n",
              "</table>\n",
              "</div>"
            ],
            "text/plain": [
              "      BS4_Booster  Booster Avg  Differença Booster\n",
              "8601         0.28         0.09                0.19\n",
              "3609         0.24         0.08                0.16\n",
              "2536         0.10         0.03                0.07\n",
              "54           0.55         0.18                0.37\n",
              "4786         0.09         0.03                0.06"
            ]
          },
          "metadata": {
            "tags": []
          },
          "execution_count": 47
        }
      ]
    },
    {
      "cell_type": "code",
      "metadata": {
        "id": "1tIrqZvVBYzw",
        "colab_type": "code",
        "colab": {
          "base_uri": "https://localhost:8080/",
          "height": 428
        },
        "outputId": "21e83069-6c0b-4472-8ede-6c22442ef05b"
      },
      "source": [
        "ax = sns.boxplot(compare_sem_nulos[\"Differença Booster\"], showfliers=False)\n",
        "ax.figure.set_size_inches(12, 6)\n",
        "ax.set_title('Diferença entre valores booster BS4 e CSV', fontsize=18)\n",
        "ax.set_xlabel('Diferença', fontsize=14)\n",
        "ax"
      ],
      "execution_count": 51,
      "outputs": [
        {
          "output_type": "execute_result",
          "data": {
            "text/plain": [
              "<matplotlib.axes._subplots.AxesSubplot at 0x7feca50528d0>"
            ]
          },
          "metadata": {
            "tags": []
          },
          "execution_count": 51
        },
        {
          "output_type": "display_data",
          "data": {
            "image/png": "[encoded data removed]",
            "text/plain": [
              "<Figure size 864x432 with 1 Axes>"
            ]
          },
          "metadata": {
            "tags": []
          }
        }
      ]
    },
    {
      "cell_type": "code",
      "metadata": {
        "id": "_KV_QFUWBqvf",
        "colab_type": "code",
        "colab": {
          "base_uri": "https://localhost:8080/",
          "height": 163
        },
        "outputId": "ba67d1cc-8818-49d4-cbcd-c5e8d708141d"
      },
      "source": [
        "compare_sem_nulos[\"Differença Booster\"].describe().round(2)"
      ],
      "execution_count": 53,
      "outputs": [
        {
          "output_type": "execute_result",
          "data": {
            "text/plain": [
              "count    132.00\n",
              "mean       0.24\n",
              "std        0.39\n",
              "min        0.04\n",
              "25%        0.07\n",
              "50%        0.13\n",
              "75%        0.27\n",
              "max        4.08\n",
              "Name: Differença Booster, dtype: float64"
            ]
          },
          "metadata": {
            "tags": []
          },
          "execution_count": 53
        }
      ]
    },
    {
      "cell_type": "code",
      "metadata": {
        "id": "r6Ybcx39CXtq",
        "colab_type": "code",
        "colab": {}
      },
      "source": [
        ""
      ],
      "execution_count": 0,
      "outputs": []
    }
  ]
}