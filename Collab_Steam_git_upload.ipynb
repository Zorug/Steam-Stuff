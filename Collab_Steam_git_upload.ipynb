{
  "nbformat": 4,
  "nbformat_minor": 0,
  "metadata": {
    "kernelspec": {
      "display_name": "Python 3",
      "language": "python",
      "name": "python3"
    },
    "language_info": {
      "codemirror_mode": {
        "name": "ipython",
        "version": 3
      },
      "file_extension": ".py",
      "mimetype": "text/x-python",
      "name": "python",
      "nbconvert_exporter": "python",
      "pygments_lexer": "ipython3",
      "version": "3.7.3"
    },
    "colab": {
      "name": "Steam-git-upload.ipynb",
      "provenance": [],
      "include_colab_link": true
    }
  },
  "cells": [
    {
      "cell_type": "markdown",
      "metadata": {
        "id": "view-in-github",
        "colab_type": "text"
      },
      "source": [
        "<a href=\"https://colab.research.google.com/github/Zorug/Steam-Stuff/blob/master/Collab_Steam_git_upload.ipynb\" target=\"_parent\"><img src=\"https://colab.research.google.com/assets/colab-badge.svg\" alt=\"Open In Colab\"/></a>"
      ]
    },
    {
      "cell_type": "markdown",
      "metadata": {
        "id": "IEr9hcN0P48p",
        "colab_type": "text"
      },
      "source": [
        "# Exemplo de tratamento de dados: Steam"
      ]
    },
    {
      "cell_type": "code",
      "metadata": {
        "id": "xCbFUDxaP482",
        "colab_type": "code",
        "colab": {
          "base_uri": "https://localhost:8080/",
          "height": 306
        },
        "outputId": "5abf5088-5fa0-46c3-e0f3-1d0e86866938"
      },
      "source": [
        "import pandas as pd\n",
        "\n",
        "dados = pd.read_csv('https://raw.githubusercontent.com/Zorug/Steam-Stuff/master/STC_set_data.csv')\n",
        "dados.head()"
      ],
      "execution_count": 2,
      "outputs": [
        {
          "output_type": "execute_result",
          "data": {
            "text/html": [
              "<div>\n",
              "<style scoped>\n",
              "    .dataframe tbody tr th:only-of-type {\n",
              "        vertical-align: middle;\n",
              "    }\n",
              "\n",
              "    .dataframe tbody tr th {\n",
              "        vertical-align: top;\n",
              "    }\n",
              "\n",
              "    .dataframe thead th {\n",
              "        text-align: right;\n",
              "    }\n",
              "</style>\n",
              "<table border=\"1\" class=\"dataframe\">\n",
              "  <thead>\n",
              "    <tr style=\"text-align: right;\">\n",
              "      <th></th>\n",
              "      <th>Game</th>\n",
              "      <th># Owned</th>\n",
              "      <th># Unique</th>\n",
              "      <th># Cards</th>\n",
              "      <th>Badge Lvl</th>\n",
              "      <th>Set Price</th>\n",
              "      <th>Price Diff</th>\n",
              "      <th>Card Avg</th>\n",
              "      <th>Booster Avg</th>\n",
              "      <th>Booster %</th>\n",
              "      <th>Emote Avg</th>\n",
              "      <th>BG Avg</th>\n",
              "      <th>Avg Qty</th>\n",
              "      <th>Discount</th>\n",
              "      <th>Added</th>\n",
              "      <th>AppId</th>\n",
              "    </tr>\n",
              "  </thead>\n",
              "  <tbody>\n",
              "    <tr>\n",
              "      <th>0</th>\n",
              "      <td>City Game Studio</td>\n",
              "      <td>0</td>\n",
              "      <td>0</td>\n",
              "      <td>12</td>\n",
              "      <td>0</td>\n",
              "      <td>1.25</td>\n",
              "      <td>1.25</td>\n",
              "      <td>0.10</td>\n",
              "      <td>NaN</td>\n",
              "      <td>0.0</td>\n",
              "      <td>0.00</td>\n",
              "      <td>0.00</td>\n",
              "      <td>17</td>\n",
              "      <td>0.52</td>\n",
              "      <td>2019-10-24</td>\n",
              "      <td>726840</td>\n",
              "    </tr>\n",
              "    <tr>\n",
              "      <th>1</th>\n",
              "      <td>Transport Services</td>\n",
              "      <td>0</td>\n",
              "      <td>0</td>\n",
              "      <td>5</td>\n",
              "      <td>0</td>\n",
              "      <td>1.85</td>\n",
              "      <td>1.85</td>\n",
              "      <td>0.37</td>\n",
              "      <td>NaN</td>\n",
              "      <td>0.0</td>\n",
              "      <td>0.00</td>\n",
              "      <td>0.00</td>\n",
              "      <td>4</td>\n",
              "      <td>0.97</td>\n",
              "      <td>2019-10-23</td>\n",
              "      <td>993690</td>\n",
              "    </tr>\n",
              "    <tr>\n",
              "      <th>2</th>\n",
              "      <td>Deadly Days</td>\n",
              "      <td>0</td>\n",
              "      <td>0</td>\n",
              "      <td>10</td>\n",
              "      <td>0</td>\n",
              "      <td>0.78</td>\n",
              "      <td>0.78</td>\n",
              "      <td>0.08</td>\n",
              "      <td>NaN</td>\n",
              "      <td>0.0</td>\n",
              "      <td>0.00</td>\n",
              "      <td>0.00</td>\n",
              "      <td>26</td>\n",
              "      <td>0.35</td>\n",
              "      <td>2019-10-22</td>\n",
              "      <td>740080</td>\n",
              "    </tr>\n",
              "    <tr>\n",
              "      <th>3</th>\n",
              "      <td>Moons of Madness</td>\n",
              "      <td>0</td>\n",
              "      <td>0</td>\n",
              "      <td>6</td>\n",
              "      <td>0</td>\n",
              "      <td>0.75</td>\n",
              "      <td>0.75</td>\n",
              "      <td>0.12</td>\n",
              "      <td>0.17</td>\n",
              "      <td>-41.7</td>\n",
              "      <td>0.00</td>\n",
              "      <td>0.00</td>\n",
              "      <td>36</td>\n",
              "      <td>0.31</td>\n",
              "      <td>2019-10-22</td>\n",
              "      <td>1012840</td>\n",
              "    </tr>\n",
              "    <tr>\n",
              "      <th>4</th>\n",
              "      <td>NEKO-NIN exHeart 3</td>\n",
              "      <td>0</td>\n",
              "      <td>0</td>\n",
              "      <td>6</td>\n",
              "      <td>0</td>\n",
              "      <td>1.00</td>\n",
              "      <td>1.00</td>\n",
              "      <td>0.17</td>\n",
              "      <td>0.18</td>\n",
              "      <td>-5.9</td>\n",
              "      <td>1.34</td>\n",
              "      <td>5.56</td>\n",
              "      <td>45</td>\n",
              "      <td>0.44</td>\n",
              "      <td>2019-10-21</td>\n",
              "      <td>1129250</td>\n",
              "    </tr>\n",
              "  </tbody>\n",
              "</table>\n",
              "</div>"
            ],
            "text/plain": [
              "                 Game  # Owned  # Unique  ...  Discount       Added    AppId\n",
              "0    City Game Studio        0         0  ...      0.52  2019-10-24   726840\n",
              "1  Transport Services        0         0  ...      0.97  2019-10-23   993690\n",
              "2         Deadly Days        0         0  ...      0.35  2019-10-22   740080\n",
              "3    Moons of Madness        0         0  ...      0.31  2019-10-22  1012840\n",
              "4  NEKO-NIN exHeart 3        0         0  ...      0.44  2019-10-21  1129250\n",
              "\n",
              "[5 rows x 16 columns]"
            ]
          },
          "metadata": {
            "tags": []
          },
          "execution_count": 2
        }
      ]
    },
    {
      "cell_type": "markdown",
      "metadata": {
        "id": "eTi6butgP49J",
        "colab_type": "text"
      },
      "source": [
        "## Remover os dados inúteis para o tratamento (trabalharemos com cartas e boosters)"
      ]
    },
    {
      "cell_type": "code",
      "metadata": {
        "id": "iKH4EdBSP49O",
        "colab_type": "code",
        "colab": {
          "base_uri": "https://localhost:8080/",
          "height": 204
        },
        "outputId": "779490b2-4473-40de-df31-472fdf3ce098"
      },
      "source": [
        "dados = dados.drop([\"# Owned\", \"# Unique\", \"Badge Lvl\", \"Emote Avg\", \"BG Avg\", \"Added\"], axis=1)\n",
        "dados.head()"
      ],
      "execution_count": 3,
      "outputs": [
        {
          "output_type": "execute_result",
          "data": {
            "text/html": [
              "<div>\n",
              "<style scoped>\n",
              "    .dataframe tbody tr th:only-of-type {\n",
              "        vertical-align: middle;\n",
              "    }\n",
              "\n",
              "    .dataframe tbody tr th {\n",
              "        vertical-align: top;\n",
              "    }\n",
              "\n",
              "    .dataframe thead th {\n",
              "        text-align: right;\n",
              "    }\n",
              "</style>\n",
              "<table border=\"1\" class=\"dataframe\">\n",
              "  <thead>\n",
              "    <tr style=\"text-align: right;\">\n",
              "      <th></th>\n",
              "      <th>Game</th>\n",
              "      <th># Cards</th>\n",
              "      <th>Set Price</th>\n",
              "      <th>Price Diff</th>\n",
              "      <th>Card Avg</th>\n",
              "      <th>Booster Avg</th>\n",
              "      <th>Booster %</th>\n",
              "      <th>Avg Qty</th>\n",
              "      <th>Discount</th>\n",
              "      <th>AppId</th>\n",
              "    </tr>\n",
              "  </thead>\n",
              "  <tbody>\n",
              "    <tr>\n",
              "      <th>0</th>\n",
              "      <td>City Game Studio</td>\n",
              "      <td>12</td>\n",
              "      <td>1.25</td>\n",
              "      <td>1.25</td>\n",
              "      <td>0.10</td>\n",
              "      <td>NaN</td>\n",
              "      <td>0.0</td>\n",
              "      <td>17</td>\n",
              "      <td>0.52</td>\n",
              "      <td>726840</td>\n",
              "    </tr>\n",
              "    <tr>\n",
              "      <th>1</th>\n",
              "      <td>Transport Services</td>\n",
              "      <td>5</td>\n",
              "      <td>1.85</td>\n",
              "      <td>1.85</td>\n",
              "      <td>0.37</td>\n",
              "      <td>NaN</td>\n",
              "      <td>0.0</td>\n",
              "      <td>4</td>\n",
              "      <td>0.97</td>\n",
              "      <td>993690</td>\n",
              "    </tr>\n",
              "    <tr>\n",
              "      <th>2</th>\n",
              "      <td>Deadly Days</td>\n",
              "      <td>10</td>\n",
              "      <td>0.78</td>\n",
              "      <td>0.78</td>\n",
              "      <td>0.08</td>\n",
              "      <td>NaN</td>\n",
              "      <td>0.0</td>\n",
              "      <td>26</td>\n",
              "      <td>0.35</td>\n",
              "      <td>740080</td>\n",
              "    </tr>\n",
              "    <tr>\n",
              "      <th>3</th>\n",
              "      <td>Moons of Madness</td>\n",
              "      <td>6</td>\n",
              "      <td>0.75</td>\n",
              "      <td>0.75</td>\n",
              "      <td>0.12</td>\n",
              "      <td>0.17</td>\n",
              "      <td>-41.7</td>\n",
              "      <td>36</td>\n",
              "      <td>0.31</td>\n",
              "      <td>1012840</td>\n",
              "    </tr>\n",
              "    <tr>\n",
              "      <th>4</th>\n",
              "      <td>NEKO-NIN exHeart 3</td>\n",
              "      <td>6</td>\n",
              "      <td>1.00</td>\n",
              "      <td>1.00</td>\n",
              "      <td>0.17</td>\n",
              "      <td>0.18</td>\n",
              "      <td>-5.9</td>\n",
              "      <td>45</td>\n",
              "      <td>0.44</td>\n",
              "      <td>1129250</td>\n",
              "    </tr>\n",
              "  </tbody>\n",
              "</table>\n",
              "</div>"
            ],
            "text/plain": [
              "                 Game  # Cards Set Price  ... Avg Qty  Discount    AppId\n",
              "0    City Game Studio       12      1.25  ...      17      0.52   726840\n",
              "1  Transport Services        5      1.85  ...       4      0.97   993690\n",
              "2         Deadly Days       10      0.78  ...      26      0.35   740080\n",
              "3    Moons of Madness        6      0.75  ...      36      0.31  1012840\n",
              "4  NEKO-NIN exHeart 3        6      1.00  ...      45      0.44  1129250\n",
              "\n",
              "[5 rows x 10 columns]"
            ]
          },
          "metadata": {
            "tags": []
          },
          "execution_count": 3
        }
      ]
    },
    {
      "cell_type": "markdown",
      "metadata": {
        "id": "mJ5XiZbMP49l",
        "colab_type": "text"
      },
      "source": [
        "## Verificar os tipos presentes nas colunas estão aceitáveis:"
      ]
    },
    {
      "cell_type": "code",
      "metadata": {
        "id": "CurRQPMEP49m",
        "colab_type": "code",
        "colab": {
          "base_uri": "https://localhost:8080/",
          "height": 204
        },
        "outputId": "1d53787a-0fe4-4e05-88ad-c72b04098233"
      },
      "source": [
        "formato_dos_dados = dados.dtypes\n",
        "formato_dos_dados"
      ],
      "execution_count": 4,
      "outputs": [
        {
          "output_type": "execute_result",
          "data": {
            "text/plain": [
              "Game            object\n",
              "# Cards          int64\n",
              "Set Price       object\n",
              "Price Diff      object\n",
              "Card Avg       float64\n",
              "Booster Avg    float64\n",
              "Booster %       object\n",
              "Avg Qty          int64\n",
              "Discount       float64\n",
              "AppId            int64\n",
              "dtype: object"
            ]
          },
          "metadata": {
            "tags": []
          },
          "execution_count": 4
        }
      ]
    },
    {
      "cell_type": "code",
      "metadata": {
        "id": "iZAHkFgIP491",
        "colab_type": "code",
        "colab": {}
      },
      "source": [
        ""
      ],
      "execution_count": 0,
      "outputs": []
    }
  ]
}