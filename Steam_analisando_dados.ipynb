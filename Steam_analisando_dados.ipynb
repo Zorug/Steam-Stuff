{
 "cells": [
  {
   "cell_type": "markdown",
   "metadata": {},
   "source": [
    "# Exemplo de tratamento de dados: Steam"
   ]
  },
  {
   "cell_type": "markdown",
   "metadata": {},
   "source": [
    "### Aqui existe uma lógica, na qual cada game possui um número de cartas para fechar um 'set'. Cada pacote de booster gera 3 cartas aleatórias deste set. Tanto os boosters quanto as cartas podem ser vendidas individualmente"
   ]
  },
  {
   "cell_type": "code",
   "execution_count": 1,
   "metadata": {},
   "outputs": [
    {
     "data": {
      "text/html": [
       "<div>\n",
       "<style scoped>\n",
       "    .dataframe tbody tr th:only-of-type {\n",
       "        vertical-align: middle;\n",
       "    }\n",
       "\n",
       "    .dataframe tbody tr th {\n",
       "        vertical-align: top;\n",
       "    }\n",
       "\n",
       "    .dataframe thead th {\n",
       "        text-align: right;\n",
       "    }\n",
       "</style>\n",
       "<table border=\"1\" class=\"dataframe\">\n",
       "  <thead>\n",
       "    <tr style=\"text-align: right;\">\n",
       "      <th></th>\n",
       "      <th>Game</th>\n",
       "      <th># Owned</th>\n",
       "      <th># Unique</th>\n",
       "      <th># Cards</th>\n",
       "      <th>Badge Lvl</th>\n",
       "      <th>Set Price</th>\n",
       "      <th>Price Diff</th>\n",
       "      <th>Card Avg</th>\n",
       "      <th>Booster Avg</th>\n",
       "      <th>Booster %</th>\n",
       "      <th>Emote Avg</th>\n",
       "      <th>BG Avg</th>\n",
       "      <th>Avg Qty</th>\n",
       "      <th>Discount</th>\n",
       "      <th>Added</th>\n",
       "      <th>AppId</th>\n",
       "    </tr>\n",
       "  </thead>\n",
       "  <tbody>\n",
       "    <tr>\n",
       "      <th>0</th>\n",
       "      <td>City Game Studio</td>\n",
       "      <td>0</td>\n",
       "      <td>0</td>\n",
       "      <td>12</td>\n",
       "      <td>0</td>\n",
       "      <td>1.25</td>\n",
       "      <td>1.25</td>\n",
       "      <td>0.10</td>\n",
       "      <td>NaN</td>\n",
       "      <td>0.0</td>\n",
       "      <td>0.00</td>\n",
       "      <td>0.00</td>\n",
       "      <td>17</td>\n",
       "      <td>0.52</td>\n",
       "      <td>2019-10-24</td>\n",
       "      <td>726840</td>\n",
       "    </tr>\n",
       "    <tr>\n",
       "      <th>1</th>\n",
       "      <td>Transport Services</td>\n",
       "      <td>0</td>\n",
       "      <td>0</td>\n",
       "      <td>5</td>\n",
       "      <td>0</td>\n",
       "      <td>1.85</td>\n",
       "      <td>1.85</td>\n",
       "      <td>0.37</td>\n",
       "      <td>NaN</td>\n",
       "      <td>0.0</td>\n",
       "      <td>0.00</td>\n",
       "      <td>0.00</td>\n",
       "      <td>4</td>\n",
       "      <td>0.97</td>\n",
       "      <td>2019-10-23</td>\n",
       "      <td>993690</td>\n",
       "    </tr>\n",
       "    <tr>\n",
       "      <th>2</th>\n",
       "      <td>Deadly Days</td>\n",
       "      <td>0</td>\n",
       "      <td>0</td>\n",
       "      <td>10</td>\n",
       "      <td>0</td>\n",
       "      <td>0.78</td>\n",
       "      <td>0.78</td>\n",
       "      <td>0.08</td>\n",
       "      <td>NaN</td>\n",
       "      <td>0.0</td>\n",
       "      <td>0.00</td>\n",
       "      <td>0.00</td>\n",
       "      <td>26</td>\n",
       "      <td>0.35</td>\n",
       "      <td>2019-10-22</td>\n",
       "      <td>740080</td>\n",
       "    </tr>\n",
       "    <tr>\n",
       "      <th>3</th>\n",
       "      <td>Moons of Madness</td>\n",
       "      <td>0</td>\n",
       "      <td>0</td>\n",
       "      <td>6</td>\n",
       "      <td>0</td>\n",
       "      <td>0.75</td>\n",
       "      <td>0.75</td>\n",
       "      <td>0.12</td>\n",
       "      <td>0.17</td>\n",
       "      <td>-41.7</td>\n",
       "      <td>0.00</td>\n",
       "      <td>0.00</td>\n",
       "      <td>36</td>\n",
       "      <td>0.31</td>\n",
       "      <td>2019-10-22</td>\n",
       "      <td>1012840</td>\n",
       "    </tr>\n",
       "    <tr>\n",
       "      <th>4</th>\n",
       "      <td>NEKO-NIN exHeart 3</td>\n",
       "      <td>0</td>\n",
       "      <td>0</td>\n",
       "      <td>6</td>\n",
       "      <td>0</td>\n",
       "      <td>1.00</td>\n",
       "      <td>1.00</td>\n",
       "      <td>0.17</td>\n",
       "      <td>0.18</td>\n",
       "      <td>-5.9</td>\n",
       "      <td>1.34</td>\n",
       "      <td>5.56</td>\n",
       "      <td>45</td>\n",
       "      <td>0.44</td>\n",
       "      <td>2019-10-21</td>\n",
       "      <td>1129250</td>\n",
       "    </tr>\n",
       "  </tbody>\n",
       "</table>\n",
       "</div>"
      ],
      "text/plain": [
       "                 Game  # Owned  # Unique  # Cards  Badge Lvl Set Price  \\\n",
       "0    City Game Studio        0         0       12          0      1.25   \n",
       "1  Transport Services        0         0        5          0      1.85   \n",
       "2         Deadly Days        0         0       10          0      0.78   \n",
       "3    Moons of Madness        0         0        6          0      0.75   \n",
       "4  NEKO-NIN exHeart 3        0         0        6          0      1.00   \n",
       "\n",
       "  Price Diff  Card Avg  Booster Avg Booster % Emote Avg BG Avg  Avg Qty  \\\n",
       "0       1.25      0.10          NaN       0.0      0.00   0.00       17   \n",
       "1       1.85      0.37          NaN       0.0      0.00   0.00        4   \n",
       "2       0.78      0.08          NaN       0.0      0.00   0.00       26   \n",
       "3       0.75      0.12         0.17     -41.7      0.00   0.00       36   \n",
       "4       1.00      0.17         0.18      -5.9      1.34   5.56       45   \n",
       "\n",
       "   Discount       Added    AppId  \n",
       "0      0.52  2019-10-24   726840  \n",
       "1      0.97  2019-10-23   993690  \n",
       "2      0.35  2019-10-22   740080  \n",
       "3      0.31  2019-10-22  1012840  \n",
       "4      0.44  2019-10-21  1129250  "
      ]
     },
     "execution_count": 1,
     "metadata": {},
     "output_type": "execute_result"
    }
   ],
   "source": [
    "import pandas as pd\n",
    "\n",
    "dados = pd.read_csv('STC_set_data.csv')\n",
    "dados.head()"
   ]
  },
  {
   "cell_type": "code",
   "execution_count": 2,
   "metadata": {},
   "outputs": [
    {
     "data": {
      "text/plain": [
       "9156"
      ]
     },
     "execution_count": 2,
     "metadata": {},
     "output_type": "execute_result"
    }
   ],
   "source": [
    "qnt_de_itens_inicial = dados.shape[0]\n",
    "qnt_de_itens_inicial"
   ]
  },
  {
   "cell_type": "markdown",
   "metadata": {},
   "source": [
    "## Remover os dados inúteis para o tratamento (trabalharemos com cartas e boosters)"
   ]
  },
  {
   "cell_type": "code",
   "execution_count": 3,
   "metadata": {},
   "outputs": [
    {
     "data": {
      "text/html": [
       "<div>\n",
       "<style scoped>\n",
       "    .dataframe tbody tr th:only-of-type {\n",
       "        vertical-align: middle;\n",
       "    }\n",
       "\n",
       "    .dataframe tbody tr th {\n",
       "        vertical-align: top;\n",
       "    }\n",
       "\n",
       "    .dataframe thead th {\n",
       "        text-align: right;\n",
       "    }\n",
       "</style>\n",
       "<table border=\"1\" class=\"dataframe\">\n",
       "  <thead>\n",
       "    <tr style=\"text-align: right;\">\n",
       "      <th></th>\n",
       "      <th>Game</th>\n",
       "      <th># Cards</th>\n",
       "      <th>Set Price</th>\n",
       "      <th>Price Diff</th>\n",
       "      <th>Card Avg</th>\n",
       "      <th>Booster Avg</th>\n",
       "      <th>Booster %</th>\n",
       "      <th>Avg Qty</th>\n",
       "      <th>AppId</th>\n",
       "    </tr>\n",
       "  </thead>\n",
       "  <tbody>\n",
       "    <tr>\n",
       "      <th>0</th>\n",
       "      <td>City Game Studio</td>\n",
       "      <td>12</td>\n",
       "      <td>1.25</td>\n",
       "      <td>1.25</td>\n",
       "      <td>0.10</td>\n",
       "      <td>NaN</td>\n",
       "      <td>0.0</td>\n",
       "      <td>17</td>\n",
       "      <td>726840</td>\n",
       "    </tr>\n",
       "    <tr>\n",
       "      <th>1</th>\n",
       "      <td>Transport Services</td>\n",
       "      <td>5</td>\n",
       "      <td>1.85</td>\n",
       "      <td>1.85</td>\n",
       "      <td>0.37</td>\n",
       "      <td>NaN</td>\n",
       "      <td>0.0</td>\n",
       "      <td>4</td>\n",
       "      <td>993690</td>\n",
       "    </tr>\n",
       "    <tr>\n",
       "      <th>2</th>\n",
       "      <td>Deadly Days</td>\n",
       "      <td>10</td>\n",
       "      <td>0.78</td>\n",
       "      <td>0.78</td>\n",
       "      <td>0.08</td>\n",
       "      <td>NaN</td>\n",
       "      <td>0.0</td>\n",
       "      <td>26</td>\n",
       "      <td>740080</td>\n",
       "    </tr>\n",
       "    <tr>\n",
       "      <th>3</th>\n",
       "      <td>Moons of Madness</td>\n",
       "      <td>6</td>\n",
       "      <td>0.75</td>\n",
       "      <td>0.75</td>\n",
       "      <td>0.12</td>\n",
       "      <td>0.17</td>\n",
       "      <td>-41.7</td>\n",
       "      <td>36</td>\n",
       "      <td>1012840</td>\n",
       "    </tr>\n",
       "    <tr>\n",
       "      <th>4</th>\n",
       "      <td>NEKO-NIN exHeart 3</td>\n",
       "      <td>6</td>\n",
       "      <td>1.00</td>\n",
       "      <td>1.00</td>\n",
       "      <td>0.17</td>\n",
       "      <td>0.18</td>\n",
       "      <td>-5.9</td>\n",
       "      <td>45</td>\n",
       "      <td>1129250</td>\n",
       "    </tr>\n",
       "  </tbody>\n",
       "</table>\n",
       "</div>"
      ],
      "text/plain": [
       "                 Game  # Cards Set Price Price Diff  Card Avg  Booster Avg  \\\n",
       "0    City Game Studio       12      1.25       1.25      0.10          NaN   \n",
       "1  Transport Services        5      1.85       1.85      0.37          NaN   \n",
       "2         Deadly Days       10      0.78       0.78      0.08          NaN   \n",
       "3    Moons of Madness        6      0.75       0.75      0.12         0.17   \n",
       "4  NEKO-NIN exHeart 3        6      1.00       1.00      0.17         0.18   \n",
       "\n",
       "  Booster %  Avg Qty    AppId  \n",
       "0       0.0       17   726840  \n",
       "1       0.0        4   993690  \n",
       "2       0.0       26   740080  \n",
       "3     -41.7       36  1012840  \n",
       "4      -5.9       45  1129250  "
      ]
     },
     "execution_count": 3,
     "metadata": {},
     "output_type": "execute_result"
    }
   ],
   "source": [
    "dados = dados.drop([\"# Owned\", \"# Unique\", \"Badge Lvl\", \"Emote Avg\", \"BG Avg\", \"Added\", \"Discount\"], axis=1)\n",
    "dados.head()"
   ]
  },
  {
   "cell_type": "markdown",
   "metadata": {},
   "source": [
    "## Verificar os tipos presentes nas colunas estão aceitáveis:"
   ]
  },
  {
   "cell_type": "code",
   "execution_count": 4,
   "metadata": {},
   "outputs": [
    {
     "data": {
      "text/plain": [
       "Game            object\n",
       "# Cards          int64\n",
       "Set Price       object\n",
       "Price Diff      object\n",
       "Card Avg       float64\n",
       "Booster Avg    float64\n",
       "Booster %       object\n",
       "Avg Qty          int64\n",
       "AppId            int64\n",
       "dtype: object"
      ]
     },
     "execution_count": 4,
     "metadata": {},
     "output_type": "execute_result"
    }
   ],
   "source": [
    "formato_dos_dados = dados.dtypes\n",
    "formato_dos_dados"
   ]
  },
  {
   "cell_type": "markdown",
   "metadata": {},
   "source": [
    "#### É necessário fazer as seguintes conversões de tipos para trabalhar:\n",
    "- 1. 'Set Price', 'Price Diff' e 'Booster %' devem ser do tipo float. Para Evitar erro de conversão é necessário substituir o caractere ',' por '' (espaço vazio)\n",
    "- 2. 'AppId' por ser um código de identificação deve ser do tipo string para evitar problemas"
   ]
  },
  {
   "cell_type": "code",
   "execution_count": 5,
   "metadata": {},
   "outputs": [],
   "source": [
    "def remove_virgula_perdida(sentenca): # aqui estamos esvitando um erro de conversão\n",
    "    sentenca = sentenca.replace(',','')\n",
    "    return sentenca"
   ]
  },
  {
   "cell_type": "code",
   "execution_count": 6,
   "metadata": {},
   "outputs": [],
   "source": [
    "para_float = ['Set Price', 'Price Diff', 'Booster %']\n",
    "\n",
    "for coluna in dados[para_float]:\n",
    "    dados[coluna] = dados[coluna].apply(remove_virgula_perdida)\n",
    "    \n",
    "dados[para_float] = dados[para_float].astype('float64')\n",
    "dados['AppId'] = dados['AppId'].astype('object')"
   ]
  },
  {
   "cell_type": "code",
   "execution_count": 7,
   "metadata": {},
   "outputs": [
    {
     "data": {
      "text/plain": [
       "Game            object\n",
       "# Cards          int64\n",
       "Set Price      float64\n",
       "Price Diff     float64\n",
       "Card Avg       float64\n",
       "Booster Avg    float64\n",
       "Booster %      float64\n",
       "Avg Qty          int64\n",
       "AppId           object\n",
       "dtype: object"
      ]
     },
     "execution_count": 7,
     "metadata": {},
     "output_type": "execute_result"
    }
   ],
   "source": [
    "dados.dtypes"
   ]
  },
  {
   "cell_type": "code",
   "execution_count": 8,
   "metadata": {},
   "outputs": [
    {
     "data": {
      "text/html": [
       "<div>\n",
       "<style scoped>\n",
       "    .dataframe tbody tr th:only-of-type {\n",
       "        vertical-align: middle;\n",
       "    }\n",
       "\n",
       "    .dataframe tbody tr th {\n",
       "        vertical-align: top;\n",
       "    }\n",
       "\n",
       "    .dataframe thead th {\n",
       "        text-align: right;\n",
       "    }\n",
       "</style>\n",
       "<table border=\"1\" class=\"dataframe\">\n",
       "  <thead>\n",
       "    <tr style=\"text-align: right;\">\n",
       "      <th></th>\n",
       "      <th>Game</th>\n",
       "      <th># Cards</th>\n",
       "      <th>Set Price</th>\n",
       "      <th>Price Diff</th>\n",
       "      <th>Card Avg</th>\n",
       "      <th>Booster Avg</th>\n",
       "      <th>Booster %</th>\n",
       "      <th>Avg Qty</th>\n",
       "      <th>AppId</th>\n",
       "    </tr>\n",
       "  </thead>\n",
       "  <tbody>\n",
       "    <tr>\n",
       "      <th>0</th>\n",
       "      <td>City Game Studio</td>\n",
       "      <td>12</td>\n",
       "      <td>1.25</td>\n",
       "      <td>1.25</td>\n",
       "      <td>0.10</td>\n",
       "      <td>NaN</td>\n",
       "      <td>0.0</td>\n",
       "      <td>17</td>\n",
       "      <td>726840</td>\n",
       "    </tr>\n",
       "    <tr>\n",
       "      <th>1</th>\n",
       "      <td>Transport Services</td>\n",
       "      <td>5</td>\n",
       "      <td>1.85</td>\n",
       "      <td>1.85</td>\n",
       "      <td>0.37</td>\n",
       "      <td>NaN</td>\n",
       "      <td>0.0</td>\n",
       "      <td>4</td>\n",
       "      <td>993690</td>\n",
       "    </tr>\n",
       "    <tr>\n",
       "      <th>2</th>\n",
       "      <td>Deadly Days</td>\n",
       "      <td>10</td>\n",
       "      <td>0.78</td>\n",
       "      <td>0.78</td>\n",
       "      <td>0.08</td>\n",
       "      <td>NaN</td>\n",
       "      <td>0.0</td>\n",
       "      <td>26</td>\n",
       "      <td>740080</td>\n",
       "    </tr>\n",
       "    <tr>\n",
       "      <th>3</th>\n",
       "      <td>Moons of Madness</td>\n",
       "      <td>6</td>\n",
       "      <td>0.75</td>\n",
       "      <td>0.75</td>\n",
       "      <td>0.12</td>\n",
       "      <td>0.17</td>\n",
       "      <td>-41.7</td>\n",
       "      <td>36</td>\n",
       "      <td>1012840</td>\n",
       "    </tr>\n",
       "    <tr>\n",
       "      <th>4</th>\n",
       "      <td>NEKO-NIN exHeart 3</td>\n",
       "      <td>6</td>\n",
       "      <td>1.00</td>\n",
       "      <td>1.00</td>\n",
       "      <td>0.17</td>\n",
       "      <td>0.18</td>\n",
       "      <td>-5.9</td>\n",
       "      <td>45</td>\n",
       "      <td>1129250</td>\n",
       "    </tr>\n",
       "  </tbody>\n",
       "</table>\n",
       "</div>"
      ],
      "text/plain": [
       "                 Game  # Cards  Set Price  Price Diff  Card Avg  Booster Avg  \\\n",
       "0    City Game Studio       12       1.25        1.25      0.10          NaN   \n",
       "1  Transport Services        5       1.85        1.85      0.37          NaN   \n",
       "2         Deadly Days       10       0.78        0.78      0.08          NaN   \n",
       "3    Moons of Madness        6       0.75        0.75      0.12         0.17   \n",
       "4  NEKO-NIN exHeart 3        6       1.00        1.00      0.17         0.18   \n",
       "\n",
       "   Booster %  Avg Qty    AppId  \n",
       "0        0.0       17   726840  \n",
       "1        0.0        4   993690  \n",
       "2        0.0       26   740080  \n",
       "3      -41.7       36  1012840  \n",
       "4       -5.9       45  1129250  "
      ]
     },
     "execution_count": 8,
     "metadata": {},
     "output_type": "execute_result"
    }
   ],
   "source": [
    "dados.head()"
   ]
  },
  {
   "cell_type": "markdown",
   "metadata": {},
   "source": [
    "## É possível observar na tabela que alguns valores de 'Booster Avg' não estão presentes o que afeta diretamente a nossa análise. Portanto, faremos uma separação destes dados NaN para comparar"
   ]
  },
  {
   "cell_type": "code",
   "execution_count": 9,
   "metadata": {},
   "outputs": [
    {
     "data": {
      "text/plain": [
       "0.03    0.150939\n",
       "0.04    0.125382\n",
       "NaN     0.090105\n",
       "0.05    0.086501\n",
       "0.06    0.063893\n",
       "0.08    0.042267\n",
       "0.09    0.038008\n",
       "0.02    0.033967\n",
       "0.10    0.032438\n",
       "0.07    0.032219\n",
       "Name: Booster Avg, dtype: float64"
      ]
     },
     "execution_count": 9,
     "metadata": {},
     "output_type": "execute_result"
    }
   ],
   "source": [
    "dist_valores_boosters = dados['Booster Avg'].value_counts(normalize = True, dropna = False)\n",
    "dist_valores_boosters.head(10)"
   ]
  },
  {
   "cell_type": "markdown",
   "metadata": {},
   "source": [
    "9% não possuem dados de entrada de média de booster, isso acontece por eles estarem raros, não possuindo ofertas no mercado"
   ]
  },
  {
   "cell_type": "code",
   "execution_count": 10,
   "metadata": {},
   "outputs": [],
   "source": [
    "dados['Booster on Market'] = ~dados['Booster Avg'].isnull()"
   ]
  },
  {
   "cell_type": "code",
   "execution_count": 11,
   "metadata": {},
   "outputs": [
    {
     "data": {
      "text/html": [
       "<div>\n",
       "<style scoped>\n",
       "    .dataframe tbody tr th:only-of-type {\n",
       "        vertical-align: middle;\n",
       "    }\n",
       "\n",
       "    .dataframe tbody tr th {\n",
       "        vertical-align: top;\n",
       "    }\n",
       "\n",
       "    .dataframe thead th {\n",
       "        text-align: right;\n",
       "    }\n",
       "</style>\n",
       "<table border=\"1\" class=\"dataframe\">\n",
       "  <thead>\n",
       "    <tr style=\"text-align: right;\">\n",
       "      <th></th>\n",
       "      <th>Game</th>\n",
       "      <th># Cards</th>\n",
       "      <th>Set Price</th>\n",
       "      <th>Price Diff</th>\n",
       "      <th>Card Avg</th>\n",
       "      <th>Booster Avg</th>\n",
       "      <th>Booster %</th>\n",
       "      <th>Avg Qty</th>\n",
       "      <th>AppId</th>\n",
       "      <th>Booster on Market</th>\n",
       "    </tr>\n",
       "  </thead>\n",
       "  <tbody>\n",
       "    <tr>\n",
       "      <th>0</th>\n",
       "      <td>City Game Studio</td>\n",
       "      <td>12</td>\n",
       "      <td>1.25</td>\n",
       "      <td>1.25</td>\n",
       "      <td>0.10</td>\n",
       "      <td>NaN</td>\n",
       "      <td>0.0</td>\n",
       "      <td>17</td>\n",
       "      <td>726840</td>\n",
       "      <td>False</td>\n",
       "    </tr>\n",
       "    <tr>\n",
       "      <th>1</th>\n",
       "      <td>Transport Services</td>\n",
       "      <td>5</td>\n",
       "      <td>1.85</td>\n",
       "      <td>1.85</td>\n",
       "      <td>0.37</td>\n",
       "      <td>NaN</td>\n",
       "      <td>0.0</td>\n",
       "      <td>4</td>\n",
       "      <td>993690</td>\n",
       "      <td>False</td>\n",
       "    </tr>\n",
       "    <tr>\n",
       "      <th>2</th>\n",
       "      <td>Deadly Days</td>\n",
       "      <td>10</td>\n",
       "      <td>0.78</td>\n",
       "      <td>0.78</td>\n",
       "      <td>0.08</td>\n",
       "      <td>NaN</td>\n",
       "      <td>0.0</td>\n",
       "      <td>26</td>\n",
       "      <td>740080</td>\n",
       "      <td>False</td>\n",
       "    </tr>\n",
       "    <tr>\n",
       "      <th>3</th>\n",
       "      <td>Moons of Madness</td>\n",
       "      <td>6</td>\n",
       "      <td>0.75</td>\n",
       "      <td>0.75</td>\n",
       "      <td>0.12</td>\n",
       "      <td>0.17</td>\n",
       "      <td>-41.7</td>\n",
       "      <td>36</td>\n",
       "      <td>1012840</td>\n",
       "      <td>True</td>\n",
       "    </tr>\n",
       "    <tr>\n",
       "      <th>4</th>\n",
       "      <td>NEKO-NIN exHeart 3</td>\n",
       "      <td>6</td>\n",
       "      <td>1.00</td>\n",
       "      <td>1.00</td>\n",
       "      <td>0.17</td>\n",
       "      <td>0.18</td>\n",
       "      <td>-5.9</td>\n",
       "      <td>45</td>\n",
       "      <td>1129250</td>\n",
       "      <td>True</td>\n",
       "    </tr>\n",
       "  </tbody>\n",
       "</table>\n",
       "</div>"
      ],
      "text/plain": [
       "                 Game  # Cards  Set Price  Price Diff  Card Avg  Booster Avg  \\\n",
       "0    City Game Studio       12       1.25        1.25      0.10          NaN   \n",
       "1  Transport Services        5       1.85        1.85      0.37          NaN   \n",
       "2         Deadly Days       10       0.78        0.78      0.08          NaN   \n",
       "3    Moons of Madness        6       0.75        0.75      0.12         0.17   \n",
       "4  NEKO-NIN exHeart 3        6       1.00        1.00      0.17         0.18   \n",
       "\n",
       "   Booster %  Avg Qty    AppId  Booster on Market  \n",
       "0        0.0       17   726840              False  \n",
       "1        0.0        4   993690              False  \n",
       "2        0.0       26   740080              False  \n",
       "3      -41.7       36  1012840               True  \n",
       "4       -5.9       45  1129250               True  "
      ]
     },
     "execution_count": 11,
     "metadata": {},
     "output_type": "execute_result"
    }
   ],
   "source": [
    "dados.head()"
   ]
  },
  {
   "cell_type": "code",
   "execution_count": 12,
   "metadata": {},
   "outputs": [],
   "source": [
    "dados_nulos = dados[dados['Booster Avg'].isnull()]\n",
    "dados_reais = dados[~dados['Booster Avg'].isnull()]"
   ]
  },
  {
   "cell_type": "code",
   "execution_count": 13,
   "metadata": {},
   "outputs": [],
   "source": [
    "import seaborn as sns"
   ]
  },
  {
   "cell_type": "markdown",
   "metadata": {},
   "source": [
    "# Análise 1: Vamos começar comparando os reais e nulos:"
   ]
  },
  {
   "cell_type": "code",
   "execution_count": 14,
   "metadata": {},
   "outputs": [
    {
     "data": {
      "text/html": [
       "<div>\n",
       "<style scoped>\n",
       "    .dataframe tbody tr th:only-of-type {\n",
       "        vertical-align: middle;\n",
       "    }\n",
       "\n",
       "    .dataframe tbody tr th {\n",
       "        vertical-align: top;\n",
       "    }\n",
       "\n",
       "    .dataframe thead th {\n",
       "        text-align: right;\n",
       "    }\n",
       "</style>\n",
       "<table border=\"1\" class=\"dataframe\">\n",
       "  <thead>\n",
       "    <tr style=\"text-align: right;\">\n",
       "      <th></th>\n",
       "      <th># Cards</th>\n",
       "      <th>Set Price</th>\n",
       "      <th>Price Diff</th>\n",
       "      <th>Card Avg</th>\n",
       "      <th>Booster Avg</th>\n",
       "      <th>Booster %</th>\n",
       "      <th>Avg Qty</th>\n",
       "    </tr>\n",
       "  </thead>\n",
       "  <tbody>\n",
       "    <tr>\n",
       "      <th>count</th>\n",
       "      <td>825.00</td>\n",
       "      <td>825.00</td>\n",
       "      <td>825.00</td>\n",
       "      <td>825.00</td>\n",
       "      <td>0.0</td>\n",
       "      <td>825.0</td>\n",
       "      <td>825.00</td>\n",
       "    </tr>\n",
       "    <tr>\n",
       "      <th>mean</th>\n",
       "      <td>6.78</td>\n",
       "      <td>6.63</td>\n",
       "      <td>6.63</td>\n",
       "      <td>1.08</td>\n",
       "      <td>NaN</td>\n",
       "      <td>0.0</td>\n",
       "      <td>19.10</td>\n",
       "    </tr>\n",
       "    <tr>\n",
       "      <th>std</th>\n",
       "      <td>2.19</td>\n",
       "      <td>108.19</td>\n",
       "      <td>108.19</td>\n",
       "      <td>18.06</td>\n",
       "      <td>NaN</td>\n",
       "      <td>0.0</td>\n",
       "      <td>14.57</td>\n",
       "    </tr>\n",
       "    <tr>\n",
       "      <th>min</th>\n",
       "      <td>5.00</td>\n",
       "      <td>0.35</td>\n",
       "      <td>0.35</td>\n",
       "      <td>0.05</td>\n",
       "      <td>NaN</td>\n",
       "      <td>0.0</td>\n",
       "      <td>1.00</td>\n",
       "    </tr>\n",
       "    <tr>\n",
       "      <th>25%</th>\n",
       "      <td>5.00</td>\n",
       "      <td>0.78</td>\n",
       "      <td>0.78</td>\n",
       "      <td>0.12</td>\n",
       "      <td>NaN</td>\n",
       "      <td>0.0</td>\n",
       "      <td>11.00</td>\n",
       "    </tr>\n",
       "    <tr>\n",
       "      <th>50%</th>\n",
       "      <td>6.00</td>\n",
       "      <td>1.09</td>\n",
       "      <td>1.09</td>\n",
       "      <td>0.17</td>\n",
       "      <td>NaN</td>\n",
       "      <td>0.0</td>\n",
       "      <td>17.00</td>\n",
       "    </tr>\n",
       "    <tr>\n",
       "      <th>75%</th>\n",
       "      <td>8.00</td>\n",
       "      <td>1.60</td>\n",
       "      <td>1.60</td>\n",
       "      <td>0.26</td>\n",
       "      <td>NaN</td>\n",
       "      <td>0.0</td>\n",
       "      <td>24.00</td>\n",
       "    </tr>\n",
       "    <tr>\n",
       "      <th>max</th>\n",
       "      <td>15.00</td>\n",
       "      <td>3065.79</td>\n",
       "      <td>3065.79</td>\n",
       "      <td>510.97</td>\n",
       "      <td>NaN</td>\n",
       "      <td>0.0</td>\n",
       "      <td>186.00</td>\n",
       "    </tr>\n",
       "  </tbody>\n",
       "</table>\n",
       "</div>"
      ],
      "text/plain": [
       "       # Cards  Set Price  Price Diff  Card Avg  Booster Avg  Booster %  \\\n",
       "count   825.00     825.00      825.00    825.00          0.0      825.0   \n",
       "mean      6.78       6.63        6.63      1.08          NaN        0.0   \n",
       "std       2.19     108.19      108.19     18.06          NaN        0.0   \n",
       "min       5.00       0.35        0.35      0.05          NaN        0.0   \n",
       "25%       5.00       0.78        0.78      0.12          NaN        0.0   \n",
       "50%       6.00       1.09        1.09      0.17          NaN        0.0   \n",
       "75%       8.00       1.60        1.60      0.26          NaN        0.0   \n",
       "max      15.00    3065.79     3065.79    510.97          NaN        0.0   \n",
       "\n",
       "       Avg Qty  \n",
       "count   825.00  \n",
       "mean     19.10  \n",
       "std      14.57  \n",
       "min       1.00  \n",
       "25%      11.00  \n",
       "50%      17.00  \n",
       "75%      24.00  \n",
       "max     186.00  "
      ]
     },
     "execution_count": 14,
     "metadata": {},
     "output_type": "execute_result"
    }
   ],
   "source": [
    "round(dados_nulos.describe(),2)"
   ]
  },
  {
   "cell_type": "markdown",
   "metadata": {},
   "source": [
    "Não há motivos para mantermos as colunas 'Booster Avg' e 'Booster %' nesta análise pois ambos são nulos, então como critério de comparação será removido da tabela de reais também. O price Diff também é dependente de um desses valores anulados, logo remove-se também"
   ]
  },
  {
   "cell_type": "code",
   "execution_count": 15,
   "metadata": {},
   "outputs": [],
   "source": [
    "dados_nulos_reduzidos = dados_nulos.drop([\"Booster Avg\", \"Booster %\", \"Price Diff\"], axis=1)\n",
    "dados_reais_reduzidos = dados_reais.drop([\"Booster Avg\", \"Booster %\", \"Price Diff\"], axis=1)"
   ]
  },
  {
   "cell_type": "code",
   "execution_count": 16,
   "metadata": {},
   "outputs": [
    {
     "data": {
      "text/html": [
       "<div>\n",
       "<style scoped>\n",
       "    .dataframe tbody tr th:only-of-type {\n",
       "        vertical-align: middle;\n",
       "    }\n",
       "\n",
       "    .dataframe tbody tr th {\n",
       "        vertical-align: top;\n",
       "    }\n",
       "\n",
       "    .dataframe thead th {\n",
       "        text-align: right;\n",
       "    }\n",
       "</style>\n",
       "<table border=\"1\" class=\"dataframe\">\n",
       "  <thead>\n",
       "    <tr style=\"text-align: right;\">\n",
       "      <th></th>\n",
       "      <th># Cards</th>\n",
       "      <th>Set Price</th>\n",
       "      <th>Card Avg</th>\n",
       "      <th>Avg Qty</th>\n",
       "    </tr>\n",
       "  </thead>\n",
       "  <tbody>\n",
       "    <tr>\n",
       "      <th>count</th>\n",
       "      <td>825.00</td>\n",
       "      <td>825.00</td>\n",
       "      <td>825.00</td>\n",
       "      <td>825.00</td>\n",
       "    </tr>\n",
       "    <tr>\n",
       "      <th>mean</th>\n",
       "      <td>6.78</td>\n",
       "      <td>6.63</td>\n",
       "      <td>1.08</td>\n",
       "      <td>19.10</td>\n",
       "    </tr>\n",
       "    <tr>\n",
       "      <th>std</th>\n",
       "      <td>2.19</td>\n",
       "      <td>108.19</td>\n",
       "      <td>18.06</td>\n",
       "      <td>14.57</td>\n",
       "    </tr>\n",
       "    <tr>\n",
       "      <th>min</th>\n",
       "      <td>5.00</td>\n",
       "      <td>0.35</td>\n",
       "      <td>0.05</td>\n",
       "      <td>1.00</td>\n",
       "    </tr>\n",
       "    <tr>\n",
       "      <th>25%</th>\n",
       "      <td>5.00</td>\n",
       "      <td>0.78</td>\n",
       "      <td>0.12</td>\n",
       "      <td>11.00</td>\n",
       "    </tr>\n",
       "    <tr>\n",
       "      <th>50%</th>\n",
       "      <td>6.00</td>\n",
       "      <td>1.09</td>\n",
       "      <td>0.17</td>\n",
       "      <td>17.00</td>\n",
       "    </tr>\n",
       "    <tr>\n",
       "      <th>75%</th>\n",
       "      <td>8.00</td>\n",
       "      <td>1.60</td>\n",
       "      <td>0.26</td>\n",
       "      <td>24.00</td>\n",
       "    </tr>\n",
       "    <tr>\n",
       "      <th>max</th>\n",
       "      <td>15.00</td>\n",
       "      <td>3065.79</td>\n",
       "      <td>510.97</td>\n",
       "      <td>186.00</td>\n",
       "    </tr>\n",
       "  </tbody>\n",
       "</table>\n",
       "</div>"
      ],
      "text/plain": [
       "       # Cards  Set Price  Card Avg  Avg Qty\n",
       "count   825.00     825.00    825.00   825.00\n",
       "mean      6.78       6.63      1.08    19.10\n",
       "std       2.19     108.19     18.06    14.57\n",
       "min       5.00       0.35      0.05     1.00\n",
       "25%       5.00       0.78      0.12    11.00\n",
       "50%       6.00       1.09      0.17    17.00\n",
       "75%       8.00       1.60      0.26    24.00\n",
       "max      15.00    3065.79    510.97   186.00"
      ]
     },
     "execution_count": 16,
     "metadata": {},
     "output_type": "execute_result"
    }
   ],
   "source": [
    "dados_nulos_reduzidos.describe().round(2)"
   ]
  },
  {
   "cell_type": "code",
   "execution_count": 17,
   "metadata": {},
   "outputs": [
    {
     "data": {
      "text/html": [
       "<div>\n",
       "<style scoped>\n",
       "    .dataframe tbody tr th:only-of-type {\n",
       "        vertical-align: middle;\n",
       "    }\n",
       "\n",
       "    .dataframe tbody tr th {\n",
       "        vertical-align: top;\n",
       "    }\n",
       "\n",
       "    .dataframe thead th {\n",
       "        text-align: right;\n",
       "    }\n",
       "</style>\n",
       "<table border=\"1\" class=\"dataframe\">\n",
       "  <thead>\n",
       "    <tr style=\"text-align: right;\">\n",
       "      <th></th>\n",
       "      <th># Cards</th>\n",
       "      <th>Set Price</th>\n",
       "      <th>Card Avg</th>\n",
       "      <th>Avg Qty</th>\n",
       "    </tr>\n",
       "  </thead>\n",
       "  <tbody>\n",
       "    <tr>\n",
       "      <th>count</th>\n",
       "      <td>8331.00</td>\n",
       "      <td>8331.00</td>\n",
       "      <td>8331.00</td>\n",
       "      <td>8331.00</td>\n",
       "    </tr>\n",
       "    <tr>\n",
       "      <th>mean</th>\n",
       "      <td>6.92</td>\n",
       "      <td>0.71</td>\n",
       "      <td>0.11</td>\n",
       "      <td>294.79</td>\n",
       "    </tr>\n",
       "    <tr>\n",
       "      <th>std</th>\n",
       "      <td>2.32</td>\n",
       "      <td>2.98</td>\n",
       "      <td>0.51</td>\n",
       "      <td>1210.38</td>\n",
       "    </tr>\n",
       "    <tr>\n",
       "      <th>min</th>\n",
       "      <td>4.00</td>\n",
       "      <td>0.24</td>\n",
       "      <td>0.03</td>\n",
       "      <td>2.00</td>\n",
       "    </tr>\n",
       "    <tr>\n",
       "      <th>25%</th>\n",
       "      <td>5.00</td>\n",
       "      <td>0.37</td>\n",
       "      <td>0.06</td>\n",
       "      <td>32.00</td>\n",
       "    </tr>\n",
       "    <tr>\n",
       "      <th>50%</th>\n",
       "      <td>6.00</td>\n",
       "      <td>0.48</td>\n",
       "      <td>0.07</td>\n",
       "      <td>67.00</td>\n",
       "    </tr>\n",
       "    <tr>\n",
       "      <th>75%</th>\n",
       "      <td>8.00</td>\n",
       "      <td>0.77</td>\n",
       "      <td>0.11</td>\n",
       "      <td>163.00</td>\n",
       "    </tr>\n",
       "    <tr>\n",
       "      <th>max</th>\n",
       "      <td>15.00</td>\n",
       "      <td>192.61</td>\n",
       "      <td>38.52</td>\n",
       "      <td>68369.00</td>\n",
       "    </tr>\n",
       "  </tbody>\n",
       "</table>\n",
       "</div>"
      ],
      "text/plain": [
       "       # Cards  Set Price  Card Avg   Avg Qty\n",
       "count  8331.00    8331.00   8331.00   8331.00\n",
       "mean      6.92       0.71      0.11    294.79\n",
       "std       2.32       2.98      0.51   1210.38\n",
       "min       4.00       0.24      0.03      2.00\n",
       "25%       5.00       0.37      0.06     32.00\n",
       "50%       6.00       0.48      0.07     67.00\n",
       "75%       8.00       0.77      0.11    163.00\n",
       "max      15.00     192.61     38.52  68369.00"
      ]
     },
     "execution_count": 17,
     "metadata": {},
     "output_type": "execute_result"
    }
   ],
   "source": [
    "dados_reais_reduzidos.describe().round(2)"
   ]
  },
  {
   "cell_type": "code",
   "execution_count": 18,
   "metadata": {},
   "outputs": [],
   "source": [
    "def compare_boxplot(item_de_comparacao):\n",
    "    ax = sns.boxplot(y=item_de_comparacao, x='Booster on Market', data=dados, orient='v', width=0.5, showfliers=False)\n",
    "    ax.figure.set_size_inches(12, 6)\n",
    "    ax.set_title(item_de_comparacao, fontsize=20)\n",
    "    ax.set_ylabel(item_de_comparacao, fontsize=16)\n",
    "    ax.set_xlabel('Existe', fontsize=16)\n",
    "    ax"
   ]
  },
  {
   "cell_type": "code",
   "execution_count": 19,
   "metadata": {},
   "outputs": [
    {
     "data": {
      "image/png": "[encoded data removed]",
      "text/plain": [
       "<Figure size 864x432 with 1 Axes>"
      ]
     },
     "metadata": {
      "needs_background": "light"
     },
     "output_type": "display_data"
    }
   ],
   "source": [
    "compare_boxplot('# Cards')"
   ]
  },
  {
   "cell_type": "markdown",
   "metadata": {},
   "source": [
    "Aqui não vemos praticamente nenhuma diferença"
   ]
  },
  {
   "cell_type": "code",
   "execution_count": 20,
   "metadata": {},
   "outputs": [
    {
     "data": {
      "image/png": "[encoded data removed]",
      "text/plain": [
       "<Figure size 864x432 with 1 Axes>"
      ]
     },
     "metadata": {
      "needs_background": "light"
     },
     "output_type": "display_data"
    }
   ],
   "source": [
    "compare_boxplot('Set Price')"
   ]
  },
  {
   "cell_type": "markdown",
   "metadata": {},
   "source": [
    "Aqui já observamos que as cartas 'em falta' tem um preço de completar mais caras"
   ]
  },
  {
   "cell_type": "code",
   "execution_count": 21,
   "metadata": {},
   "outputs": [
    {
     "data": {
      "image/png": "[encoded data removed]",
      "text/plain": [
       "<Figure size 864x432 with 1 Axes>"
      ]
     },
     "metadata": {
      "needs_background": "light"
     },
     "output_type": "display_data"
    }
   ],
   "source": [
    "compare_boxplot('Card Avg')"
   ]
  },
  {
   "cell_type": "markdown",
   "metadata": {},
   "source": [
    "Do mesmo modo que a observação anterior, esta é a média total, ou seja, quanto menos oferta, maior o valor"
   ]
  },
  {
   "cell_type": "code",
   "execution_count": 22,
   "metadata": {},
   "outputs": [
    {
     "data": {
      "image/png": "[encoded data removed]",
      "text/plain": [
       "<Figure size 864x432 with 1 Axes>"
      ]
     },
     "metadata": {
      "needs_background": "light"
     },
     "output_type": "display_data"
    }
   ],
   "source": [
    "compare_boxplot('Avg Qty')"
   ]
  },
  {
   "cell_type": "markdown",
   "metadata": {},
   "source": [
    "Neste caso notamos que a escasses de booster provoca uma escasses geral nas cartas"
   ]
  },
  {
   "cell_type": "markdown",
   "metadata": {},
   "source": [
    "## Conclusão 1 da análise: \n",
    "- Os pacotes em falta no mercado fazem com que os preços dos produtos aumentem: menor oferta, maior o valor.\n",
    "- Também observamos que uma escassez de boosters interfira diretamente com a quantidade de cartas circulando no mercado."
   ]
  },
  {
   "cell_type": "markdown",
   "metadata": {},
   "source": [
    "# Análise 2: Trabalhando com dados não nulos:\n",
    "## Quero saber se é válido o comércio de boosters (comprar, abrir e revender)"
   ]
  },
  {
   "cell_type": "code",
   "execution_count": 23,
   "metadata": {},
   "outputs": [
    {
     "data": {
      "text/html": [
       "<div>\n",
       "<style scoped>\n",
       "    .dataframe tbody tr th:only-of-type {\n",
       "        vertical-align: middle;\n",
       "    }\n",
       "\n",
       "    .dataframe tbody tr th {\n",
       "        vertical-align: top;\n",
       "    }\n",
       "\n",
       "    .dataframe thead th {\n",
       "        text-align: right;\n",
       "    }\n",
       "</style>\n",
       "<table border=\"1\" class=\"dataframe\">\n",
       "  <thead>\n",
       "    <tr style=\"text-align: right;\">\n",
       "      <th></th>\n",
       "      <th>Game</th>\n",
       "      <th># Cards</th>\n",
       "      <th>Set Price</th>\n",
       "      <th>Price Diff</th>\n",
       "      <th>Card Avg</th>\n",
       "      <th>Booster Avg</th>\n",
       "      <th>Booster %</th>\n",
       "      <th>Avg Qty</th>\n",
       "    </tr>\n",
       "  </thead>\n",
       "  <tbody>\n",
       "    <tr>\n",
       "      <th>0</th>\n",
       "      <td>Moons of Madness</td>\n",
       "      <td>6</td>\n",
       "      <td>0.75</td>\n",
       "      <td>0.75</td>\n",
       "      <td>0.12</td>\n",
       "      <td>0.17</td>\n",
       "      <td>-41.7</td>\n",
       "      <td>36</td>\n",
       "    </tr>\n",
       "    <tr>\n",
       "      <th>1</th>\n",
       "      <td>NEKO-NIN exHeart 3</td>\n",
       "      <td>6</td>\n",
       "      <td>1.00</td>\n",
       "      <td>1.00</td>\n",
       "      <td>0.17</td>\n",
       "      <td>0.18</td>\n",
       "      <td>-5.9</td>\n",
       "      <td>45</td>\n",
       "    </tr>\n",
       "    <tr>\n",
       "      <th>2</th>\n",
       "      <td>Tangle Tower</td>\n",
       "      <td>11</td>\n",
       "      <td>8.37</td>\n",
       "      <td>8.37</td>\n",
       "      <td>0.76</td>\n",
       "      <td>0.60</td>\n",
       "      <td>21.1</td>\n",
       "      <td>5</td>\n",
       "    </tr>\n",
       "    <tr>\n",
       "      <th>3</th>\n",
       "      <td>Onii-chan Asobo</td>\n",
       "      <td>5</td>\n",
       "      <td>3.12</td>\n",
       "      <td>3.12</td>\n",
       "      <td>0.62</td>\n",
       "      <td>0.59</td>\n",
       "      <td>4.8</td>\n",
       "      <td>12</td>\n",
       "    </tr>\n",
       "    <tr>\n",
       "      <th>4</th>\n",
       "      <td>Children of Morta</td>\n",
       "      <td>5</td>\n",
       "      <td>0.45</td>\n",
       "      <td>0.45</td>\n",
       "      <td>0.09</td>\n",
       "      <td>0.08</td>\n",
       "      <td>11.1</td>\n",
       "      <td>56</td>\n",
       "    </tr>\n",
       "  </tbody>\n",
       "</table>\n",
       "</div>"
      ],
      "text/plain": [
       "                 Game  # Cards  Set Price  Price Diff  Card Avg  Booster Avg  \\\n",
       "0    Moons of Madness        6       0.75        0.75      0.12         0.17   \n",
       "1  NEKO-NIN exHeart 3        6       1.00        1.00      0.17         0.18   \n",
       "2        Tangle Tower       11       8.37        8.37      0.76         0.60   \n",
       "3     Onii-chan Asobo        5       3.12        3.12      0.62         0.59   \n",
       "4   Children of Morta        5       0.45        0.45      0.09         0.08   \n",
       "\n",
       "   Booster %  Avg Qty  \n",
       "0      -41.7       36  \n",
       "1       -5.9       45  \n",
       "2       21.1        5  \n",
       "3        4.8       12  \n",
       "4       11.1       56  "
      ]
     },
     "execution_count": 23,
     "metadata": {},
     "output_type": "execute_result"
    }
   ],
   "source": [
    "dados_reais = dados[~dados['Booster Avg'].isnull()].drop([\"Booster on Market\", \"AppId\"], axis=1).reset_index(drop=True)\n",
    "dados_reais.head()"
   ]
  },
  {
   "cell_type": "code",
   "execution_count": 24,
   "metadata": {},
   "outputs": [],
   "source": [
    "dados_reais['3 Card Avg'] = 3*dados_reais['Card Avg'] # pegando o valor médio de 3 cartas (quantidade em um booster)"
   ]
  },
  {
   "cell_type": "code",
   "execution_count": 25,
   "metadata": {},
   "outputs": [],
   "source": [
    "dados_reais['% C-B'] = (dados_reais['3 Card Avg']/dados_reais['Booster Avg']).round(2)"
   ]
  },
  {
   "cell_type": "code",
   "execution_count": 26,
   "metadata": {},
   "outputs": [
    {
     "data": {
      "text/html": [
       "<div>\n",
       "<style scoped>\n",
       "    .dataframe tbody tr th:only-of-type {\n",
       "        vertical-align: middle;\n",
       "    }\n",
       "\n",
       "    .dataframe tbody tr th {\n",
       "        vertical-align: top;\n",
       "    }\n",
       "\n",
       "    .dataframe thead th {\n",
       "        text-align: right;\n",
       "    }\n",
       "</style>\n",
       "<table border=\"1\" class=\"dataframe\">\n",
       "  <thead>\n",
       "    <tr style=\"text-align: right;\">\n",
       "      <th></th>\n",
       "      <th>Booster %</th>\n",
       "      <th>% C-B</th>\n",
       "    </tr>\n",
       "  </thead>\n",
       "  <tbody>\n",
       "    <tr>\n",
       "      <th>0</th>\n",
       "      <td>-41.7</td>\n",
       "      <td>2.12</td>\n",
       "    </tr>\n",
       "    <tr>\n",
       "      <th>1</th>\n",
       "      <td>-5.9</td>\n",
       "      <td>2.83</td>\n",
       "    </tr>\n",
       "    <tr>\n",
       "      <th>2</th>\n",
       "      <td>21.1</td>\n",
       "      <td>3.80</td>\n",
       "    </tr>\n",
       "    <tr>\n",
       "      <th>3</th>\n",
       "      <td>4.8</td>\n",
       "      <td>3.15</td>\n",
       "    </tr>\n",
       "    <tr>\n",
       "      <th>4</th>\n",
       "      <td>11.1</td>\n",
       "      <td>3.38</td>\n",
       "    </tr>\n",
       "  </tbody>\n",
       "</table>\n",
       "</div>"
      ],
      "text/plain": [
       "   Booster %  % C-B\n",
       "0      -41.7   2.12\n",
       "1       -5.9   2.83\n",
       "2       21.1   3.80\n",
       "3        4.8   3.15\n",
       "4       11.1   3.38"
      ]
     },
     "execution_count": 26,
     "metadata": {},
     "output_type": "execute_result"
    }
   ],
   "source": [
    "dados_reais.head()[['Booster %', '% C-B']]"
   ]
  },
  {
   "cell_type": "markdown",
   "metadata": {},
   "source": [
    "### Opa, temos uma diferença no valor que veio na tabela original... vamos dar uma olhada em um item:"
   ]
  },
  {
   "cell_type": "code",
   "execution_count": 27,
   "metadata": {},
   "outputs": [
    {
     "data": {
      "text/plain": [
       "Game           HARDCORE MECHA\n",
       "# Cards                    15\n",
       "Set Price                1.49\n",
       "Price Diff               1.49\n",
       "Card Avg                  0.1\n",
       "Booster Avg              0.15\n",
       "Booster %                 -50\n",
       "Avg Qty                    52\n",
       "3 Card Avg                0.3\n",
       "% C-B                       2\n",
       "Name: 5, dtype: object"
      ]
     },
     "execution_count": 27,
     "metadata": {},
     "output_type": "execute_result"
    }
   ],
   "source": [
    "dados_reais.loc[5]"
   ]
  },
  {
   "cell_type": "code",
   "execution_count": 28,
   "metadata": {},
   "outputs": [
    {
     "data": {
      "text/plain": [
       "0.298"
      ]
     },
     "execution_count": 28,
     "metadata": {},
     "output_type": "execute_result"
    }
   ],
   "source": [
    "preco_por_carta = dados_reais.loc[5]['Set Price']/dados_reais.loc[5]['# Cards']\n",
    "preco_por_carta*3"
   ]
  },
  {
   "cell_type": "code",
   "execution_count": 29,
   "metadata": {},
   "outputs": [
    {
     "data": {
      "text/plain": [
       "1.9866666666666666"
      ]
     },
     "execution_count": 29,
     "metadata": {},
     "output_type": "execute_result"
    }
   ],
   "source": [
    "preco_por_carta*3/dados_reais.loc[5]['Booster Avg']"
   ]
  },
  {
   "cell_type": "markdown",
   "metadata": {},
   "source": [
    "### Este valor não faz sentido... talvez esteja errado. No caso não serve para minha análise atual, guardar essa informação para o futuro"
   ]
  },
  {
   "cell_type": "code",
   "execution_count": 30,
   "metadata": {},
   "outputs": [],
   "source": [
    "dados_reais = dados_reais.drop('Booster %', axis=1)"
   ]
  },
  {
   "cell_type": "code",
   "execution_count": 31,
   "metadata": {},
   "outputs": [
    {
     "data": {
      "text/html": [
       "<div>\n",
       "<style scoped>\n",
       "    .dataframe tbody tr th:only-of-type {\n",
       "        vertical-align: middle;\n",
       "    }\n",
       "\n",
       "    .dataframe tbody tr th {\n",
       "        vertical-align: top;\n",
       "    }\n",
       "\n",
       "    .dataframe thead th {\n",
       "        text-align: right;\n",
       "    }\n",
       "</style>\n",
       "<table border=\"1\" class=\"dataframe\">\n",
       "  <thead>\n",
       "    <tr style=\"text-align: right;\">\n",
       "      <th></th>\n",
       "      <th>Game</th>\n",
       "      <th># Cards</th>\n",
       "      <th>Set Price</th>\n",
       "      <th>Price Diff</th>\n",
       "      <th>Card Avg</th>\n",
       "      <th>Booster Avg</th>\n",
       "      <th>Avg Qty</th>\n",
       "      <th>3 Card Avg</th>\n",
       "      <th>% C-B</th>\n",
       "    </tr>\n",
       "  </thead>\n",
       "  <tbody>\n",
       "    <tr>\n",
       "      <th>0</th>\n",
       "      <td>Moons of Madness</td>\n",
       "      <td>6</td>\n",
       "      <td>0.75</td>\n",
       "      <td>0.75</td>\n",
       "      <td>0.12</td>\n",
       "      <td>0.17</td>\n",
       "      <td>36</td>\n",
       "      <td>0.36</td>\n",
       "      <td>2.12</td>\n",
       "    </tr>\n",
       "    <tr>\n",
       "      <th>1</th>\n",
       "      <td>NEKO-NIN exHeart 3</td>\n",
       "      <td>6</td>\n",
       "      <td>1.00</td>\n",
       "      <td>1.00</td>\n",
       "      <td>0.17</td>\n",
       "      <td>0.18</td>\n",
       "      <td>45</td>\n",
       "      <td>0.51</td>\n",
       "      <td>2.83</td>\n",
       "    </tr>\n",
       "    <tr>\n",
       "      <th>2</th>\n",
       "      <td>Tangle Tower</td>\n",
       "      <td>11</td>\n",
       "      <td>8.37</td>\n",
       "      <td>8.37</td>\n",
       "      <td>0.76</td>\n",
       "      <td>0.60</td>\n",
       "      <td>5</td>\n",
       "      <td>2.28</td>\n",
       "      <td>3.80</td>\n",
       "    </tr>\n",
       "    <tr>\n",
       "      <th>3</th>\n",
       "      <td>Onii-chan Asobo</td>\n",
       "      <td>5</td>\n",
       "      <td>3.12</td>\n",
       "      <td>3.12</td>\n",
       "      <td>0.62</td>\n",
       "      <td>0.59</td>\n",
       "      <td>12</td>\n",
       "      <td>1.86</td>\n",
       "      <td>3.15</td>\n",
       "    </tr>\n",
       "    <tr>\n",
       "      <th>4</th>\n",
       "      <td>Children of Morta</td>\n",
       "      <td>5</td>\n",
       "      <td>0.45</td>\n",
       "      <td>0.45</td>\n",
       "      <td>0.09</td>\n",
       "      <td>0.08</td>\n",
       "      <td>56</td>\n",
       "      <td>0.27</td>\n",
       "      <td>3.38</td>\n",
       "    </tr>\n",
       "  </tbody>\n",
       "</table>\n",
       "</div>"
      ],
      "text/plain": [
       "                 Game  # Cards  Set Price  Price Diff  Card Avg  Booster Avg  \\\n",
       "0    Moons of Madness        6       0.75        0.75      0.12         0.17   \n",
       "1  NEKO-NIN exHeart 3        6       1.00        1.00      0.17         0.18   \n",
       "2        Tangle Tower       11       8.37        8.37      0.76         0.60   \n",
       "3     Onii-chan Asobo        5       3.12        3.12      0.62         0.59   \n",
       "4   Children of Morta        5       0.45        0.45      0.09         0.08   \n",
       "\n",
       "   Avg Qty  3 Card Avg  % C-B  \n",
       "0       36        0.36   2.12  \n",
       "1       45        0.51   2.83  \n",
       "2        5        2.28   3.80  \n",
       "3       12        1.86   3.15  \n",
       "4       56        0.27   3.38  "
      ]
     },
     "execution_count": 31,
     "metadata": {},
     "output_type": "execute_result"
    }
   ],
   "source": [
    "dados_reais.head()"
   ]
  },
  {
   "cell_type": "code",
   "execution_count": 32,
   "metadata": {},
   "outputs": [
    {
     "data": {
      "text/plain": [
       "count    8331.00\n",
       "mean         inf\n",
       "std          NaN\n",
       "min         0.00\n",
       "25%         2.50\n",
       "50%         3.64\n",
       "75%         4.80\n",
       "max          inf\n",
       "Name: % C-B, dtype: float64"
      ]
     },
     "execution_count": 32,
     "metadata": {},
     "output_type": "execute_result"
    }
   ],
   "source": [
    "dados_reais['% C-B'].describe()"
   ]
  },
  {
   "cell_type": "code",
   "execution_count": 35,
   "metadata": {},
   "outputs": [
    {
     "data": {
      "text/plain": [
       "<matplotlib.axes._subplots.AxesSubplot at 0x1810a740358>"
      ]
     },
     "execution_count": 35,
     "metadata": {},
     "output_type": "execute_result"
    },
    {
     "data": {
      "image/png": "[encoded data removed]",
      "text/plain": [
       "<Figure size 432x288 with 1 Axes>"
      ]
     },
     "metadata": {
      "needs_background": "light"
     },
     "output_type": "display_data"
    }
   ],
   "source": [
    "ax = sns.boxplot(dados_reais['% C-B'], showfliers=False)\n",
    "ax.set_title('Distribuição da proporção de Lucro - Compra, Abre e Vende', fontsize=20)\n",
    "ax.set_xlabel('Proporção de Lucro', fontsize=12)\n",
    "ax"
   ]
  },
  {
   "cell_type": "markdown",
   "metadata": {},
   "source": [
    "### O interessante desta análise é que a grande maioria da informação coletada diz que o Boosters estão em sua grande maioria dando um lucro de mais do que o dobro"
   ]
  },
  {
   "cell_type": "code",
   "execution_count": null,
   "metadata": {},
   "outputs": [],
   "source": []
  }
 ],
 "metadata": {
  "kernelspec": {
   "display_name": "Python 3",
   "language": "python",
   "name": "python3"
  },
  "language_info": {
   "codemirror_mode": {
    "name": "ipython",
    "version": 3
   },
   "file_extension": ".py",
   "mimetype": "text/x-python",
   "name": "python",
   "nbconvert_exporter": "python",
   "pygments_lexer": "ipython3",
   "version": "3.7.3"
  }
 },
 "nbformat": 4,
 "nbformat_minor": 2
}
