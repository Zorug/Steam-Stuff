{
 "cells": [
  {
   "cell_type": "markdown",
   "metadata": {},
   "source": [
    "# Exemplo de tratamento de dados: Steam"
   ]
  },
  {
   "cell_type": "code",
   "execution_count": 1,
   "metadata": {},
   "outputs": [
    {
     "data": {
      "text/html": [
       "<div>\n",
       "<style scoped>\n",
       "    .dataframe tbody tr th:only-of-type {\n",
       "        vertical-align: middle;\n",
       "    }\n",
       "\n",
       "    .dataframe tbody tr th {\n",
       "        vertical-align: top;\n",
       "    }\n",
       "\n",
       "    .dataframe thead th {\n",
       "        text-align: right;\n",
       "    }\n",
       "</style>\n",
       "<table border=\"1\" class=\"dataframe\">\n",
       "  <thead>\n",
       "    <tr style=\"text-align: right;\">\n",
       "      <th></th>\n",
       "      <th>Game</th>\n",
       "      <th># Owned</th>\n",
       "      <th># Unique</th>\n",
       "      <th># Cards</th>\n",
       "      <th>Badge Lvl</th>\n",
       "      <th>Set Price</th>\n",
       "      <th>Price Diff</th>\n",
       "      <th>Card Avg</th>\n",
       "      <th>Booster Avg</th>\n",
       "      <th>Booster %</th>\n",
       "      <th>Emote Avg</th>\n",
       "      <th>BG Avg</th>\n",
       "      <th>Avg Qty</th>\n",
       "      <th>Discount</th>\n",
       "      <th>Added</th>\n",
       "      <th>AppId</th>\n",
       "    </tr>\n",
       "  </thead>\n",
       "  <tbody>\n",
       "    <tr>\n",
       "      <th>0</th>\n",
       "      <td>City Game Studio</td>\n",
       "      <td>0</td>\n",
       "      <td>0</td>\n",
       "      <td>12</td>\n",
       "      <td>0</td>\n",
       "      <td>1.25</td>\n",
       "      <td>1.25</td>\n",
       "      <td>0.10</td>\n",
       "      <td>NaN</td>\n",
       "      <td>0.0</td>\n",
       "      <td>0.00</td>\n",
       "      <td>0.00</td>\n",
       "      <td>17</td>\n",
       "      <td>0.52</td>\n",
       "      <td>2019-10-24</td>\n",
       "      <td>726840</td>\n",
       "    </tr>\n",
       "    <tr>\n",
       "      <th>1</th>\n",
       "      <td>Transport Services</td>\n",
       "      <td>0</td>\n",
       "      <td>0</td>\n",
       "      <td>5</td>\n",
       "      <td>0</td>\n",
       "      <td>1.85</td>\n",
       "      <td>1.85</td>\n",
       "      <td>0.37</td>\n",
       "      <td>NaN</td>\n",
       "      <td>0.0</td>\n",
       "      <td>0.00</td>\n",
       "      <td>0.00</td>\n",
       "      <td>4</td>\n",
       "      <td>0.97</td>\n",
       "      <td>2019-10-23</td>\n",
       "      <td>993690</td>\n",
       "    </tr>\n",
       "    <tr>\n",
       "      <th>2</th>\n",
       "      <td>Deadly Days</td>\n",
       "      <td>0</td>\n",
       "      <td>0</td>\n",
       "      <td>10</td>\n",
       "      <td>0</td>\n",
       "      <td>0.78</td>\n",
       "      <td>0.78</td>\n",
       "      <td>0.08</td>\n",
       "      <td>NaN</td>\n",
       "      <td>0.0</td>\n",
       "      <td>0.00</td>\n",
       "      <td>0.00</td>\n",
       "      <td>26</td>\n",
       "      <td>0.35</td>\n",
       "      <td>2019-10-22</td>\n",
       "      <td>740080</td>\n",
       "    </tr>\n",
       "    <tr>\n",
       "      <th>3</th>\n",
       "      <td>Moons of Madness</td>\n",
       "      <td>0</td>\n",
       "      <td>0</td>\n",
       "      <td>6</td>\n",
       "      <td>0</td>\n",
       "      <td>0.75</td>\n",
       "      <td>0.75</td>\n",
       "      <td>0.12</td>\n",
       "      <td>0.17</td>\n",
       "      <td>-41.7</td>\n",
       "      <td>0.00</td>\n",
       "      <td>0.00</td>\n",
       "      <td>36</td>\n",
       "      <td>0.31</td>\n",
       "      <td>2019-10-22</td>\n",
       "      <td>1012840</td>\n",
       "    </tr>\n",
       "    <tr>\n",
       "      <th>4</th>\n",
       "      <td>NEKO-NIN exHeart 3</td>\n",
       "      <td>0</td>\n",
       "      <td>0</td>\n",
       "      <td>6</td>\n",
       "      <td>0</td>\n",
       "      <td>1.00</td>\n",
       "      <td>1.00</td>\n",
       "      <td>0.17</td>\n",
       "      <td>0.18</td>\n",
       "      <td>-5.9</td>\n",
       "      <td>1.34</td>\n",
       "      <td>5.56</td>\n",
       "      <td>45</td>\n",
       "      <td>0.44</td>\n",
       "      <td>2019-10-21</td>\n",
       "      <td>1129250</td>\n",
       "    </tr>\n",
       "  </tbody>\n",
       "</table>\n",
       "</div>"
      ],
      "text/plain": [
       "                 Game  # Owned  # Unique  # Cards  Badge Lvl Set Price  \\\n",
       "0    City Game Studio        0         0       12          0      1.25   \n",
       "1  Transport Services        0         0        5          0      1.85   \n",
       "2         Deadly Days        0         0       10          0      0.78   \n",
       "3    Moons of Madness        0         0        6          0      0.75   \n",
       "4  NEKO-NIN exHeart 3        0         0        6          0      1.00   \n",
       "\n",
       "  Price Diff  Card Avg  Booster Avg Booster % Emote Avg BG Avg  Avg Qty  \\\n",
       "0       1.25      0.10          NaN       0.0      0.00   0.00       17   \n",
       "1       1.85      0.37          NaN       0.0      0.00   0.00        4   \n",
       "2       0.78      0.08          NaN       0.0      0.00   0.00       26   \n",
       "3       0.75      0.12         0.17     -41.7      0.00   0.00       36   \n",
       "4       1.00      0.17         0.18      -5.9      1.34   5.56       45   \n",
       "\n",
       "   Discount       Added    AppId  \n",
       "0      0.52  2019-10-24   726840  \n",
       "1      0.97  2019-10-23   993690  \n",
       "2      0.35  2019-10-22   740080  \n",
       "3      0.31  2019-10-22  1012840  \n",
       "4      0.44  2019-10-21  1129250  "
      ]
     },
     "execution_count": 1,
     "metadata": {},
     "output_type": "execute_result"
    }
   ],
   "source": [
    "import pandas as pd\n",
    "\n",
    "dados = pd.read_csv('STC_set_data.csv')\n",
    "dados.head()"
   ]
  },
  {
   "cell_type": "code",
   "execution_count": 2,
   "metadata": {},
   "outputs": [
    {
     "data": {
      "text/plain": [
       "9156"
      ]
     },
     "execution_count": 2,
     "metadata": {},
     "output_type": "execute_result"
    }
   ],
   "source": [
    "qnt_de_itens_inicial = dados.shape[0]\n",
    "qnt_de_itens_inicial"
   ]
  },
  {
   "cell_type": "markdown",
   "metadata": {},
   "source": [
    "## Remover os dados inúteis para o tratamento (trabalharemos com cartas e boosters)"
   ]
  },
  {
   "cell_type": "code",
   "execution_count": 3,
   "metadata": {},
   "outputs": [
    {
     "data": {
      "text/html": [
       "<div>\n",
       "<style scoped>\n",
       "    .dataframe tbody tr th:only-of-type {\n",
       "        vertical-align: middle;\n",
       "    }\n",
       "\n",
       "    .dataframe tbody tr th {\n",
       "        vertical-align: top;\n",
       "    }\n",
       "\n",
       "    .dataframe thead th {\n",
       "        text-align: right;\n",
       "    }\n",
       "</style>\n",
       "<table border=\"1\" class=\"dataframe\">\n",
       "  <thead>\n",
       "    <tr style=\"text-align: right;\">\n",
       "      <th></th>\n",
       "      <th>Game</th>\n",
       "      <th># Cards</th>\n",
       "      <th>Set Price</th>\n",
       "      <th>Price Diff</th>\n",
       "      <th>Card Avg</th>\n",
       "      <th>Booster Avg</th>\n",
       "      <th>Booster %</th>\n",
       "      <th>Avg Qty</th>\n",
       "      <th>AppId</th>\n",
       "    </tr>\n",
       "  </thead>\n",
       "  <tbody>\n",
       "    <tr>\n",
       "      <th>0</th>\n",
       "      <td>City Game Studio</td>\n",
       "      <td>12</td>\n",
       "      <td>1.25</td>\n",
       "      <td>1.25</td>\n",
       "      <td>0.10</td>\n",
       "      <td>NaN</td>\n",
       "      <td>0.0</td>\n",
       "      <td>17</td>\n",
       "      <td>726840</td>\n",
       "    </tr>\n",
       "    <tr>\n",
       "      <th>1</th>\n",
       "      <td>Transport Services</td>\n",
       "      <td>5</td>\n",
       "      <td>1.85</td>\n",
       "      <td>1.85</td>\n",
       "      <td>0.37</td>\n",
       "      <td>NaN</td>\n",
       "      <td>0.0</td>\n",
       "      <td>4</td>\n",
       "      <td>993690</td>\n",
       "    </tr>\n",
       "    <tr>\n",
       "      <th>2</th>\n",
       "      <td>Deadly Days</td>\n",
       "      <td>10</td>\n",
       "      <td>0.78</td>\n",
       "      <td>0.78</td>\n",
       "      <td>0.08</td>\n",
       "      <td>NaN</td>\n",
       "      <td>0.0</td>\n",
       "      <td>26</td>\n",
       "      <td>740080</td>\n",
       "    </tr>\n",
       "    <tr>\n",
       "      <th>3</th>\n",
       "      <td>Moons of Madness</td>\n",
       "      <td>6</td>\n",
       "      <td>0.75</td>\n",
       "      <td>0.75</td>\n",
       "      <td>0.12</td>\n",
       "      <td>0.17</td>\n",
       "      <td>-41.7</td>\n",
       "      <td>36</td>\n",
       "      <td>1012840</td>\n",
       "    </tr>\n",
       "    <tr>\n",
       "      <th>4</th>\n",
       "      <td>NEKO-NIN exHeart 3</td>\n",
       "      <td>6</td>\n",
       "      <td>1.00</td>\n",
       "      <td>1.00</td>\n",
       "      <td>0.17</td>\n",
       "      <td>0.18</td>\n",
       "      <td>-5.9</td>\n",
       "      <td>45</td>\n",
       "      <td>1129250</td>\n",
       "    </tr>\n",
       "  </tbody>\n",
       "</table>\n",
       "</div>"
      ],
      "text/plain": [
       "                 Game  # Cards Set Price Price Diff  Card Avg  Booster Avg  \\\n",
       "0    City Game Studio       12      1.25       1.25      0.10          NaN   \n",
       "1  Transport Services        5      1.85       1.85      0.37          NaN   \n",
       "2         Deadly Days       10      0.78       0.78      0.08          NaN   \n",
       "3    Moons of Madness        6      0.75       0.75      0.12         0.17   \n",
       "4  NEKO-NIN exHeart 3        6      1.00       1.00      0.17         0.18   \n",
       "\n",
       "  Booster %  Avg Qty    AppId  \n",
       "0       0.0       17   726840  \n",
       "1       0.0        4   993690  \n",
       "2       0.0       26   740080  \n",
       "3     -41.7       36  1012840  \n",
       "4      -5.9       45  1129250  "
      ]
     },
     "execution_count": 3,
     "metadata": {},
     "output_type": "execute_result"
    }
   ],
   "source": [
    "dados = dados.drop([\"# Owned\", \"# Unique\", \"Badge Lvl\", \"Emote Avg\", \"BG Avg\", \"Added\", \"Discount\"], axis=1)\n",
    "dados.head()"
   ]
  },
  {
   "cell_type": "markdown",
   "metadata": {},
   "source": [
    "## Verificar os tipos presentes nas colunas estão aceitáveis:"
   ]
  },
  {
   "cell_type": "code",
   "execution_count": 4,
   "metadata": {},
   "outputs": [
    {
     "data": {
      "text/plain": [
       "Game            object\n",
       "# Cards          int64\n",
       "Set Price       object\n",
       "Price Diff      object\n",
       "Card Avg       float64\n",
       "Booster Avg    float64\n",
       "Booster %       object\n",
       "Avg Qty          int64\n",
       "AppId            int64\n",
       "dtype: object"
      ]
     },
     "execution_count": 4,
     "metadata": {},
     "output_type": "execute_result"
    }
   ],
   "source": [
    "formato_dos_dados = dados.dtypes\n",
    "formato_dos_dados"
   ]
  },
  {
   "cell_type": "markdown",
   "metadata": {},
   "source": [
    "#### É necessário fazer as seguintes conversões de tipos para trabalhar:\n",
    "- 1. 'Set Price', 'Price Diff' e 'Booster %' devem ser do tipo float. Para Evitar erro de conversão é necessário substituir o caractere ',' por '' (espaço vazio)\n",
    "- 2. 'AppId' por ser um código de identificação deve ser do tipo string para evitar problemas"
   ]
  },
  {
   "cell_type": "code",
   "execution_count": 5,
   "metadata": {},
   "outputs": [],
   "source": [
    "def remove_virgula_perdida(sentenca):\n",
    "    sentenca = sentenca.replace(',','')\n",
    "    return sentenca"
   ]
  },
  {
   "cell_type": "code",
   "execution_count": 6,
   "metadata": {},
   "outputs": [],
   "source": [
    "para_float = ['Set Price', 'Price Diff', 'Booster %']\n",
    "\n",
    "for coluna in dados[para_float]:\n",
    "    dados[coluna] = dados[coluna].apply(remove_virgula_perdida)\n",
    "    \n",
    "dados[para_float] = dados[para_float].astype('float64')\n",
    "dados['AppId'] = dados['AppId'].astype('object')"
   ]
  },
  {
   "cell_type": "code",
   "execution_count": 7,
   "metadata": {},
   "outputs": [
    {
     "data": {
      "text/plain": [
       "Game            object\n",
       "# Cards          int64\n",
       "Set Price      float64\n",
       "Price Diff     float64\n",
       "Card Avg       float64\n",
       "Booster Avg    float64\n",
       "Booster %      float64\n",
       "Avg Qty          int64\n",
       "AppId           object\n",
       "dtype: object"
      ]
     },
     "execution_count": 7,
     "metadata": {},
     "output_type": "execute_result"
    }
   ],
   "source": [
    "dados.dtypes"
   ]
  },
  {
   "cell_type": "code",
   "execution_count": 8,
   "metadata": {},
   "outputs": [
    {
     "data": {
      "text/html": [
       "<div>\n",
       "<style scoped>\n",
       "    .dataframe tbody tr th:only-of-type {\n",
       "        vertical-align: middle;\n",
       "    }\n",
       "\n",
       "    .dataframe tbody tr th {\n",
       "        vertical-align: top;\n",
       "    }\n",
       "\n",
       "    .dataframe thead th {\n",
       "        text-align: right;\n",
       "    }\n",
       "</style>\n",
       "<table border=\"1\" class=\"dataframe\">\n",
       "  <thead>\n",
       "    <tr style=\"text-align: right;\">\n",
       "      <th></th>\n",
       "      <th>Game</th>\n",
       "      <th># Cards</th>\n",
       "      <th>Set Price</th>\n",
       "      <th>Price Diff</th>\n",
       "      <th>Card Avg</th>\n",
       "      <th>Booster Avg</th>\n",
       "      <th>Booster %</th>\n",
       "      <th>Avg Qty</th>\n",
       "      <th>AppId</th>\n",
       "    </tr>\n",
       "  </thead>\n",
       "  <tbody>\n",
       "    <tr>\n",
       "      <th>0</th>\n",
       "      <td>City Game Studio</td>\n",
       "      <td>12</td>\n",
       "      <td>1.25</td>\n",
       "      <td>1.25</td>\n",
       "      <td>0.10</td>\n",
       "      <td>NaN</td>\n",
       "      <td>0.0</td>\n",
       "      <td>17</td>\n",
       "      <td>726840</td>\n",
       "    </tr>\n",
       "    <tr>\n",
       "      <th>1</th>\n",
       "      <td>Transport Services</td>\n",
       "      <td>5</td>\n",
       "      <td>1.85</td>\n",
       "      <td>1.85</td>\n",
       "      <td>0.37</td>\n",
       "      <td>NaN</td>\n",
       "      <td>0.0</td>\n",
       "      <td>4</td>\n",
       "      <td>993690</td>\n",
       "    </tr>\n",
       "    <tr>\n",
       "      <th>2</th>\n",
       "      <td>Deadly Days</td>\n",
       "      <td>10</td>\n",
       "      <td>0.78</td>\n",
       "      <td>0.78</td>\n",
       "      <td>0.08</td>\n",
       "      <td>NaN</td>\n",
       "      <td>0.0</td>\n",
       "      <td>26</td>\n",
       "      <td>740080</td>\n",
       "    </tr>\n",
       "    <tr>\n",
       "      <th>3</th>\n",
       "      <td>Moons of Madness</td>\n",
       "      <td>6</td>\n",
       "      <td>0.75</td>\n",
       "      <td>0.75</td>\n",
       "      <td>0.12</td>\n",
       "      <td>0.17</td>\n",
       "      <td>-41.7</td>\n",
       "      <td>36</td>\n",
       "      <td>1012840</td>\n",
       "    </tr>\n",
       "    <tr>\n",
       "      <th>4</th>\n",
       "      <td>NEKO-NIN exHeart 3</td>\n",
       "      <td>6</td>\n",
       "      <td>1.00</td>\n",
       "      <td>1.00</td>\n",
       "      <td>0.17</td>\n",
       "      <td>0.18</td>\n",
       "      <td>-5.9</td>\n",
       "      <td>45</td>\n",
       "      <td>1129250</td>\n",
       "    </tr>\n",
       "  </tbody>\n",
       "</table>\n",
       "</div>"
      ],
      "text/plain": [
       "                 Game  # Cards  Set Price  Price Diff  Card Avg  Booster Avg  \\\n",
       "0    City Game Studio       12       1.25        1.25      0.10          NaN   \n",
       "1  Transport Services        5       1.85        1.85      0.37          NaN   \n",
       "2         Deadly Days       10       0.78        0.78      0.08          NaN   \n",
       "3    Moons of Madness        6       0.75        0.75      0.12         0.17   \n",
       "4  NEKO-NIN exHeart 3        6       1.00        1.00      0.17         0.18   \n",
       "\n",
       "   Booster %  Avg Qty    AppId  \n",
       "0        0.0       17   726840  \n",
       "1        0.0        4   993690  \n",
       "2        0.0       26   740080  \n",
       "3      -41.7       36  1012840  \n",
       "4       -5.9       45  1129250  "
      ]
     },
     "execution_count": 8,
     "metadata": {},
     "output_type": "execute_result"
    }
   ],
   "source": [
    "dados.head()"
   ]
  },
  {
   "cell_type": "markdown",
   "metadata": {},
   "source": [
    "## É possível observar na tabela que alguns valores de 'Booster Avg' não estão presentes o que afeta diretamente a nossa análise. Portanto, faremos uma separação destes dados NaN para comparar"
   ]
  },
  {
   "cell_type": "code",
   "execution_count": 9,
   "metadata": {},
   "outputs": [
    {
     "data": {
      "text/plain": [
       "0.03    0.150939\n",
       "0.04    0.125382\n",
       "NaN     0.090105\n",
       "0.05    0.086501\n",
       "0.06    0.063893\n",
       "0.08    0.042267\n",
       "0.09    0.038008\n",
       "0.02    0.033967\n",
       "0.10    0.032438\n",
       "0.07    0.032219\n",
       "Name: Booster Avg, dtype: float64"
      ]
     },
     "execution_count": 9,
     "metadata": {},
     "output_type": "execute_result"
    }
   ],
   "source": [
    "dist_valores_boosters = dados['Booster Avg'].value_counts(normalize = True, dropna = False)\n",
    "dist_valores_boosters.head(10)"
   ]
  },
  {
   "cell_type": "markdown",
   "metadata": {},
   "source": [
    "9% não possuem dados de entrada de média de booster, isso acontece por eles estarem raros, não possuindo ofertas no mercado"
   ]
  },
  {
   "cell_type": "code",
   "execution_count": 10,
   "metadata": {},
   "outputs": [],
   "source": [
    "dados['Existe Booster'] = ~dados['Booster Avg'].isnull()"
   ]
  },
  {
   "cell_type": "code",
   "execution_count": 11,
   "metadata": {},
   "outputs": [
    {
     "data": {
      "text/html": [
       "<div>\n",
       "<style scoped>\n",
       "    .dataframe tbody tr th:only-of-type {\n",
       "        vertical-align: middle;\n",
       "    }\n",
       "\n",
       "    .dataframe tbody tr th {\n",
       "        vertical-align: top;\n",
       "    }\n",
       "\n",
       "    .dataframe thead th {\n",
       "        text-align: right;\n",
       "    }\n",
       "</style>\n",
       "<table border=\"1\" class=\"dataframe\">\n",
       "  <thead>\n",
       "    <tr style=\"text-align: right;\">\n",
       "      <th></th>\n",
       "      <th>Game</th>\n",
       "      <th># Cards</th>\n",
       "      <th>Set Price</th>\n",
       "      <th>Price Diff</th>\n",
       "      <th>Card Avg</th>\n",
       "      <th>Booster Avg</th>\n",
       "      <th>Booster %</th>\n",
       "      <th>Avg Qty</th>\n",
       "      <th>AppId</th>\n",
       "      <th>Existe Booster</th>\n",
       "    </tr>\n",
       "  </thead>\n",
       "  <tbody>\n",
       "    <tr>\n",
       "      <th>0</th>\n",
       "      <td>City Game Studio</td>\n",
       "      <td>12</td>\n",
       "      <td>1.25</td>\n",
       "      <td>1.25</td>\n",
       "      <td>0.10</td>\n",
       "      <td>NaN</td>\n",
       "      <td>0.0</td>\n",
       "      <td>17</td>\n",
       "      <td>726840</td>\n",
       "      <td>False</td>\n",
       "    </tr>\n",
       "    <tr>\n",
       "      <th>1</th>\n",
       "      <td>Transport Services</td>\n",
       "      <td>5</td>\n",
       "      <td>1.85</td>\n",
       "      <td>1.85</td>\n",
       "      <td>0.37</td>\n",
       "      <td>NaN</td>\n",
       "      <td>0.0</td>\n",
       "      <td>4</td>\n",
       "      <td>993690</td>\n",
       "      <td>False</td>\n",
       "    </tr>\n",
       "    <tr>\n",
       "      <th>2</th>\n",
       "      <td>Deadly Days</td>\n",
       "      <td>10</td>\n",
       "      <td>0.78</td>\n",
       "      <td>0.78</td>\n",
       "      <td>0.08</td>\n",
       "      <td>NaN</td>\n",
       "      <td>0.0</td>\n",
       "      <td>26</td>\n",
       "      <td>740080</td>\n",
       "      <td>False</td>\n",
       "    </tr>\n",
       "    <tr>\n",
       "      <th>3</th>\n",
       "      <td>Moons of Madness</td>\n",
       "      <td>6</td>\n",
       "      <td>0.75</td>\n",
       "      <td>0.75</td>\n",
       "      <td>0.12</td>\n",
       "      <td>0.17</td>\n",
       "      <td>-41.7</td>\n",
       "      <td>36</td>\n",
       "      <td>1012840</td>\n",
       "      <td>True</td>\n",
       "    </tr>\n",
       "    <tr>\n",
       "      <th>4</th>\n",
       "      <td>NEKO-NIN exHeart 3</td>\n",
       "      <td>6</td>\n",
       "      <td>1.00</td>\n",
       "      <td>1.00</td>\n",
       "      <td>0.17</td>\n",
       "      <td>0.18</td>\n",
       "      <td>-5.9</td>\n",
       "      <td>45</td>\n",
       "      <td>1129250</td>\n",
       "      <td>True</td>\n",
       "    </tr>\n",
       "  </tbody>\n",
       "</table>\n",
       "</div>"
      ],
      "text/plain": [
       "                 Game  # Cards  Set Price  Price Diff  Card Avg  Booster Avg  \\\n",
       "0    City Game Studio       12       1.25        1.25      0.10          NaN   \n",
       "1  Transport Services        5       1.85        1.85      0.37          NaN   \n",
       "2         Deadly Days       10       0.78        0.78      0.08          NaN   \n",
       "3    Moons of Madness        6       0.75        0.75      0.12         0.17   \n",
       "4  NEKO-NIN exHeart 3        6       1.00        1.00      0.17         0.18   \n",
       "\n",
       "   Booster %  Avg Qty    AppId  Existe Booster  \n",
       "0        0.0       17   726840           False  \n",
       "1        0.0        4   993690           False  \n",
       "2        0.0       26   740080           False  \n",
       "3      -41.7       36  1012840            True  \n",
       "4       -5.9       45  1129250            True  "
      ]
     },
     "execution_count": 11,
     "metadata": {},
     "output_type": "execute_result"
    }
   ],
   "source": [
    "dados.head()"
   ]
  },
  {
   "cell_type": "code",
   "execution_count": 12,
   "metadata": {},
   "outputs": [],
   "source": [
    "dados_nulos = dados[dados['Booster Avg'].isnull()]\n",
    "dados_reais = dados[~dados['Booster Avg'].isnull()]"
   ]
  },
  {
   "cell_type": "code",
   "execution_count": 13,
   "metadata": {},
   "outputs": [
    {
     "data": {
      "text/plain": [
       "<matplotlib.axes._subplots.AxesSubplot at 0x1c6d2491978>"
      ]
     },
     "execution_count": 13,
     "metadata": {},
     "output_type": "execute_result"
    }
   ],
   "source": [
    "import seaborn as sns\n",
    "\n",
    "ax = sns.distplot(dados_reais['Booster Avg'])\n",
    "ax.figure.set_size_inches(12, 6)\n",
    "ax.set_title('Distribuição de Frequências Reais', fontsize=20)\n",
    "ax.set_ylabel('Distribuição de Frequências', fontsize=16)\n",
    "ax"
   ]
  },
  {
   "cell_type": "markdown",
   "metadata": {},
   "source": [
    "# Vamos começar comparando os reais e nulos:"
   ]
  },
  {
   "cell_type": "code",
   "execution_count": 14,
   "metadata": {},
   "outputs": [
    {
     "data": {
      "text/html": [
       "<div>\n",
       "<style scoped>\n",
       "    .dataframe tbody tr th:only-of-type {\n",
       "        vertical-align: middle;\n",
       "    }\n",
       "\n",
       "    .dataframe tbody tr th {\n",
       "        vertical-align: top;\n",
       "    }\n",
       "\n",
       "    .dataframe thead th {\n",
       "        text-align: right;\n",
       "    }\n",
       "</style>\n",
       "<table border=\"1\" class=\"dataframe\">\n",
       "  <thead>\n",
       "    <tr style=\"text-align: right;\">\n",
       "      <th></th>\n",
       "      <th># Cards</th>\n",
       "      <th>Set Price</th>\n",
       "      <th>Price Diff</th>\n",
       "      <th>Card Avg</th>\n",
       "      <th>Booster Avg</th>\n",
       "      <th>Booster %</th>\n",
       "      <th>Avg Qty</th>\n",
       "    </tr>\n",
       "  </thead>\n",
       "  <tbody>\n",
       "    <tr>\n",
       "      <th>count</th>\n",
       "      <td>825.00</td>\n",
       "      <td>825.00</td>\n",
       "      <td>825.00</td>\n",
       "      <td>825.00</td>\n",
       "      <td>0.0</td>\n",
       "      <td>825.0</td>\n",
       "      <td>825.00</td>\n",
       "    </tr>\n",
       "    <tr>\n",
       "      <th>mean</th>\n",
       "      <td>6.78</td>\n",
       "      <td>6.63</td>\n",
       "      <td>6.63</td>\n",
       "      <td>1.08</td>\n",
       "      <td>NaN</td>\n",
       "      <td>0.0</td>\n",
       "      <td>19.10</td>\n",
       "    </tr>\n",
       "    <tr>\n",
       "      <th>std</th>\n",
       "      <td>2.19</td>\n",
       "      <td>108.19</td>\n",
       "      <td>108.19</td>\n",
       "      <td>18.06</td>\n",
       "      <td>NaN</td>\n",
       "      <td>0.0</td>\n",
       "      <td>14.57</td>\n",
       "    </tr>\n",
       "    <tr>\n",
       "      <th>min</th>\n",
       "      <td>5.00</td>\n",
       "      <td>0.35</td>\n",
       "      <td>0.35</td>\n",
       "      <td>0.05</td>\n",
       "      <td>NaN</td>\n",
       "      <td>0.0</td>\n",
       "      <td>1.00</td>\n",
       "    </tr>\n",
       "    <tr>\n",
       "      <th>25%</th>\n",
       "      <td>5.00</td>\n",
       "      <td>0.78</td>\n",
       "      <td>0.78</td>\n",
       "      <td>0.12</td>\n",
       "      <td>NaN</td>\n",
       "      <td>0.0</td>\n",
       "      <td>11.00</td>\n",
       "    </tr>\n",
       "    <tr>\n",
       "      <th>50%</th>\n",
       "      <td>6.00</td>\n",
       "      <td>1.09</td>\n",
       "      <td>1.09</td>\n",
       "      <td>0.17</td>\n",
       "      <td>NaN</td>\n",
       "      <td>0.0</td>\n",
       "      <td>17.00</td>\n",
       "    </tr>\n",
       "    <tr>\n",
       "      <th>75%</th>\n",
       "      <td>8.00</td>\n",
       "      <td>1.60</td>\n",
       "      <td>1.60</td>\n",
       "      <td>0.26</td>\n",
       "      <td>NaN</td>\n",
       "      <td>0.0</td>\n",
       "      <td>24.00</td>\n",
       "    </tr>\n",
       "    <tr>\n",
       "      <th>max</th>\n",
       "      <td>15.00</td>\n",
       "      <td>3065.79</td>\n",
       "      <td>3065.79</td>\n",
       "      <td>510.97</td>\n",
       "      <td>NaN</td>\n",
       "      <td>0.0</td>\n",
       "      <td>186.00</td>\n",
       "    </tr>\n",
       "  </tbody>\n",
       "</table>\n",
       "</div>"
      ],
      "text/plain": [
       "       # Cards  Set Price  Price Diff  Card Avg  Booster Avg  Booster %  \\\n",
       "count   825.00     825.00      825.00    825.00          0.0      825.0   \n",
       "mean      6.78       6.63        6.63      1.08          NaN        0.0   \n",
       "std       2.19     108.19      108.19     18.06          NaN        0.0   \n",
       "min       5.00       0.35        0.35      0.05          NaN        0.0   \n",
       "25%       5.00       0.78        0.78      0.12          NaN        0.0   \n",
       "50%       6.00       1.09        1.09      0.17          NaN        0.0   \n",
       "75%       8.00       1.60        1.60      0.26          NaN        0.0   \n",
       "max      15.00    3065.79     3065.79    510.97          NaN        0.0   \n",
       "\n",
       "       Avg Qty  \n",
       "count   825.00  \n",
       "mean     19.10  \n",
       "std      14.57  \n",
       "min       1.00  \n",
       "25%      11.00  \n",
       "50%      17.00  \n",
       "75%      24.00  \n",
       "max     186.00  "
      ]
     },
     "execution_count": 14,
     "metadata": {},
     "output_type": "execute_result"
    }
   ],
   "source": [
    "round(dados_nulos.describe(),2)"
   ]
  },
  {
   "cell_type": "markdown",
   "metadata": {},
   "source": [
    "Não há motivos para mantermos as colunas 'Booster Avg' e 'Booster %' nesta análise pois ambos são nulos, então como critério de comparação será removido da tabela de reais também. O price Diff também é dependente de um desses valores anulados, logo remove-se também"
   ]
  },
  {
   "cell_type": "code",
   "execution_count": 15,
   "metadata": {},
   "outputs": [],
   "source": [
    "dados_nulos_reduzidos = dados_nulos.drop([\"Booster Avg\", \"Booster %\", \"Price Diff\"], axis=1)\n",
    "dados_reais_reduzidos = dados_reais.drop([\"Booster Avg\", \"Booster %\", \"Price Diff\"], axis=1)"
   ]
  },
  {
   "cell_type": "code",
   "execution_count": 16,
   "metadata": {},
   "outputs": [
    {
     "data": {
      "text/html": [
       "<div>\n",
       "<style scoped>\n",
       "    .dataframe tbody tr th:only-of-type {\n",
       "        vertical-align: middle;\n",
       "    }\n",
       "\n",
       "    .dataframe tbody tr th {\n",
       "        vertical-align: top;\n",
       "    }\n",
       "\n",
       "    .dataframe thead th {\n",
       "        text-align: right;\n",
       "    }\n",
       "</style>\n",
       "<table border=\"1\" class=\"dataframe\">\n",
       "  <thead>\n",
       "    <tr style=\"text-align: right;\">\n",
       "      <th></th>\n",
       "      <th># Cards</th>\n",
       "      <th>Set Price</th>\n",
       "      <th>Card Avg</th>\n",
       "      <th>Avg Qty</th>\n",
       "    </tr>\n",
       "  </thead>\n",
       "  <tbody>\n",
       "    <tr>\n",
       "      <th>mean</th>\n",
       "      <td>6.78</td>\n",
       "      <td>6.63</td>\n",
       "      <td>1.08</td>\n",
       "      <td>19.10</td>\n",
       "    </tr>\n",
       "    <tr>\n",
       "      <th>std</th>\n",
       "      <td>2.19</td>\n",
       "      <td>108.19</td>\n",
       "      <td>18.06</td>\n",
       "      <td>14.57</td>\n",
       "    </tr>\n",
       "    <tr>\n",
       "      <th>min</th>\n",
       "      <td>5.00</td>\n",
       "      <td>0.35</td>\n",
       "      <td>0.05</td>\n",
       "      <td>1.00</td>\n",
       "    </tr>\n",
       "    <tr>\n",
       "      <th>25%</th>\n",
       "      <td>5.00</td>\n",
       "      <td>0.78</td>\n",
       "      <td>0.12</td>\n",
       "      <td>11.00</td>\n",
       "    </tr>\n",
       "    <tr>\n",
       "      <th>50%</th>\n",
       "      <td>6.00</td>\n",
       "      <td>1.09</td>\n",
       "      <td>0.17</td>\n",
       "      <td>17.00</td>\n",
       "    </tr>\n",
       "    <tr>\n",
       "      <th>75%</th>\n",
       "      <td>8.00</td>\n",
       "      <td>1.60</td>\n",
       "      <td>0.26</td>\n",
       "      <td>24.00</td>\n",
       "    </tr>\n",
       "    <tr>\n",
       "      <th>max</th>\n",
       "      <td>15.00</td>\n",
       "      <td>3065.79</td>\n",
       "      <td>510.97</td>\n",
       "      <td>186.00</td>\n",
       "    </tr>\n",
       "  </tbody>\n",
       "</table>\n",
       "</div>"
      ],
      "text/plain": [
       "      # Cards  Set Price  Card Avg  Avg Qty\n",
       "mean     6.78       6.63      1.08    19.10\n",
       "std      2.19     108.19     18.06    14.57\n",
       "min      5.00       0.35      0.05     1.00\n",
       "25%      5.00       0.78      0.12    11.00\n",
       "50%      6.00       1.09      0.17    17.00\n",
       "75%      8.00       1.60      0.26    24.00\n",
       "max     15.00    3065.79    510.97   186.00"
      ]
     },
     "execution_count": 16,
     "metadata": {},
     "output_type": "execute_result"
    }
   ],
   "source": [
    "round(dados_nulos_reduzidos.describe()[1:],2)"
   ]
  },
  {
   "cell_type": "code",
   "execution_count": 17,
   "metadata": {},
   "outputs": [
    {
     "data": {
      "text/html": [
       "<div>\n",
       "<style scoped>\n",
       "    .dataframe tbody tr th:only-of-type {\n",
       "        vertical-align: middle;\n",
       "    }\n",
       "\n",
       "    .dataframe tbody tr th {\n",
       "        vertical-align: top;\n",
       "    }\n",
       "\n",
       "    .dataframe thead th {\n",
       "        text-align: right;\n",
       "    }\n",
       "</style>\n",
       "<table border=\"1\" class=\"dataframe\">\n",
       "  <thead>\n",
       "    <tr style=\"text-align: right;\">\n",
       "      <th></th>\n",
       "      <th># Cards</th>\n",
       "      <th>Set Price</th>\n",
       "      <th>Card Avg</th>\n",
       "      <th>Avg Qty</th>\n",
       "    </tr>\n",
       "  </thead>\n",
       "  <tbody>\n",
       "    <tr>\n",
       "      <th>mean</th>\n",
       "      <td>6.92</td>\n",
       "      <td>0.71</td>\n",
       "      <td>0.11</td>\n",
       "      <td>294.79</td>\n",
       "    </tr>\n",
       "    <tr>\n",
       "      <th>std</th>\n",
       "      <td>2.32</td>\n",
       "      <td>2.98</td>\n",
       "      <td>0.51</td>\n",
       "      <td>1210.38</td>\n",
       "    </tr>\n",
       "    <tr>\n",
       "      <th>min</th>\n",
       "      <td>4.00</td>\n",
       "      <td>0.24</td>\n",
       "      <td>0.03</td>\n",
       "      <td>2.00</td>\n",
       "    </tr>\n",
       "    <tr>\n",
       "      <th>25%</th>\n",
       "      <td>5.00</td>\n",
       "      <td>0.37</td>\n",
       "      <td>0.06</td>\n",
       "      <td>32.00</td>\n",
       "    </tr>\n",
       "    <tr>\n",
       "      <th>50%</th>\n",
       "      <td>6.00</td>\n",
       "      <td>0.48</td>\n",
       "      <td>0.07</td>\n",
       "      <td>67.00</td>\n",
       "    </tr>\n",
       "    <tr>\n",
       "      <th>75%</th>\n",
       "      <td>8.00</td>\n",
       "      <td>0.77</td>\n",
       "      <td>0.11</td>\n",
       "      <td>163.00</td>\n",
       "    </tr>\n",
       "    <tr>\n",
       "      <th>max</th>\n",
       "      <td>15.00</td>\n",
       "      <td>192.61</td>\n",
       "      <td>38.52</td>\n",
       "      <td>68369.00</td>\n",
       "    </tr>\n",
       "  </tbody>\n",
       "</table>\n",
       "</div>"
      ],
      "text/plain": [
       "      # Cards  Set Price  Card Avg   Avg Qty\n",
       "mean     6.92       0.71      0.11    294.79\n",
       "std      2.32       2.98      0.51   1210.38\n",
       "min      4.00       0.24      0.03      2.00\n",
       "25%      5.00       0.37      0.06     32.00\n",
       "50%      6.00       0.48      0.07     67.00\n",
       "75%      8.00       0.77      0.11    163.00\n",
       "max     15.00     192.61     38.52  68369.00"
      ]
     },
     "execution_count": 17,
     "metadata": {},
     "output_type": "execute_result"
    }
   ],
   "source": [
    "round(dados_reais_reduzidos.describe()[1:],2)"
   ]
  },
  {
   "cell_type": "code",
   "execution_count": 18,
   "metadata": {},
   "outputs": [
    {
     "data": {
      "text/plain": [
       "<matplotlib.axes._subplots.AxesSubplot at 0x1c6d2b64e80>"
      ]
     },
     "execution_count": 18,
     "metadata": {},
     "output_type": "execute_result"
    },
    {
     "data": {
      "image/png": "[encoded data removed]",
      "text/plain": [
       "<Figure size 864x432 with 1 Axes>"
      ]
     },
     "metadata": {
      "needs_background": "light"
     },
     "output_type": "display_data"
    }
   ],
   "source": [
    "ax = sns.boxplot(y='# Cards', x='Existe Booster', data=dados, orient='v', width=0.5) #orient é a horientação\n",
    "ax.figure.set_size_inches(12, 6)\n",
    "ax.set_title('# Cards', fontsize=20)\n",
    "ax.set_ylabel('# Cards', fontsize=16)\n",
    "ax.set_xlabel('Existe', fontsize=16)\n",
    "ax"
   ]
  },
  {
   "cell_type": "markdown",
   "metadata": {},
   "source": [
    "Aqui não vemos praticamente nenhuma diferença"
   ]
  },
  {
   "cell_type": "code",
   "execution_count": 19,
   "metadata": {},
   "outputs": [
    {
     "data": {
      "text/plain": [
       "<matplotlib.axes._subplots.AxesSubplot at 0x1c6d2be26a0>"
      ]
     },
     "execution_count": 19,
     "metadata": {},
     "output_type": "execute_result"
    },
    {
     "data": {
      "image/png": "[encoded data removed]",
      "text/plain": [
       "<Figure size 864x432 with 1 Axes>"
      ]
     },
     "metadata": {
      "needs_background": "light"
     },
     "output_type": "display_data"
    }
   ],
   "source": [
    "ax = sns.boxplot(y='Set Price', x='Existe Booster', data=dados, orient='v', width=0.5) #orient é a horientação\n",
    "ax.figure.set_size_inches(12, 6)\n",
    "ax.set_title('Set Price', fontsize=20)\n",
    "ax.set_ylabel('Set Price', fontsize=16)\n",
    "ax.set_xlabel('Existe', fontsize=16)\n",
    "ax"
   ]
  },
  {
   "cell_type": "code",
   "execution_count": 20,
   "metadata": {},
   "outputs": [],
   "source": [
    "outlier_set_price = dados_nulos[dados_nulos['Set Price'] == max(dados_nulos['Set Price'])]"
   ]
  },
  {
   "cell_type": "code",
   "execution_count": 25,
   "metadata": {},
   "outputs": [
    {
     "data": {
      "text/plain": [
       "2013"
      ]
     },
     "execution_count": 25,
     "metadata": {},
     "output_type": "execute_result"
    }
   ],
   "source": [
    "outlier_index = outlier_set_price.index[0]\n",
    "outlier_index"
   ]
  },
  {
   "cell_type": "code",
   "execution_count": 26,
   "metadata": {},
   "outputs": [],
   "source": [
    "dados_drop_1 = dados.drop(outlier_index)"
   ]
  },
  {
   "cell_type": "code",
   "execution_count": 27,
   "metadata": {},
   "outputs": [
    {
     "data": {
      "text/plain": [
       "<matplotlib.axes._subplots.AxesSubplot at 0x1c6d32889b0>"
      ]
     },
     "execution_count": 27,
     "metadata": {},
     "output_type": "execute_result"
    },
    {
     "data": {
      "image/png": "[encoded data removed]",
      "text/plain": [
       "<Figure size 864x432 with 1 Axes>"
      ]
     },
     "metadata": {
      "needs_background": "light"
     },
     "output_type": "display_data"
    }
   ],
   "source": [
    "ax = sns.boxplot(y='Set Price', x='Existe Booster', data=dados_drop_1, orient='v', width=0.5) #orient é a horientação\n",
    "ax.figure.set_size_inches(12, 6)\n",
    "ax.set_title('Set Price', fontsize=20)\n",
    "ax.set_ylabel('Set Price', fontsize=16)\n",
    "ax.set_xlabel('Existe', fontsize=16)\n",
    "ax"
   ]
  },
  {
   "cell_type": "code",
   "execution_count": null,
   "metadata": {},
   "outputs": [],
   "source": []
  }
 ],
 "metadata": {
  "kernelspec": {
   "display_name": "Python 3",
   "language": "python",
   "name": "python3"
  },
  "language_info": {
   "codemirror_mode": {
    "name": "ipython",
    "version": 3
   },
   "file_extension": ".py",
   "mimetype": "text/x-python",
   "name": "python",
   "nbconvert_exporter": "python",
   "pygments_lexer": "ipython3",
   "version": "3.7.3"
  }
 },
 "nbformat": 4,
 "nbformat_minor": 2
}
